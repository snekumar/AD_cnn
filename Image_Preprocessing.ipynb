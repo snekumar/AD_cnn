{
  "nbformat": 4,
  "nbformat_minor": 0,
  "metadata": {
    "colab": {
      "provenance": [],
      "collapsed_sections": [
        "ZXGitRlHRRz8",
        "tvMCC1iBJ0WN",
        "ls1uV9HWJ0Wv",
        "mehm-uCJfz6d",
        "PXBr-5cyJ0XC",
        "iALIGkoAJ0XR",
        "F88Ly_i8J0Xc",
        "gBbj-mnRJ0Xh",
        "iaVr6c6TJ0Xm",
        "WefWDPLyJ0Xt",
        "WoSL8VFEJ0X1",
        "XQM9vqZiQMI_",
        "SMVRkWNtQMJI",
        "kgjRq98IQMJV",
        "PBAaJBNIJ0YB",
        "EJ6eWElsJ0Wh",
        "FBNm9e6IQMHx",
        "Ph5Q-QenQMH1",
        "KIdHBiJZJ0YK"
      ],
      "include_colab_link": true
    },
    "language_info": {
      "codemirror_mode": {
        "name": "ipython",
        "version": 3
      },
      "file_extension": ".py",
      "mimetype": "text/x-python",
      "name": "python",
      "nbconvert_exporter": "python",
      "pygments_lexer": "ipython3",
      "version": "3.7.3"
    },
    "kernelspec": {
      "display_name": "Python 3",
      "language": "python",
      "name": "python3"
    }
  },
  "cells": [
    {
      "cell_type": "markdown",
      "metadata": {
        "id": "view-in-github",
        "colab_type": "text"
      },
      "source": [
        "<a href=\"https://colab.research.google.com/github/snekumar/AD_cnn/blob/main/Image_Preprocessing.ipynb\" target=\"_parent\"><img src=\"https://colab.research.google.com/assets/colab-badge.svg\" alt=\"Open In Colab\"/></a>"
      ]
    },
    {
      "cell_type": "markdown",
      "metadata": {
        "id": "bvYlVniDJ0Vp"
      },
      "source": [
        "\n",
        "\n",
        "* `SimpleITK` for managing `.nii` files.\n",
        "* `numpy` for matrix operations. It is neccesary for `SimpleITK` to work.\n",
        "* `pandas` for loading tables with basic information about the images, like their label.\n",
        "* `matplotlib` for image visualization.\n",
        "* `dltk.io.preprocessing` for some useful functions, like whitening.\n",
        "* `skimage.filters`, to try some filters on the images.\n",
        "* `os` for file interaction."
      ]
    },
    {
      "cell_type": "code",
      "metadata": {
        "id": "lDh8ZS9DJ0Vu"
      },
      "source": [
        "import SimpleITK as sitk\n",
        "import numpy as np\n",
        "import pandas as pd\n",
        "import matplotlib.pyplot as plt\n",
        "\n",
        "from dltk.io import preprocessing\n",
        "from skimage import filters\n",
        "\n",
        "import os"
      ],
      "execution_count": null,
      "outputs": []
    },
    {
      "cell_type": "code",
      "metadata": {
        "id": "Z_xmXHuOJ0Vr"
      },
      "source": [
        "# path to .nii file\n",
        "IMAGE = '/path/to/image/ADNI_XXXXX_XXXXX_XXXXX.nii'"
      ],
      "execution_count": null,
      "outputs": []
    },
    {
      "cell_type": "code",
      "metadata": {
        "id": "BDF94rfIJ0Vx"
      },
      "source": [
        "# load in sitk format\n",
        "sitk_image = sitk.ReadImage(IMAGE)\n",
        "# transform into a numpy array\n",
        "img = sitk.GetArrayFromImage(sitk_image)\n",
        "# check the final shape\n",
        "img.shape"
      ],
      "execution_count": null,
      "outputs": []
    },
    {
      "cell_type": "code",
      "metadata": {
        "id": "MddKmsrUJ0V6"
      },
      "source": [
        "plt.imshow(img[:, :, 70], cmap='gray')\n",
        "plt.show()"
      ],
      "execution_count": null,
      "outputs": []
    },
    {
      "cell_type": "code",
      "metadata": {
        "id": "gDZYS06IJ0WA"
      },
      "source": [
        "otsu = filters.threshold_otsu(img)\n",
        "otsu_img = img > otsu\n",
        "plt.imshow(otsu_img[:, :, 70], cmap='gray')\n",
        "plt.show()"
      ],
      "execution_count": null,
      "outputs": []
    },
    {
      "cell_type": "code",
      "metadata": {
        "id": "sK6RlbFQJ0V9"
      },
      "source": [
        "def resample_img(itk_image, out_spacing=[2.0, 2.0, 2.0]):\n",
        "    ''' This function resamples images to 2-mm isotropic voxels.\n",
        "\n",
        "        Parameters:\n",
        "            itk_image -- Image in simpleitk format, not a numpy array\n",
        "            out_spacing -- Space representation of each voxel\n",
        "\n",
        "        Returns:\n",
        "            Resulting image in simpleitk format, not a numpy array\n",
        "    '''\n",
        "\n",
        "    # Resample images to 2mm spacing with SimpleITK\n",
        "    original_spacing = itk_image.GetSpacing()\n",
        "    original_size = itk_image.GetSize()\n",
        "\n",
        "    out_size = [\n",
        "        int(np.round(original_size[0] * (original_spacing[0] / out_spacing[0]))),\n",
        "        int(np.round(original_size[1] * (original_spacing[1] / out_spacing[1]))),\n",
        "        int(np.round(original_size[2] * (original_spacing[2] / out_spacing[2])))]\n",
        "\n",
        "    resample = sitk.ResampleImageFilter()\n",
        "    resample.SetOutputSpacing(out_spacing)\n",
        "    resample.SetSize(out_size)\n",
        "    resample.SetOutputDirection(itk_image.GetDirection())\n",
        "    resample.SetOutputOrigin(itk_image.GetOrigin())\n",
        "    resample.SetTransform(sitk.Transform())\n",
        "    resample.SetDefaultPixelValue(itk_image.GetPixelIDValue())\n",
        "\n",
        "    resample.SetInterpolator(sitk.sitkBSpline)\n",
        "\n",
        "    return resample.Execute(itk_image)"
      ],
      "execution_count": null,
      "outputs": []
    },
    {
      "cell_type": "code",
      "metadata": {
        "id": "IHfYY57GJ0WC"
      },
      "source": [
        "res = resample_img(sitk_image)\n",
        "res_img = sitk.GetArrayFromImage(sitk_image)\n",
        "res_img = preprocessing.resize_image_with_crop_or_pad(res_img, img_size=(128, 192, 192), mode='symmetric')\n",
        "res_img = preprocessing.whitening(res_img)\n",
        "plt.imshow(res_img[:, 100, :], cmap='gray')\n",
        "plt.show()"
      ],
      "execution_count": null,
      "outputs": []
    },
    {
      "cell_type": "code",
      "metadata": {
        "id": "N9vSl_4tJ0WN"
      },
      "source": [
        "CN_FOLDER = 'CN'\n",
        "MCI_FOLDER = 'MCI'\n",
        "AD_FOLDER = 'AD'"
      ],
      "execution_count": null,
      "outputs": []
    },
    {
      "cell_type": "markdown",
      "metadata": {
        "id": "GqPweFUGJ0WP"
      },
      "source": [
        "Create a few constants with the images paths."
      ]
    },
    {
      "cell_type": "code",
      "metadata": {
        "id": "ZlF6Pn7qJ0WQ"
      },
      "source": [
        "# gdrive path, one for shell commands and the other with python format\n",
        "DRIVE_SHELL_PATH = '/path/to/gdrive/'\n",
        "DRIVE_PATH = '/path/to/gdrive/'\n",
        "\n",
        "# drive path for the folder with the skull stripped images\n",
        "DRIVE_SS_PATH = '/path/to/gdrive/skull_stripped/'\n",
        "# file path of the description file\n",
        "# it contains the information about the images\n",
        "DESCRIPTION_FILE = '/path/to/Description.csv'\n",
        "\n",
        "# dataset path, which in this case was stored in a external drive\n",
        "DATASET_PATH = '/path/to/organized/dataset'\n",
        "# raw directories where the images where previously organized\n",
        "DATASET_FOLDERS = ['1', '2', '3', '4', '5']"
      ],
      "execution_count": null,
      "outputs": []
    },
    {
      "cell_type": "markdown",
      "metadata": {
        "id": "Q8g1hYZvJ0WX"
      },
      "source": [
        "Open the `.csv` file with the main information about the dataset."
      ]
    },
    {
      "cell_type": "code",
      "metadata": {
        "id": "4XUSkSY7J0WY"
      },
      "source": [
        "description = pd.read_csv('/path/mydrive/')\n",
        "description.head()"
      ],
      "execution_count": null,
      "outputs": []
    },
    {
      "cell_type": "code",
      "metadata": {
        "id": "ZLMsNqGLJ0Wa"
      },
      "source": [
        "def process_and_upload(filename, path, skull_stripping=True, random_printing=False):\n",
        "    ''' Process the image name and copy the image to its\n",
        "        corresponding Google Drive folder.\n",
        "\n",
        "        Parameters:\n",
        "            filename -- Name of the image file (.nii)\n",
        "            path -- The path were the image is located\n",
        "            skull_stripping -- Whether or not to practice skull stripping\n",
        "                               (The skull stripping method is defined in the\n",
        "                               next section)\n",
        "            random_priting -- 10% possibilities of printing a horizontal cut\n",
        "                              useful to see if the skull stripping is working\n",
        "                              as expected\n",
        "    '''\n",
        "\n",
        "    # separte the name of the file by '_'\n",
        "    splitted_name = filename.strip().split('_')\n",
        "    # sometimes residual MacOS files appear; ignore them\n",
        "    if splitted_name[0] == '.': return\n",
        "\n",
        "    # save the image ID\n",
        "    image_ID = splitted_name[-1][1:-4]\n",
        "\n",
        "    # sometimes empty files appear, just ignore them\n",
        "    if image_ID == '': return\n",
        "    # transform the ID into a int64 numpy variable for indexing\n",
        "    image_ID = np.int64(image_ID)\n",
        "\n",
        "    # with the ID, index the information we need\n",
        "    row_index = description.index[description['Image Data ID'] == image_ID].tolist()[0]\n",
        "    # obtain the corresponding row in the dataframe\n",
        "    row = description.iloc[row_index]\n",
        "    # get the label\n",
        "    label = row['Group']\n",
        "\n",
        "    # prepare the origin path\n",
        "    complete_file_path = os.path.join(path, filename)\n",
        "\n",
        "    if skull_stripping:\n",
        "        complete_new_path = os.path.join(DRIVE_SS_PATH,\n",
        "                                         label,\n",
        "                                         filename)\n",
        "        skull_strip_nii(complete_file_path, complete_new_path)\n",
        "    else:\n",
        "        complete_new_path = os.path.join(DRIVE_SHELL_PATH, label)\n",
        "        # copy the image to the drive folder\n",
        "        ! cp $complete_file_path $complete_new_path\n",
        "\n",
        "    # print the image 10% of the time\n",
        "    if random_printing and np.random.randint(0, 101) > 90:\n",
        "        sitk_image = sitk.ReadImage(complete_new_path)\n",
        "        img = sitk.GetArrayFromImage(sitk_image)\n",
        "        plt.figure(figsize=(10,10))\n",
        "        plt.imshow(img[:, :, np.random.randint(70, 160)],\n",
        "                   cmap='gray')\n",
        "        plt.show()"
      ],
      "execution_count": null,
      "outputs": []
    },
    {
      "cell_type": "code",
      "metadata": {
        "id": "a1E2or-7J0Wc"
      },
      "source": [
        "exceptions = []\n",
        "for subdir in DATASET_FOLDERS:\n",
        "    for path, dirs, files in os.walk(DATASET_PATH + subdir):\n",
        "        if files:\n",
        "            for file in files:\n",
        "                try:\n",
        "                    process_and_upload(file, path,\n",
        "                                       skull_stripping=False,\n",
        "                                       random_printing=True)\n",
        "                except RuntimeError:\n",
        "                    exceptions.append(os.path.join(path, file))"
      ],
      "execution_count": null,
      "outputs": []
    },
    {
      "cell_type": "markdown",
      "metadata": {
        "id": "ls1uV9HWJ0Wv"
      },
      "source": [
        "---\n",
        "\n",
        "## Image registration"
      ]
    },
    {
      "cell_type": "markdown",
      "metadata": {
        "id": "mehm-uCJfz6d"
      },
      "source": [
        "### Testing\n",
        "\n",
        "In this section, the `SimpleElastix` package from the `SimpleITK` library is used to perform image registration. The installation of `SimpleElastix` is quite long, but necessary for this code to work.\n",
        "\n",
        "First, define the names and paths of several images."
      ]
    },
    {
      "cell_type": "code",
      "metadata": {
        "id": "Ov4Kh2JnJ0Ww"
      },
      "source": [
        "ROOT = '/path/to/root/directory'\n",
        "CN_IMGS = ['CN/someimage.nii',\n",
        "           'CN/someimage.nii',\n",
        "           'CN/someimage.nii']\n",
        "MCI_IMGS = ['MCI/someimage.nii',\n",
        "            'MCI/someimage.nii',\n",
        "            'MCI/someimage.nii']\n",
        "AD_IMGS = ['AD/someimage.nii',\n",
        "           'AD/someimage.nii',\n",
        "           'AD/someimage.nii']"
      ],
      "execution_count": null,
      "outputs": []
    },
    {
      "cell_type": "code",
      "metadata": {
        "id": "z2HJulY5J0Wy"
      },
      "source": [
        "sitk_moving = sitk.ReadImage(ROOT + CN_IMGS[0])\n",
        "sitk_fixed = sitk.ReadImage(ROOT + CN_IMGS[1])\n",
        "\n",
        "moving_img = sitk.GetArrayFromImage(sitk_moving)\n",
        "fixed_img = sitk.GetArrayFromImage(sitk_fixed)\n",
        "\n",
        "print('Fixed', fixed_img.shape)\n",
        "print('Moving', moving_img.shape)"
      ],
      "execution_count": null,
      "outputs": []
    },
    {
      "cell_type": "code",
      "metadata": {
        "id": "6hUmbkTyJ0W0"
      },
      "source": [
        "elastixImageFilter = sitk.ElastixImageFilter()\n",
        "elastixImageFilter.SetFixedImage(sitk_fixed)\n",
        "elastixImageFilter.SetMovingImage(sitk_moving)\n",
        "\n",
        "parameterMapVector = sitk.VectorOfParameterMap()\n",
        "parameterMapVector.append(sitk.GetDefaultParameterMap(\"affine\"))\n",
        "# the following line is used for non-rigid registration\n",
        "# it is commented because it is very slow and not very useful\n",
        "#parameterMapVector.append(sitk.GetDefaultParameterMap(\"bspline\"))\n",
        "elastixImageFilter.SetParameterMap(parameterMapVector)\n",
        "\n",
        "elastixImageFilter.Execute()\n",
        "result = elastixImageFilter.GetResultImage()"
      ],
      "execution_count": null,
      "outputs": []
    },
    {
      "cell_type": "code",
      "metadata": {
        "id": "FNkQ4gT0J0W2"
      },
      "source": [
        "img = sitk.GetArrayFromImage(result)\n",
        "img.shape"
      ],
      "execution_count": null,
      "outputs": []
    },
    {
      "cell_type": "code",
      "metadata": {
        "id": "x692DSvLJ0W4"
      },
      "source": [
        "plt.figure(figsize=(10, 10))\n",
        "plt.imshow(img[:, :, 100], cmap='gray')\n",
        "plt.show()"
      ],
      "execution_count": null,
      "outputs": []
    },
    {
      "cell_type": "code",
      "metadata": {
        "id": "kIqAS5BQJ0W5"
      },
      "source": [
        "plt.figure(figsize=(10, 10))\n",
        "plt.imshow(moving_img[:, :, 136], cmap='gray')\n",
        "plt.show()"
      ],
      "execution_count": null,
      "outputs": []
    },
    {
      "cell_type": "code",
      "metadata": {
        "id": "TyRDNxGlJ0W9"
      },
      "source": [
        "def registrate(sitk_fixed, sitk_moving, bspline=False):\n",
        "    ''' Perform image registration using SimpleElastix.\n",
        "        By default, uses affine transformation.\n",
        "\n",
        "        Parameters:\n",
        "            sitk_fixed -- Reference atlas (sitk .nii)\n",
        "            sitk_moving -- Image to be registrated\n",
        "                           (sitk .nii)\n",
        "            bspline -- Whether or not to perform non-rigid\n",
        "                       registration. Note: it usually deforms\n",
        "                       the images and takes a lot of time\n",
        "    '''\n",
        "\n",
        "    elastixImageFilter = sitk.ElastixImageFilter()\n",
        "    elastixImageFilter.SetFixedImage(sitk_fixed)\n",
        "    elastixImageFilter.SetMovingImage(sitk_moving)\n",
        "\n",
        "    parameterMapVector = sitk.VectorOfParameterMap()\n",
        "    parameterMapVector.append(sitk.GetDefaultParameterMap(\"affine\"))\n",
        "    if bspline:\n",
        "        parameterMapVector.append(sitk.GetDefaultParameterMap(\"bspline\"))\n",
        "    elastixImageFilter.SetParameterMap(parameterMapVector)\n",
        "\n",
        "    elastixImageFilter.Execute()\n",
        "    return elastixImageFilter.GetResultImage()"
      ],
      "execution_count": null,
      "outputs": []
    },
    {
      "cell_type": "markdown",
      "metadata": {
        "id": "DvJdjgXQY4GF"
      },
      "source": [
        "Try the method."
      ]
    },
    {
      "cell_type": "code",
      "metadata": {
        "id": "vLm5-yd_J0W-"
      },
      "source": [
        "results = [fixed_img]\n",
        "for img_name in imgs:\n",
        "    moving = sitk.ReadImage(ROOT + img_name)\n",
        "    result = registrate(sitk_fixed, moving)\n",
        "    results.append(sitk.GetArrayFromImage(result))"
      ],
      "execution_count": null,
      "outputs": []
    },
    {
      "cell_type": "code",
      "metadata": {
        "id": "aDpKi5oOJ0XA"
      },
      "source": [
        "for result in results:\n",
        "    plt.figure(figsize=(10, 10))\n",
        "    plt.imshow(result[:, :, 100], cmap='gray')\n",
        "    plt.show()"
      ],
      "execution_count": null,
      "outputs": []
    },
    {
      "cell_type": "code",
      "metadata": {
        "id": "gTcDtxsiJ0XC"
      },
      "source": [
        "DATABASE = '/Volumes/0SC4R/ADNI/RAW/'\n",
        "DB_SUBFOLDERS = ['1/', '2/', '3/', '4/', '5/']"
      ],
      "execution_count": null,
      "outputs": []
    },
    {
      "cell_type": "markdown",
      "metadata": {
        "id": "IXqMtx5nZky_"
      },
      "source": [
        "Get a reference image."
      ]
    },
    {
      "cell_type": "code",
      "metadata": {
        "id": "im990czEJ0XL"
      },
      "source": [
        "FIXED_IMAGE = 'local/path/to/fixed.nii'\n",
        "sitk_fixed = sitk.ReadImage(DATABASE + FIXED_IMAGE)"
      ],
      "execution_count": null,
      "outputs": []
    },
    {
      "cell_type": "markdown",
      "metadata": {
        "id": "iALIGkoAJ0XR"
      },
      "source": [
        "#### Image with shape [124, 256, 256]"
      ]
    },
    {
      "cell_type": "code",
      "metadata": {
        "id": "W-lp0Xh5J0XR"
      },
      "source": [
        "path = 'image.nii'\n",
        "sitk_moving = sitk.ReadImage(path)\n",
        "\n",
        "result = registrate(atlas, sitk_moving)\n",
        "original = sitk.GetArrayFromImage(sitk_fixed)\n",
        "img = sitk.GetArrayFromImage(result)\n",
        "print(img.shape)"
      ],
      "execution_count": null,
      "outputs": []
    },
    {
      "cell_type": "code",
      "metadata": {
        "id": "0xbw7ScyJ0XY"
      },
      "source": [
        "plt.figure(figsize=(10, 10))\n",
        "plt.imshow(img[50, :, :], cmap='gray')\n",
        "plt.show()"
      ],
      "execution_count": null,
      "outputs": []
    },
    {
      "cell_type": "code",
      "metadata": {
        "id": "EqyCQMu_J0Xd"
      },
      "source": [
        "path = 'image.nii'\n",
        "sitk_moving = sitk.ReadImage(path)\n",
        "\n",
        "result = registrate(sitk_fixed, sitk_moving)\n",
        "original = sitk.GetArrayFromImage(sitk_fixed)\n",
        "img = sitk.GetArrayFromImage(result)\n",
        "print(img.shape)"
      ],
      "execution_count": null,
      "outputs": []
    },
    {
      "cell_type": "code",
      "metadata": {
        "id": "3dG-8b-9J0Xf"
      },
      "source": [
        "plt.figure(figsize=(10, 10))\n",
        "plt.imshow(img[:, :, 60], cmap='gray')\n",
        "plt.show()"
      ],
      "execution_count": null,
      "outputs": []
    },
    {
      "cell_type": "markdown",
      "metadata": {
        "id": "gBbj-mnRJ0Xh"
      },
      "source": [
        "#### Image with shape [146, 256, 256]"
      ]
    },
    {
      "cell_type": "code",
      "metadata": {
        "id": "uJXYUCWfJ0Xh"
      },
      "source": [
        "path = 'image.nii'\n",
        "sitk_moving = sitk.ReadImage(path)\n",
        "\n",
        "result = registrate(sitk_fixed, sitk_moving)\n",
        "original = sitk.GetArrayFromImage(sitk_fixed)\n",
        "img = sitk.GetArrayFromImage(result)\n",
        "print(img.shape)"
      ],
      "execution_count": null,
      "outputs": []
    },
    {
      "cell_type": "code",
      "metadata": {
        "id": "7RtBef2qJ0Xk"
      },
      "source": [
        "plt.figure(figsize=(10, 10))\n",
        "plt.imshow(img[:, :, 70], cmap='gray')\n",
        "plt.show()"
      ],
      "execution_count": null,
      "outputs": []
    },
    {
      "cell_type": "markdown",
      "metadata": {
        "id": "iaVr6c6TJ0Xm"
      },
      "source": [
        "#### Image with shape [170, 256, 256]"
      ]
    },
    {
      "cell_type": "code",
      "metadata": {
        "id": "V_HIknosJ0Xn"
      },
      "source": [
        "path = 'image.nii'\n",
        "sitk_moving = sitk.ReadImage(path)\n",
        "\n",
        "result = registrate(atlas, sitk_moving)\n",
        "original = sitk.GetArrayFromImage(sitk_fixed)\n",
        "img = sitk.GetArrayFromImage(result)\n",
        "print(img.shape)"
      ],
      "execution_count": null,
      "outputs": []
    },
    {
      "cell_type": "code",
      "metadata": {
        "id": "YFYAWf9iJ0Xr"
      },
      "source": [
        "plt.figure(figsize=(10, 10))\n",
        "plt.imshow(img[50, :, :], cmap='gray')\n",
        "plt.show()"
      ],
      "execution_count": null,
      "outputs": []
    },
    {
      "cell_type": "markdown",
      "metadata": {
        "id": "WefWDPLyJ0Xt"
      },
      "source": [
        "#### Image with shape [166, 256, 256]\n",
        "\n",
        "These are the most common, so it is important to make sure the registration process works well."
      ]
    },
    {
      "cell_type": "code",
      "metadata": {
        "id": "ESZFk4A_J0Xu"
      },
      "source": [
        "path = 'image.nii'\n",
        "sitk_moving = sitk.ReadImage(path)\n",
        "\n",
        "result = registrate(sitk_fixed, sitk_moving)\n",
        "original = sitk.GetArrayFromImage(sitk_fixed)\n",
        "img = sitk.GetArrayFromImage(result)\n",
        "print(img.shape)"
      ],
      "execution_count": null,
      "outputs": []
    },
    {
      "cell_type": "code",
      "metadata": {
        "id": "172udpXeJ0Xw"
      },
      "source": [
        "plt.figure(figsize=(10, 10))\n",
        "plt.imshow(img[:, :, 70], cmap='gray')\n",
        "plt.show()"
      ],
      "execution_count": null,
      "outputs": []
    },
    {
      "cell_type": "markdown",
      "metadata": {
        "id": "WoSL8VFEJ0X1"
      },
      "source": [
        "#### Trying with MNI 305 mean atlas"
      ]
    },
    {
      "cell_type": "code",
      "metadata": {
        "id": "a5o9rYA1J0X3"
      },
      "source": [
        "atlas_path = '/path/to/atlas.nii'\n",
        "atlas = sitk.ReadImage(atlas_path)"
      ],
      "execution_count": null,
      "outputs": []
    },
    {
      "cell_type": "code",
      "metadata": {
        "id": "jdsWG2GNJ0X6"
      },
      "source": [
        "path = 'image.nii'\n",
        "sitk_moving = sitk.ReadImage(path)\n",
        "\n",
        "result = registrate(atlas, sitk_moving)\n",
        "img = sitk.GetArrayFromImage(result)\n",
        "original = sitk.GetArrayFromImage(sitk_moving)\n",
        "print(img.shape)"
      ],
      "execution_count": null,
      "outputs": []
    },
    {
      "cell_type": "code",
      "metadata": {
        "id": "0oPzTQTwJ0X9"
      },
      "source": [
        "plt.figure(figsize=(10, 10))\n",
        "plt.imshow(img[80, :, :], cmap='gray')\n",
        "plt.show()"
      ],
      "execution_count": null,
      "outputs": []
    },
    {
      "cell_type": "code",
      "metadata": {
        "id": "A3Yga1kRQMJC"
      },
      "source": [
        "filenames = np.array([])\n",
        "for path, _, files in os.walk(OASIS_DB):\n",
        "    files_paths = [os.path.join(path, name) for name in files]\n",
        "    filenames = np.concatenate((filenames, files_paths), axis=None)"
      ],
      "execution_count": null,
      "outputs": []
    },
    {
      "cell_type": "code",
      "metadata": {
        "id": "yENHnabWQMJE"
      },
      "source": [
        "mri_files = np.array([name for name in filenames if 'pet' not in name])\n",
        "description = pd.read_csv(os.path.join(OASIS_RAW, DESCRIPTION))"
      ],
      "execution_count": null,
      "outputs": []
    },
    {
      "cell_type": "code",
      "metadata": {
        "id": "3R_tjY6UQMJH"
      },
      "source": [
        "import re\n",
        "\n",
        "for name in mri_files:\n",
        "    split_path = name.split('/')\n",
        "    subject = split_path[-1][4:12]\n",
        "    diagnosis = description.loc[description['Subject'] == subject, ['dx1']].iloc[0][0]\n",
        "    if diagnosis in LABELS.keys():\n",
        "        dest = os.path.join(OASIS_RAW, LABELS[diagnosis])\n",
        "        ! cp $name $dest"
      ],
      "execution_count": null,
      "outputs": []
    },
    {
      "cell_type": "code",
      "metadata": {
        "id": "dZ_g3bXnQMJV"
      },
      "source": [
        "atlas = sitk.ReadImage('/path/to/atlas.nii')\n",
        "# resample the atlas to the desired spatial resolution\n",
        "atlas = resample_img(atlas)"
      ],
      "execution_count": null,
      "outputs": []
    },
    {
      "cell_type": "code",
      "metadata": {
        "id": "1gqw8JGcQMJY"
      },
      "source": [
        "DB = '/path/to/database/'\n",
        "DEST = '/path/to/destination/'\n",
        "exceptions = []\n",
        "\n",
        "for file in os.listdir(DB):\n",
        "    try:\n",
        "        name = os.path.join(DB, file)\n",
        "        new_name = os.path.join(DEST, file)\n",
        "        sitk_moving = sitk.ReadImage(name)\n",
        "        sitk_moving = resample_img(sitk_moving)\n",
        "        registrated = registrate(atlas, sitk_moving)\n",
        "        sitk.WriteImage(registrated, new_name)\n",
        "    except:\n",
        "        exceptions.append(name)"
      ],
      "execution_count": null,
      "outputs": []
    },
    {
      "cell_type": "code",
      "metadata": {
        "id": "ciyrjM_GQMJa"
      },
      "source": [
        "# save the exceptions\n",
        "with open(os.path.join(DB, 'exceptions.txt'), 'w') as f:\n",
        "    for item in exceptions:\n",
        "        f.write(\"%s\\n\" % item)"
      ],
      "execution_count": null,
      "outputs": []
    },
    {
      "cell_type": "markdown",
      "metadata": {
        "id": "PBAaJBNIJ0YB"
      },
      "source": [
        "---\n",
        "\n",
        "## Building the ADNI database\n",
        "\n"
      ]
    },
    {
      "cell_type": "markdown",
      "metadata": {
        "id": "dyZNCQaLdDWs"
      },
      "source": [
        "Define the paths where the images are, and where to store them."
      ]
    },
    {
      "cell_type": "code",
      "metadata": {
        "id": "F3AZQiDUJ0YC"
      },
      "source": [
        "# original database\n",
        "DATABASE = '/Volumes/0SC4R/TFM-Data/ADNI/MRI/RAW/'\n",
        "DB_SUBFOLDERS = ['1/', '2/', '3/', '4/', '5/', '6/',\n",
        "                 '7/', '8/', '9/', '10/', '11/', '12/',\n",
        "                 '13/', '14/4', '15/', '16/', '17/',\n",
        "                 '18/', '19/', '20/']\n",
        "\n",
        "# registered and organized database\n",
        "REG_DB = '/Volumes/0SC4R/TFM-Data/ADNI/MRI/REGISTERED/'\n",
        "REG_DB_SUBFOLDERS = ['AD/', 'MCI/', 'CN/']"
      ],
      "execution_count": null,
      "outputs": []
    },
    {
      "cell_type": "markdown",
      "metadata": {
        "id": "zkmfIZIndM1I"
      },
      "source": [
        "Load and resample the 305 MNI atlas, as well as the description file."
      ]
    },
    {
      "cell_type": "code",
      "metadata": {
        "id": "k3r0l5K3J0YD"
      },
      "source": [
        "atlas = sitk.ReadImage('/path/to/atlas.nii')\n",
        "atlas = resample_img(atlas)\n",
        "\n",
        "description = pd.read_csv('/Volumes/0SC4R/TFM-Data/ADNI/MRI/Description.csv')\n",
        "description.head()"
      ],
      "execution_count": null,
      "outputs": []
    },
    {
      "cell_type": "code",
      "metadata": {
        "id": "urWjQvZ7J0YG"
      },
      "source": [
        "def register_and_save(filename, path, atlas, random_printing=False):\n",
        "    ''' Process the image name and copy the image to its\n",
        "        corresponding Google Drive folder.\n",
        "\n",
        "        Parameters:\n",
        "            filename -- Name of the image file (.nii)\n",
        "            path -- The path were the image is located\n",
        "            atlas -- Reference sitk image for registration\n",
        "            random_priting -- 10% possibilities of printing a horizontal cut\n",
        "                              useful to see if the skull stripping is working\n",
        "                              as expected\n",
        "    '''\n",
        "\n",
        "    # separte the name of the file by '_'\n",
        "    splitted_name = filename.strip().split('_')\n",
        "    # sometimes residual MacOS files appear; ignore them\n",
        "    if splitted_name[0] == '.': return\n",
        "\n",
        "    # save the image ID\n",
        "    image_ID = splitted_name[-1][1:-4]\n",
        "\n",
        "    # sometimes empty files appear, just ignore them\n",
        "    if image_ID == '': return\n",
        "    # transform the ID into a int64 numpy variable for indexing\n",
        "    image_ID = np.int64(image_ID)\n",
        "\n",
        "    # with the ID, index the information we need\n",
        "    row_index = description.index[description['Image Data ID'] == image_ID].tolist()[0]\n",
        "    # obtain the corresponding row in the dataframe\n",
        "    row = description.iloc[row_index]\n",
        "    # get the label\n",
        "    label = row['Group']\n",
        "\n",
        "    # prepare the origin path\n",
        "    complete_file_path = os.path.join(path, filename)\n",
        "    # load sitk image\n",
        "    sitk_moving = sitk.ReadImage(complete_file_path)\n",
        "    sitk_moving = resample_img(sitk_moving)\n",
        "    registrated = registrate(atlas, sitk_moving)\n",
        "\n",
        "    # prepare the destination path\n",
        "    complete_new_path = os.path.join(REG_DB,\n",
        "                                     label,\n",
        "                                     filename)\n",
        "    sitk.WriteImage(registrated, complete_new_path)\n",
        "\n",
        "    if random_printing and np.random.randint(0, 101) > 90:\n",
        "        sitk_image = sitk.ReadImage(complete_new_path)\n",
        "        img = sitk.GetArrayFromImage(sitk_image)\n",
        "        plt.figure(figsize=(10,10))\n",
        "        plt.imshow(img[np.random.randint(30, 70), :, :],\n",
        "                   cmap='gray')\n",
        "        plt.show()"
      ],
      "execution_count": null,
      "outputs": []
    },
    {
      "cell_type": "code",
      "metadata": {
        "id": "NoqwjW6YJ0YJ"
      },
      "source": [
        "for subdir in DB_SUBFOLDERS:\n",
        "    for path, dirs, files in os.walk(DATABASE + subdir):\n",
        "        if files:\n",
        "            for file in files:\n",
        "                try:\n",
        "                    register_and_save(file,\n",
        "                                      path,\n",
        "                                      atlas,\n",
        "                                      random_printing=False)\n",
        "                except RuntimeError:\n",
        "                    print('Exception with', os.path.join(path, file))"
      ],
      "execution_count": null,
      "outputs": []
    },
    {
      "cell_type": "code",
      "metadata": {
        "id": "fwki_aAPJ0Wi"
      },
      "source": [
        "from nipype.interfaces import fsl\n",
        "import matplotlib.pyplot as plt"
      ],
      "execution_count": null,
      "outputs": []
    },
    {
      "cell_type": "code",
      "metadata": {
        "id": "gO6dXT9AJ0Wj"
      },
      "source": [
        "def skull_strip_nii(original_img, destination_img, frac=0.3):\n",
        "    ''' Practice skull stripping on the given image, and save\n",
        "        the result to a new .nii image.\n",
        "        Uses FSL-BET\n",
        "        (https://fsl.fmrib.ox.ac.uk/fsl/fslwiki/BET/UserGuide#Main_bet2_options:)\n",
        "\n",
        "        Parameters:\n",
        "            original_img -- Original nii image\n",
        "            destination_img -- The new skull-stripped image\n",
        "            frac -- Fractional intensity threshold for BET\n",
        "    '''\n",
        "\n",
        "    btr = fsl.BET()\n",
        "    btr.inputs.in_file = original_img\n",
        "    btr.inputs.frac = frac\n",
        "    btr.inputs.out_file = destination_img\n",
        "    btr.cmdline\n",
        "    res = btr.run()"
      ],
      "execution_count": null,
      "outputs": []
    },
    {
      "cell_type": "code",
      "metadata": {
        "id": "9fWLUTxFQMHx"
      },
      "source": [
        "REG_DB = '/Volumes/0SC4R/TFM-Data/ADNI/MRI/REGISTERED/'\n",
        "SKULL_STRIPPED_DB = '/Volumes/0SC4R/TFM-Data/ADNI/MRI/SKULL_STRIPPED/'\n",
        "CLASS_FOLDERS = ['AD', 'MCI', 'CN']"
      ],
      "execution_count": null,
      "outputs": []
    },
    {
      "cell_type": "code",
      "metadata": {
        "id": "6i5xg0VUQMH0"
      },
      "source": [
        "exceptions = []\n",
        "for folder in CLASS_FOLDERS:\n",
        "    origin_folder = os.path.join(REG_DB, folder)\n",
        "    dest_folder = os.path.join(SKULL_STRIPPED_DB, folder)\n",
        "    for path, _, files in os.walk(origin_folder):\n",
        "        for file in files:\n",
        "            try:\n",
        "                img = os.path.join(path, file)\n",
        "                dest = os.path.join(dest_folder, file)\n",
        "                skull_strip_nii(img, dest, frac=0.2)\n",
        "            except RuntimeError:\n",
        "                exceptions.append(img)\n",
        "\n",
        "# save the exceptions\n",
        "with open(os.path.join(SKULL_STRIPPED_DB, 'exceptions.txt'), 'w') as f:\n",
        "    for item in exceptions:\n",
        "        f.write(\"%s\\n\" % item)"
      ],
      "execution_count": null,
      "outputs": []
    },
    {
      "cell_type": "code",
      "metadata": {
        "id": "Sak8P2ZYQMH2"
      },
      "source": [
        "REG_DB = '/Volumes/0SC4R/TFM-Data/IXI-T1/REGISTERED/'\n",
        "SKULL_STRIPPED_DB = '/Volumes/0SC4R/TFM-Data/IXI-T1/SKULL-STRIPPED/'\n",
        "\n",
        "files = [os.path.join(REG_DB, name) for name in os.listdir(REG_DB)]"
      ],
      "execution_count": null,
      "outputs": []
    },
    {
      "cell_type": "code",
      "metadata": {
        "id": "KIAljX4BQMH3"
      },
      "source": [
        "exceptions = []\n",
        "for filename in files:\n",
        "    try:\n",
        "        dest = os.path.join(SKULL_STRIPPED_DB, filename.split('/')[-1])\n",
        "        skull_strip_nii(filename, dest, frac=0.5)\n",
        "\n",
        "        result = sitk.ReadImage(dest)\n",
        "        img = sitk.GetArrayFromImage(result)\n",
        "        plt.imshow(img[np.random.randint(20, 70), :, :], cmap='gray')\n",
        "        plt.show()\n",
        "    except:\n",
        "        exceptions.append(filename)\n",
        "\n",
        "# save the exceptions\n",
        "with open(os.path.join(SKULL_STRIPPED_DB, 'exceptions.txt'), 'w') as f:\n",
        "    for item in exceptions:\n",
        "        f.write(\"%s\\n\" % item)"
      ],
      "execution_count": null,
      "outputs": []
    },
    {
      "cell_type": "markdown",
      "metadata": {
        "id": "KIdHBiJZJ0YK"
      },
      "source": [
        "---\n",
        "\n",
        "## Working with PET images (DEPRECATED)\n",
        "\n",
        "Using MRI images originally resulted in very bad results, so a differente approach was tried. The attention switched to PET images obtained from the ADNI database. The dataset consists of 1251 images, post-processed with spatial normalization, baseline alignment and Tx Origin. In the end, a few tweaks allowed to obtain much better results with MRI images, so this code is not a part of the final work.\n",
        "\n",
        "The localization of the data is in the following constants:"
      ]
    },
    {
      "cell_type": "code",
      "metadata": {
        "id": "51rbsAUgJ0YK"
      },
      "source": [
        "PET_DB_PATH = '/Volumes/0SC4R/TFM-Data/ADNI/PET/'\n",
        "DESCRIPTION = 'PET.csv'\n",
        "DATA_FOLDER = 'RAW/'"
      ],
      "execution_count": null,
      "outputs": []
    },
    {
      "cell_type": "markdown",
      "metadata": {
        "id": "3De7LsRLJ0YM"
      },
      "source": [
        "We load the `.csv` file with all the information about the images."
      ]
    },
    {
      "cell_type": "code",
      "metadata": {
        "id": "Z4l0Ftm4J0YM"
      },
      "source": [
        "pet_data = os.path.join(PET_DB_PATH, DATA_FOLDER)\n",
        "description = pd.read_csv(os.path.join(PET_DB_PATH, DESCRIPTION))\n",
        "description.set_index('Subject ID', inplace=True)\n",
        "description.head()"
      ],
      "execution_count": null,
      "outputs": []
    },
    {
      "cell_type": "markdown",
      "metadata": {
        "id": "d6UB9fSfJ0YP"
      },
      "source": [
        "Save the complete path of every image in a numpy array, so that information becomes easily accesible."
      ]
    },
    {
      "cell_type": "code",
      "metadata": {
        "id": "xJHmebE2J0YQ"
      },
      "source": [
        "images = np.array([])\n",
        "for path, _, files in os.walk(pet_data):\n",
        "    images = np.concatenate((images,\n",
        "                             [os.path.join(path, name)\n",
        "                                  for name in files]),\n",
        "                            axis=None)"
      ],
      "execution_count": null,
      "outputs": []
    },
    {
      "cell_type": "code",
      "metadata": {
        "id": "EUthEWUCJ0YR"
      },
      "source": [
        "rand = np.random.choice(images)\n",
        "sitk_image = sitk.ReadImage(rand)\n",
        "img = sitk.GetArrayFromImage(sitk_image)\n",
        "\n",
        "plt.figure(figsize=(5, 5))\n",
        "plt.imshow(img[55, :, :])\n",
        "plt.show()"
      ],
      "execution_count": null,
      "outputs": []
    },
    {
      "cell_type": "code",
      "metadata": {
        "id": "EHwp9JR-J0YU"
      },
      "source": [
        "sitk_img = resample_img(itk_image=sitk_image)\n",
        "img = sitk.GetArrayFromImage(sitk_image)\n",
        "img.shape"
      ],
      "execution_count": null,
      "outputs": []
    },
    {
      "cell_type": "markdown",
      "metadata": {
        "id": "tNzF4kZjJ0YV"
      },
      "source": [
        "All 1251 images have the same shape of 69x95x79. They seem to have been already resampled to $2mm^3$ isotropic voxels, because using resampling does not change the resolution. They all have also the same scaling, meaning that we do not need to registrate them. The only thing we have to do is organize them into folders according to their class:"
      ]
    },
    {
      "cell_type": "code",
      "metadata": {
        "id": "Y0lxA823J0YW"
      },
      "source": [
        "ORGANIZED_FOLDER = 'Organized/'\n",
        "destination = os.path.join(PET_DB_PATH, ORGANIZED_FOLDER)"
      ],
      "execution_count": null,
      "outputs": []
    },
    {
      "cell_type": "code",
      "metadata": {
        "id": "RQiy79tHJ0YX"
      },
      "source": [
        "def get_label_for(filename):\n",
        "    ''' Returns the label for a given image.\n",
        "        In this case we do not have image IDs, for some\n",
        "        reason, so we need to infer the label by using\n",
        "        the subject ID.\n",
        "\n",
        "        Parameters:\n",
        "            filename -- Complete path and filename\n",
        "\n",
        "        Returns:\n",
        "            label (CN/MCI/AD)\n",
        "    '''\n",
        "\n",
        "    path_folders = filename.split('/')\n",
        "    image_name = path_folders[-1]\n",
        "    image_name = image_name.split('_')\n",
        "    subject_ID = '_'.join([image_name[1],\n",
        "                           image_name[2],\n",
        "                           image_name[3]])\n",
        "    label = description.loc[subject_ID, 'Research Group']\n",
        "    if type(label) is str: return label\n",
        "    else: return label.iloc[0]"
      ],
      "execution_count": null,
      "outputs": []
    },
    {
      "cell_type": "code",
      "metadata": {
        "id": "pjcZnpiTJ0YY"
      },
      "source": [
        "for filename in images:\n",
        "    label = get_label_for(filename)\n",
        "    copy_to = os.path.join(destination, label)\n",
        "    ! cp $filename $copy_to"
      ],
      "execution_count": null,
      "outputs": []
    },
    {
      "cell_type": "markdown",
      "metadata": {
        "id": "b0pjM3DHJ0Ya"
      },
      "source": [
        "Now, the information can be uploaded to Google Drive. The images are ready to be used by a CNN, although it may be necessary to create a TFRecord, because there is too much data. Images also need obvious extra processing if they are going to be fed to a 3D RGB CNN.\n",
        "\n",
        "---"
      ]
    }
  ]
}