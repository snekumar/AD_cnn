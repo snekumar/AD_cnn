{
  "cells": [
    {
      "cell_type": "markdown",
      "metadata": {
        "id": "view-in-github",
        "colab_type": "text"
      },
      "source": [
        "<a href=\"https://colab.research.google.com/github/snekumar/AD_cnn/blob/main/3d_cnn_.ipynb\" target=\"_parent\"><img src=\"https://colab.research.google.com/assets/colab-badge.svg\" alt=\"Open In Colab\"/></a>"
      ]
    },
    {
      "cell_type": "markdown",
      "id": "83075f18",
      "metadata": {
        "id": "83075f18",
        "papermill": {
          "duration": 0.019462,
          "end_time": "2023-01-01T09:13:24.564351",
          "exception": false,
          "start_time": "2023-01-01T09:13:24.544889",
          "status": "completed"
        },
        "tags": []
      },
      "source": [
        "# Notebook Setup"
      ]
    },
    {
      "cell_type": "markdown",
      "id": "a11975fb",
      "metadata": {
        "papermill": {
          "duration": 0.011402,
          "end_time": "2023-01-01T09:13:24.594700",
          "exception": false,
          "start_time": "2023-01-01T09:13:24.583298",
          "status": "completed"
        },
        "tags": [],
        "id": "a11975fb"
      },
      "source": [
        "## Installing Packages"
      ]
    },
    {
      "cell_type": "code",
      "source": [
        "from google.colab import drive\n",
        "drive.mount('projectm')"
      ],
      "metadata": {
        "colab": {
          "base_uri": "https://localhost:8080/"
        },
        "id": "EsQOYw-St0EN",
        "outputId": "1be3ed11-046b-43f4-c001-7a7aa6ced413"
      },
      "id": "EsQOYw-St0EN",
      "execution_count": 1,
      "outputs": [
        {
          "output_type": "stream",
          "name": "stdout",
          "text": [
            "Mounted at projectm\n"
          ]
        }
      ]
    },
    {
      "cell_type": "code",
      "execution_count": 5,
      "id": "54b31ad1",
      "metadata": {
        "execution": {
          "iopub.execute_input": "2023-01-01T09:13:24.620142Z",
          "iopub.status.busy": "2023-01-01T09:13:24.619623Z",
          "iopub.status.idle": "2023-01-01T09:13:36.060063Z",
          "shell.execute_reply": "2023-01-01T09:13:36.058894Z"
        },
        "papermill": {
          "duration": 11.456427,
          "end_time": "2023-01-01T09:13:36.063068",
          "exception": false,
          "start_time": "2023-01-01T09:13:24.606641",
          "status": "completed"
        },
        "tags": [],
        "colab": {
          "base_uri": "https://localhost:8080/"
        },
        "id": "54b31ad1",
        "outputId": "0030cd16-591a-4f85-e458-d39d682981c1"
      },
      "outputs": [
        {
          "output_type": "stream",
          "name": "stdout",
          "text": [
            "\u001b[2K     \u001b[90m━━━━━━━━━━━━━━━━━━━━━━━━━━━━━━━━━━━━━━━━\u001b[0m \u001b[32m69.5/69.5 kB\u001b[0m \u001b[31m2.6 MB/s\u001b[0m eta \u001b[36m0:00:00\u001b[0m\n",
            "\u001b[2K     \u001b[90m━━━━━━━━━━━━━━━━━━━━━━━━━━━━━━━━━━━━━━━━\u001b[0m \u001b[32m50.7/50.7 kB\u001b[0m \u001b[31m4.4 MB/s\u001b[0m eta \u001b[36m0:00:00\u001b[0m\n",
            "\u001b[?25h"
          ]
        }
      ],
      "source": [
        "!pip install classification-models-3D Keras-Applications -q"
      ]
    },
    {
      "cell_type": "markdown",
      "id": "a9f85e25",
      "metadata": {
        "papermill": {
          "duration": 0.011724,
          "end_time": "2023-01-01T09:13:36.087184",
          "exception": false,
          "start_time": "2023-01-01T09:13:36.075460",
          "status": "completed"
        },
        "tags": [],
        "id": "a9f85e25"
      },
      "source": [
        "## Import Statements"
      ]
    },
    {
      "cell_type": "code",
      "source": [
        "pip install wandb"
      ],
      "metadata": {
        "colab": {
          "base_uri": "https://localhost:8080/"
        },
        "id": "MwsuSOEl1vFZ",
        "outputId": "f9e88b37-be39-40b0-8a4c-5225ca7d775b"
      },
      "id": "MwsuSOEl1vFZ",
      "execution_count": 6,
      "outputs": [
        {
          "output_type": "stream",
          "name": "stdout",
          "text": [
            "Looking in indexes: https://pypi.org/simple, https://us-python.pkg.dev/colab-wheels/public/simple/\n",
            "Requirement already satisfied: wandb in /usr/local/lib/python3.10/dist-packages (0.15.4)\n",
            "Requirement already satisfied: Click!=8.0.0,>=7.0 in /usr/local/lib/python3.10/dist-packages (from wandb) (8.1.3)\n",
            "Requirement already satisfied: GitPython!=3.1.29,>=1.0.0 in /usr/local/lib/python3.10/dist-packages (from wandb) (3.1.31)\n",
            "Requirement already satisfied: requests<3,>=2.0.0 in /usr/local/lib/python3.10/dist-packages (from wandb) (2.27.1)\n",
            "Requirement already satisfied: psutil>=5.0.0 in /usr/local/lib/python3.10/dist-packages (from wandb) (5.9.5)\n",
            "Requirement already satisfied: sentry-sdk>=1.0.0 in /usr/local/lib/python3.10/dist-packages (from wandb) (1.26.0)\n",
            "Requirement already satisfied: docker-pycreds>=0.4.0 in /usr/local/lib/python3.10/dist-packages (from wandb) (0.4.0)\n",
            "Requirement already satisfied: PyYAML in /usr/local/lib/python3.10/dist-packages (from wandb) (6.0)\n",
            "Requirement already satisfied: pathtools in /usr/local/lib/python3.10/dist-packages (from wandb) (0.1.2)\n",
            "Requirement already satisfied: setproctitle in /usr/local/lib/python3.10/dist-packages (from wandb) (1.3.2)\n",
            "Requirement already satisfied: setuptools in /usr/local/lib/python3.10/dist-packages (from wandb) (67.7.2)\n",
            "Requirement already satisfied: appdirs>=1.4.3 in /usr/local/lib/python3.10/dist-packages (from wandb) (1.4.4)\n",
            "Requirement already satisfied: protobuf!=4.21.0,<5,>=3.19.0 in /usr/local/lib/python3.10/dist-packages (from wandb) (3.20.3)\n",
            "Requirement already satisfied: six>=1.4.0 in /usr/local/lib/python3.10/dist-packages (from docker-pycreds>=0.4.0->wandb) (1.16.0)\n",
            "Requirement already satisfied: gitdb<5,>=4.0.1 in /usr/local/lib/python3.10/dist-packages (from GitPython!=3.1.29,>=1.0.0->wandb) (4.0.10)\n",
            "Requirement already satisfied: urllib3<1.27,>=1.21.1 in /usr/local/lib/python3.10/dist-packages (from requests<3,>=2.0.0->wandb) (1.26.16)\n",
            "Requirement already satisfied: certifi>=2017.4.17 in /usr/local/lib/python3.10/dist-packages (from requests<3,>=2.0.0->wandb) (2023.5.7)\n",
            "Requirement already satisfied: charset-normalizer~=2.0.0 in /usr/local/lib/python3.10/dist-packages (from requests<3,>=2.0.0->wandb) (2.0.12)\n",
            "Requirement already satisfied: idna<4,>=2.5 in /usr/local/lib/python3.10/dist-packages (from requests<3,>=2.0.0->wandb) (3.4)\n",
            "Requirement already satisfied: smmap<6,>=3.0.1 in /usr/local/lib/python3.10/dist-packages (from gitdb<5,>=4.0.1->GitPython!=3.1.29,>=1.0.0->wandb) (5.0.0)\n"
          ]
        }
      ]
    },
    {
      "cell_type": "code",
      "execution_count": 8,
      "id": "f2ed73f4",
      "metadata": {
        "execution": {
          "iopub.execute_input": "2023-01-01T09:13:36.112715Z",
          "iopub.status.busy": "2023-01-01T09:13:36.112347Z",
          "iopub.status.idle": "2023-01-01T09:13:43.182052Z",
          "shell.execute_reply": "2023-01-01T09:13:43.180941Z"
        },
        "id": "f2ed73f4",
        "papermill": {
          "duration": 7.085884,
          "end_time": "2023-01-01T09:13:43.184839",
          "exception": false,
          "start_time": "2023-01-01T09:13:36.098955",
          "status": "completed"
        },
        "tags": []
      },
      "outputs": [],
      "source": [
        "import os\n",
        "import random\n",
        "\n",
        "os.environ['TF_CPP_MIN_LOG_LEVEL'] = '3'\n",
        "\n",
        "import cv2\n",
        "import matplotlib.pyplot as plt\n",
        "import nibabel as nib\n",
        "import numpy as np\n",
        "import pandas as pd\n",
        "import seaborn as sn\n",
        "import tensorflow as tf\n",
        "import wandb\n",
        "from classification_models_3D.tfkeras import Classifiers\n",
        "from ipywidgets import IntSlider, interact\n",
        "\n",
        "from matplotlib import animation, rc\n",
        "from matplotlib.patches import PathPatch, Rectangle\n",
        "from matplotlib.path import Path\n",
        "from scipy import ndimage\n",
        "from scipy.ndimage import zoom\n",
        "from sklearn.metrics import classification_report, confusion_matrix\n",
        "from sklearn.model_selection import StratifiedShuffleSplit\n",
        "from tensorflow.keras import Input, Model\n",
        "from tensorflow.keras.callbacks import EarlyStopping, ModelCheckpoint, ReduceLROnPlateau\n",
        "from tensorflow.keras.layers import (BatchNormalization, Conv3D, Dense,\n",
        "                                     Dropout, GlobalAveragePooling3D,\n",
        "                                     MaxPool3D)\n",
        "from tensorflow.keras.optimizers import Adam\n",
        "from wandb.keras import WandbCallback"
      ]
    },
    {
      "cell_type": "markdown",
      "id": "086aac7d",
      "metadata": {
        "papermill": {
          "duration": 0.011778,
          "end_time": "2023-01-01T09:13:43.208734",
          "exception": false,
          "start_time": "2023-01-01T09:13:43.196956",
          "status": "completed"
        },
        "tags": [],
        "id": "086aac7d"
      },
      "source": [
        "## Random Seed for Reproducibility"
      ]
    },
    {
      "cell_type": "code",
      "execution_count": null,
      "id": "fa648044",
      "metadata": {
        "execution": {
          "iopub.execute_input": "2023-01-01T09:13:43.234452Z",
          "iopub.status.busy": "2023-01-01T09:13:43.233497Z",
          "iopub.status.idle": "2023-01-01T09:13:43.241016Z",
          "shell.execute_reply": "2023-01-01T09:13:43.240185Z"
        },
        "papermill": {
          "duration": 0.022758,
          "end_time": "2023-01-01T09:13:43.243123",
          "exception": false,
          "start_time": "2023-01-01T09:13:43.220365",
          "status": "completed"
        },
        "tags": [],
        "id": "fa648044"
      },
      "outputs": [],
      "source": [
        "seed = 27\n",
        "\n",
        "random.seed(seed)\n",
        "os.environ['PYTHONHASHSEED'] = str(seed)\n",
        "np.random.seed(seed)\n",
        "tf.random.set_seed(seed)\n",
        "tf.compat.v1.set_random_seed(seed)"
      ]
    },
    {
      "cell_type": "markdown",
      "id": "de7dd0c7",
      "metadata": {
        "papermill": {
          "duration": 0.011516,
          "end_time": "2023-01-01T09:13:43.266423",
          "exception": false,
          "start_time": "2023-01-01T09:13:43.254907",
          "status": "completed"
        },
        "tags": [],
        "id": "de7dd0c7"
      },
      "source": [
        "## Weights & Biases Setup"
      ]
    },
    {
      "cell_type": "code",
      "execution_count": null,
      "id": "f20c3140",
      "metadata": {
        "execution": {
          "iopub.execute_input": "2023-01-01T09:13:43.291261Z",
          "iopub.status.busy": "2023-01-01T09:13:43.290881Z",
          "iopub.status.idle": "2023-01-01T09:13:52.000522Z",
          "shell.execute_reply": "2023-01-01T09:13:51.999578Z"
        },
        "papermill": {
          "duration": 8.725053,
          "end_time": "2023-01-01T09:13:52.003263",
          "exception": false,
          "start_time": "2023-01-01T09:13:43.278210",
          "status": "completed"
        },
        "tags": [],
        "id": "f20c3140",
        "outputId": "6d59d4e3-9d90-4357-a14a-5511ae83d35e"
      },
      "outputs": [
        {
          "name": "stderr",
          "output_type": "stream",
          "text": [
            "\u001b[34m\u001b[1mwandb\u001b[0m: W&B API key is configured. Use \u001b[1m`wandb login --relogin`\u001b[0m to force relogin\n",
            "\u001b[34m\u001b[1mwandb\u001b[0m: \u001b[33mWARNING\u001b[0m If you're specifying your api key in code, ensure this code is not shared publicly.\n",
            "\u001b[34m\u001b[1mwandb\u001b[0m: \u001b[33mWARNING\u001b[0m Consider setting the WANDB_API_KEY environment variable, or running `wandb login` from the command line.\n",
            "\u001b[34m\u001b[1mwandb\u001b[0m: Appending key for api.wandb.ai to your netrc file: /root/.netrc\n",
            "\u001b[34m\u001b[1mwandb\u001b[0m: Currently logged in as: \u001b[33mnexer8\u001b[0m. Use \u001b[1m`wandb login --relogin`\u001b[0m to force relogin\n"
          ]
        },
        {
          "data": {
            "text/html": [
              "wandb version 0.13.7 is available!  To upgrade, please run:\n",
              " $ pip install wandb --upgrade"
            ],
            "text/plain": [
              "<IPython.core.display.HTML object>"
            ]
          },
          "metadata": {},
          "output_type": "display_data"
        },
        {
          "data": {
            "text/html": [
              "Tracking run with wandb version 0.12.21"
            ],
            "text/plain": [
              "<IPython.core.display.HTML object>"
            ]
          },
          "metadata": {},
          "output_type": "display_data"
        },
        {
          "data": {
            "text/html": [
              "Run data is saved locally in <code>/kaggle/working/wandb/run-20230101_091345-7-mw-3D-CNN2-resnet50-MCI-NC</code>"
            ],
            "text/plain": [
              "<IPython.core.display.HTML object>"
            ]
          },
          "metadata": {},
          "output_type": "display_data"
        },
        {
          "data": {
            "text/html": [
              "Syncing run <strong><a href=\"https://wandb.ai/nexer8/ADNI_Classification/runs/7-mw-3D-CNN2-resnet50-MCI-NC\" target=\"_blank\">7-mw-3D-CNN2-resnet50-MCI-NC</a></strong> to <a href=\"https://wandb.ai/nexer8/ADNI_Classification\" target=\"_blank\">Weights & Biases</a> (<a href=\"https://wandb.me/run\" target=\"_blank\">docs</a>)<br/>"
            ],
            "text/plain": [
              "<IPython.core.display.HTML object>"
            ]
          },
          "metadata": {},
          "output_type": "display_data"
        }
      ],
      "source": [
        "user_secrets = UserSecretsClient()\n",
        "\n",
        "wandb.login(key=user_secrets.get_secret('WANDB_API_KEY'))\n",
        "run = wandb.init(\n",
        "    name='7-mw-3D-CNN2-resnet50-MCI-NC',\n",
        "    project=user_secrets.get_secret('WANDB_ADNI_PROJECT'),\n",
        "    entity=user_secrets.get_secret('WANDB_ENTITY'),\n",
        "    id='7-mw-3D-CNN2-resnet50-MCI-NC',\n",
        ")"
      ]
    },
    {
      "cell_type": "markdown",
      "id": "a57f4c64",
      "metadata": {
        "papermill": {
          "duration": 0.01859,
          "end_time": "2023-01-01T09:13:52.040776",
          "exception": false,
          "start_time": "2023-01-01T09:13:52.022186",
          "status": "completed"
        },
        "tags": [],
        "id": "a57f4c64"
      },
      "source": [
        "## Project Configuration"
      ]
    },
    {
      "cell_type": "code",
      "execution_count": null,
      "id": "85b9a488",
      "metadata": {
        "execution": {
          "iopub.execute_input": "2023-01-01T09:13:52.081666Z",
          "iopub.status.busy": "2023-01-01T09:13:52.081224Z",
          "iopub.status.idle": "2023-01-01T09:13:52.088389Z",
          "shell.execute_reply": "2023-01-01T09:13:52.087267Z"
        },
        "papermill": {
          "duration": 0.030881,
          "end_time": "2023-01-01T09:13:52.090902",
          "exception": false,
          "start_time": "2023-01-01T09:13:52.060021",
          "status": "completed"
        },
        "tags": [],
        "id": "85b9a488"
      },
      "outputs": [],
      "source": [
        "wandb.config = {\n",
        "    'learning_rate': 1e-5,\n",
        "    'min_learning_rate': 1e-8,\n",
        "    'epochs': 200,\n",
        "    'batch_size': 4,\n",
        "    'test_batch_size': 1,\n",
        "#     'img_size': 128,\n",
        "#     'depth': 64,\n",
        "    'n_classes': 2\n",
        "}\n",
        "\n",
        "config = wandb.config"
      ]
    },
    {
      "cell_type": "markdown",
      "id": "9152959c",
      "metadata": {
        "id": "9152959c",
        "papermill": {
          "duration": 0.01855,
          "end_time": "2023-01-01T09:13:52.165689",
          "exception": false,
          "start_time": "2023-01-01T09:13:52.147139",
          "status": "completed"
        },
        "tags": []
      },
      "source": [
        "Data load and Preprocessing\n",
        "\n"
      ]
    },
    {
      "cell_type": "code",
      "execution_count": null,
      "id": "bad3ac70",
      "metadata": {
        "execution": {
          "iopub.execute_input": "2023-01-01T09:13:52.205538Z",
          "iopub.status.busy": "2023-01-01T09:13:52.205083Z",
          "iopub.status.idle": "2023-01-01T09:13:52.216908Z",
          "shell.execute_reply": "2023-01-01T09:13:52.216030Z"
        },
        "id": "bad3ac70",
        "papermill": {
          "duration": 0.034847,
          "end_time": "2023-01-01T09:13:52.219633",
          "exception": false,
          "start_time": "2023-01-01T09:13:52.184786",
          "status": "completed"
        },
        "tags": []
      },
      "outputs": [],
      "source": [
        "def read_nifti_file(filepath):\n",
        "    \"\"\"Read and load volume\"\"\"\n",
        "    # Read file\n",
        "    scan = nib.load(filepath)\n",
        "    # Get raw data\n",
        "    scan = scan.get_fdata()\n",
        "    return scan\n",
        "\n",
        "\n",
        "def normalize(volume):\n",
        "    \"\"\"Normalize the volume\"\"\"\n",
        "    volume = (volume - np.min(volume)) / (np.max(volume) - np.min(volume))\n",
        "    return volume.astype('float32')\n",
        "\n",
        "\n",
        "def resize_volume(img, desired_width=128, desired_height=128, desired_depth=64):\n",
        "    \"\"\"Resize the volume\"\"\"\n",
        "    # Compute zoom factors\n",
        "    width_factor = desired_width / img.shape[0]\n",
        "    height_factor = desired_height / img.shape[1]\n",
        "    depth_factor = desired_depth / img.shape[-1]\n",
        "    # Rotate volume by 90 degrees\n",
        "    img = ndimage.rotate(img, 90, reshape=False)\n",
        "    # Resize the volume using spline interpolated zoom (SIZ)\n",
        "    img = zoom(img, (width_factor, height_factor, depth_factor), order=1)\n",
        "    return img\n",
        "\n",
        "\n",
        "def process_scan(path):\n",
        "    \"\"\"Read and resize volume\"\"\"\n",
        "    # Read scan\n",
        "    volume = read_nifti_file(path)\n",
        "    # Normalize\n",
        "    volume = normalize(volume)\n",
        "    # Resize width, height and depth\n",
        "#     volume = resize_volume(\n",
        "#         volume, config['img_size'], config['img_size'], config['depth']\n",
        "#     )\n",
        "    return volume"
      ]
    },
    {
      "cell_type": "markdown",
      "id": "f76f9188",
      "metadata": {
        "id": "f76f9188",
        "papermill": {
          "duration": 0.018244,
          "end_time": "2023-01-01T09:13:52.256398",
          "exception": false,
          "start_time": "2023-01-01T09:13:52.238154",
          "status": "completed"
        },
        "tags": []
      },
      "source": [
        " Class Distribution"
      ]
    },
    {
      "cell_type": "code",
      "execution_count": null,
      "id": "7bf6a4e4",
      "metadata": {
        "execution": {
          "iopub.execute_input": "2023-01-01T09:13:52.295972Z",
          "iopub.status.busy": "2023-01-01T09:13:52.295627Z",
          "iopub.status.idle": "2023-01-01T09:13:52.488709Z",
          "shell.execute_reply": "2023-01-01T09:13:52.487440Z"
        },
        "id": "7bf6a4e4",
        "papermill": {
          "duration": 0.217256,
          "end_time": "2023-01-01T09:13:52.492571",
          "exception": false,
          "start_time": "2023-01-01T09:13:52.275315",
          "status": "completed"
        },
        "tags": [],
        "outputId": "e6145611-cce4-4215-99a7-3e99c7dbb411"
      },
      "outputs": [
        {
          "name": "stdout",
          "output_type": "stream",
          "text": [
            "Number of MCI images: 278\n",
            "Number of NC images: 346\n"
          ]
        }
      ],
      "source": [
        "# ad_paths = [\n",
        "#     os.path.join(os.getcwd(), '/kaggle/input/3cla-adni/AD', x)\n",
        "#     for x in os.listdir('/kaggle/input/3cla-adni/AD')\n",
        "# ]\n",
        "\n",
        "mci_paths = [\n",
        "    os.path.join(os.getcwd(), '/kaggle/input/3cla-adni/MCI', x)\n",
        "    for x in os.listdir('/kaggle/input/3cla-adni/MCI')\n",
        "]\n",
        "\n",
        "nc_paths = [\n",
        "    os.path.join(os.getcwd(), '/kaggle/input/3cla-adni/NC', x)\n",
        "    for x in os.listdir('/kaggle/input/3cla-adni/NC')\n",
        "]\n",
        "\n",
        "# print(f'Number of AD images: {len(ad_paths)}')\n",
        "print(f'Number of MCI images: {len(mci_paths)}')\n",
        "print(f'Number of NC images: {len(nc_paths)}')"
      ]
    },
    {
      "cell_type": "markdown",
      "id": "e1d246b8",
      "metadata": {
        "id": "e1d246b8",
        "papermill": {
          "duration": 0.018685,
          "end_time": "2023-01-01T09:13:52.531484",
          "exception": false,
          "start_time": "2023-01-01T09:13:52.512799",
          "status": "completed"
        },
        "tags": []
      },
      "source": [
        "Build Train"
      ]
    },
    {
      "cell_type": "code",
      "execution_count": null,
      "id": "15ee05d1",
      "metadata": {
        "execution": {
          "iopub.execute_input": "2023-01-01T09:13:52.570621Z",
          "iopub.status.busy": "2023-01-01T09:13:52.570205Z",
          "iopub.status.idle": "2023-01-01T09:13:52.578659Z",
          "shell.execute_reply": "2023-01-01T09:13:52.577625Z"
        },
        "papermill": {
          "duration": 0.030487,
          "end_time": "2023-01-01T09:13:52.581079",
          "exception": false,
          "start_time": "2023-01-01T09:13:52.550592",
          "status": "completed"
        },
        "tags": [],
        "id": "15ee05d1"
      },
      "outputs": [],
      "source": [
        "mci_labels = np.array([0 for _ in range(len(mci_paths))])\n",
        "# ad_labels = np.array([1 for _ in range(len(ad_paths))])\n",
        "nc_labels = np.array([1 for _ in range(len(nc_paths))])\n",
        "CLASS_NAMES = ['MCI', 'NC']\n",
        "\n",
        "# labels = np.concatenate((np.concatenate((mci_labels, ad_labels), axis=0), nc_labels), axis=0)\n",
        "labels = np.concatenate((mci_labels, nc_labels), axis=0)\n",
        "# paths = np.concatenate((np.concatenate((mci_paths, ad_paths), axis=0), nc_paths), axis=0)\n",
        "paths = np.concatenate((mci_paths, nc_paths), axis=0)"
      ]
    },
    {
      "cell_type": "code",
      "execution_count": null,
      "id": "a08b61d0",
      "metadata": {
        "execution": {
          "iopub.execute_input": "2023-01-01T09:13:52.619678Z",
          "iopub.status.busy": "2023-01-01T09:13:52.619299Z",
          "iopub.status.idle": "2023-01-01T09:13:52.695746Z",
          "shell.execute_reply": "2023-01-01T09:13:52.694636Z"
        },
        "papermill": {
          "duration": 0.098395,
          "end_time": "2023-01-01T09:13:52.698188",
          "exception": false,
          "start_time": "2023-01-01T09:13:52.599793",
          "status": "completed"
        },
        "tags": [],
        "id": "a08b61d0",
        "outputId": "7a714f7a-3991-4cde-8964-40e2094980d5"
      },
      "outputs": [
        {
          "name": "stdout",
          "output_type": "stream",
          "text": [
            "Number of samples:\n",
            "train: 399\n",
            "validation: 100\n",
            "test: 125\n"
          ]
        }
      ],
      "source": [
        "train_indices, test_indices = next(\n",
        "    StratifiedShuffleSplit(1, train_size=0.8, random_state=seed).split(\n",
        "        paths, labels\n",
        "    )\n",
        ")\n",
        "\n",
        "tmp_labels = [labels[idx] for idx in train_indices]\n",
        "tmp_paths = [paths[idx] for idx in train_indices]\n",
        "\n",
        "tmp_train_indices, tmp_val_indices = next(\n",
        "    StratifiedShuffleSplit(1, train_size=0.8, random_state=seed).split(\n",
        "        tmp_paths, tmp_labels\n",
        "    )\n",
        ")\n",
        "\n",
        "tmp_train_paths = [tmp_paths[idx] for idx in tmp_train_indices]\n",
        "tmp_val_paths = [tmp_paths[idx] for idx in tmp_val_indices]\n",
        "\n",
        "train_indices = [paths.tolist().index(path) for path in tmp_train_paths]\n",
        "val_indices = [paths.tolist().index(path) for path in tmp_val_paths]\n",
        "\n",
        "# Check if there are no common indices\n",
        "assert bool(set(train_indices) & set(val_indices)) is False\n",
        "assert bool(set(train_indices) & set(test_indices)) is False\n",
        "assert bool(set(val_indices) & set(test_indices)) is False\n",
        "\n",
        "print(\n",
        "    'Number of samples:\\n'\n",
        "    f'train: {len(train_indices)}\\n'\n",
        "    f'validation: {len(val_indices)}\\n'\n",
        "    f'test: {len(test_indices)}'\n",
        ")"
      ]
    },
    {
      "cell_type": "code",
      "execution_count": null,
      "id": "c2034315",
      "metadata": {
        "execution": {
          "iopub.execute_input": "2023-01-01T09:13:52.775025Z",
          "iopub.status.busy": "2023-01-01T09:13:52.774672Z",
          "iopub.status.idle": "2023-01-01T09:13:52.782560Z",
          "shell.execute_reply": "2023-01-01T09:13:52.781707Z"
        },
        "id": "c2034315",
        "papermill": {
          "duration": 0.029874,
          "end_time": "2023-01-01T09:13:52.784851",
          "exception": false,
          "start_time": "2023-01-01T09:13:52.754977",
          "status": "completed"
        },
        "tags": []
      },
      "outputs": [],
      "source": [
        "def random_rotate(volume):\n",
        "    \"\"\"Rotate the volume by a few degrees\"\"\"\n",
        "\n",
        "    def scipy_rotate(volume):\n",
        "        # define some rotation angles\n",
        "        angles = [-20, -10, -5, 5, 10, 20]\n",
        "        # pick angles at random\n",
        "        angle = random.choice(angles)\n",
        "        # rotate volume\n",
        "        volume = ndimage.rotate(volume, angle, reshape=False)\n",
        "        volume[volume < 0] = 0\n",
        "        volume[volume > 1] = 1\n",
        "        return volume\n",
        "\n",
        "    augmented_volume = tf.numpy_function(scipy_rotate, [volume], tf.float32)\n",
        "    return augmented_volume"
      ]
    },
    {
      "cell_type": "code",
      "execution_count": null,
      "id": "521a491a",
      "metadata": {
        "execution": {
          "iopub.execute_input": "2023-01-01T09:13:52.862269Z",
          "iopub.status.busy": "2023-01-01T09:13:52.861888Z",
          "iopub.status.idle": "2023-01-01T09:13:52.877584Z",
          "shell.execute_reply": "2023-01-01T09:13:52.876729Z"
        },
        "papermill": {
          "duration": 0.038759,
          "end_time": "2023-01-01T09:13:52.880112",
          "exception": false,
          "start_time": "2023-01-01T09:13:52.841353",
          "status": "completed"
        },
        "tags": [],
        "id": "521a491a"
      },
      "outputs": [],
      "source": [
        "class DataGenerator(tf.keras.utils.Sequence):\n",
        "    'Generates data for Keras'\n",
        "    def __init__(self, indices, paths, labels, batch_size=4, dim=(113, 137, 113),\n",
        "                 n_classes=2, shuffle=True, transform=None):\n",
        "        'Initialization'\n",
        "        self.dim = dim\n",
        "        self.batch_size = batch_size\n",
        "        self.paths = paths\n",
        "        self.labels = labels\n",
        "        self.indices = indices\n",
        "        self.n_classes = n_classes\n",
        "        self.shuffle = shuffle\n",
        "        self.transform = transform\n",
        "        self.on_epoch_end()\n",
        "\n",
        "    def __len__(self):\n",
        "        'Denotes the number of batches per epoch'\n",
        "        return int(np.floor(len(self.indices) / self.batch_size))\n",
        "\n",
        "    def __getitem__(self, index):\n",
        "        'Generate one batch of data'\n",
        "        # Generate indexes of the batch\n",
        "        indexes = self.indexes[index*self.batch_size:(index+1)*self.batch_size]\n",
        "        # Find list of IDs\n",
        "        indices_temp = [self.indices[k] for k in indexes]\n",
        "\n",
        "        # Generate data\n",
        "        X, y = self.__data_generation(indices_temp)\n",
        "\n",
        "        return X, y\n",
        "\n",
        "    def on_epoch_end(self):\n",
        "        'Updates indexes after each epoch'\n",
        "        self.indexes = np.arange(len(self.indices))\n",
        "        if self.shuffle:\n",
        "            np.random.shuffle(self.indexes)\n",
        "\n",
        "    def __data_generation(self, indices_temp):\n",
        "        'Generates data containing batch_size samples'\n",
        "        # Initialization\n",
        "        X = np.empty((self.batch_size, *self.dim, 1))\n",
        "        y = np.empty((self.batch_size), dtype=int)\n",
        "\n",
        "        # Generate data\n",
        "        for i, ID in enumerate(indices_temp):\n",
        "            # Store sample\n",
        "            volume = process_scan(self.paths[ID])\n",
        "            if self.transform is not None:\n",
        "                volume = self.transform(volume)\n",
        "            X[i,] = np.expand_dims(volume, axis=3)\n",
        "\n",
        "            # Store class\n",
        "            y[i] = self.labels[ID]\n",
        "\n",
        "        return X, tf.keras.utils.to_categorical(y, num_classes=self.n_classes)"
      ]
    },
    {
      "cell_type": "code",
      "execution_count": null,
      "id": "c35fd3f3",
      "metadata": {
        "execution": {
          "iopub.execute_input": "2023-01-01T09:13:52.919028Z",
          "iopub.status.busy": "2023-01-01T09:13:52.918642Z",
          "iopub.status.idle": "2023-01-01T09:13:52.925865Z",
          "shell.execute_reply": "2023-01-01T09:13:52.925056Z"
        },
        "papermill": {
          "duration": 0.029162,
          "end_time": "2023-01-01T09:13:52.928233",
          "exception": false,
          "start_time": "2023-01-01T09:13:52.899071",
          "status": "completed"
        },
        "tags": [],
        "id": "c35fd3f3"
      },
      "outputs": [],
      "source": [
        "training_generator = DataGenerator(\n",
        "    train_indices,\n",
        "    paths,\n",
        "    labels,\n",
        "    batch_size=config['batch_size'],\n",
        "    shuffle=True,\n",
        "    transform=random_rotate,\n",
        ")\n",
        "\n",
        "validation_generator = DataGenerator(\n",
        "    val_indices,\n",
        "    paths,\n",
        "    labels,\n",
        "    batch_size=config['batch_size'],\n",
        "    shuffle=True,\n",
        ")\n",
        "\n",
        "test_generator = DataGenerator(\n",
        "    test_indices,\n",
        "    paths,\n",
        "    labels,\n",
        "    batch_size=config['test_batch_size'],\n",
        "    shuffle=False,\n",
        ")"
      ]
    },
    {
      "cell_type": "code",
      "execution_count": null,
      "id": "0ba15656",
      "metadata": {
        "execution": {
          "iopub.execute_input": "2023-01-01T09:13:53.005559Z",
          "iopub.status.busy": "2023-01-01T09:13:53.005191Z",
          "iopub.status.idle": "2023-01-01T09:13:53.418861Z",
          "shell.execute_reply": "2023-01-01T09:13:53.417736Z"
        },
        "id": "0ba15656",
        "papermill": {
          "duration": 0.436305,
          "end_time": "2023-01-01T09:13:53.421653",
          "exception": false,
          "start_time": "2023-01-01T09:13:52.985348",
          "status": "completed"
        },
        "tags": [],
        "outputId": "3eda82f6-70c9-43c2-c30f-3dc8f4026e69"
      },
      "outputs": [
        {
          "name": "stdout",
          "output_type": "stream",
          "text": [
            "Dimensions of the CT scan are: (113, 137, 113, 1)\n"
          ]
        },
        {
          "data": {
            "text/plain": [
              "<matplotlib.image.AxesImage at 0x7f77d805ab90>"
            ]
          },
          "execution_count": 13,
          "metadata": {},
          "output_type": "execute_result"
        },
        {
          "data": {
            "image/png": "[encoded data removed]",
            "text/plain": [
              "<Figure size 432x288 with 1 Axes>"
            ]
          },
          "metadata": {
            "needs_background": "light"
          },
          "output_type": "display_data"
        }
      ],
      "source": [
        "images = process_scan(paths[0])\n",
        "images = np.expand_dims(images, axis=3)\n",
        "images = np.expand_dims(images, axis=0)\n",
        "image = images[0]\n",
        "\n",
        "print('Dimensions of the CT scan are:', image.shape)\n",
        "plt.imshow(np.squeeze(image[:, :, 30]), cmap='bone')"
      ]
    },
    {
      "cell_type": "code",
      "execution_count": null,
      "id": "d7fd48b5",
      "metadata": {
        "execution": {
          "iopub.execute_input": "2023-01-01T09:13:53.506087Z",
          "iopub.status.busy": "2023-01-01T09:13:53.505678Z",
          "iopub.status.idle": "2023-01-01T09:13:55.739763Z",
          "shell.execute_reply": "2023-01-01T09:13:55.738481Z"
        },
        "id": "d7fd48b5",
        "papermill": {
          "duration": 2.258255,
          "end_time": "2023-01-01T09:13:55.742619",
          "exception": false,
          "start_time": "2023-01-01T09:13:53.484364",
          "status": "completed"
        },
        "tags": [],
        "outputId": "0c66fd9e-8f19-4618-b38c-0feaffd8968d"
      },
      "outputs": [
        {
          "data": {
            "image/png": "[encoded data removed]",
            "text/plain": [
              "<Figure size 864x285.057 with 40 Axes>"
            ]
          },
          "metadata": {
            "needs_background": "light"
          },
          "output_type": "display_data"
        }
      ],
      "source": [
        "def plot_slices(num_rows, num_columns, width, height, data):\n",
        "    \"\"\"Plot a montage of CT slices\"\"\"\n",
        "    data = np.rot90(np.array(data))\n",
        "    data = np.transpose(data)\n",
        "    data = np.reshape(data, (num_rows, num_columns, width, height))\n",
        "    rows_data, columns_data = data.shape[0], data.shape[1]\n",
        "    heights = [slc[0].shape[0] for slc in data]\n",
        "    widths = [slc.shape[1] for slc in data[0]]\n",
        "    fig_width = 12.0\n",
        "    fig_height = fig_width * sum(heights) / sum(widths)\n",
        "    _, axarr = plt.subplots(\n",
        "        rows_data,\n",
        "        columns_data,\n",
        "        figsize=(fig_width, fig_height),\n",
        "        gridspec_kw={'height_ratios': heights},\n",
        "    )\n",
        "    for i in range(rows_data):\n",
        "        for j in range(columns_data):\n",
        "            axarr[i, j].imshow(data[i][j], cmap='bone')\n",
        "            axarr[i, j].axis('off')\n",
        "    plt.subplots_adjust(wspace=0, hspace=0, left=0, right=1, bottom=0, top=1)\n",
        "    plt.show()\n",
        "\n",
        "\n",
        "# Visualize montage of slices.\n",
        "# 4 rows and 10 columns for 40 slices of the CT scan.\n",
        "plot_slices(4, 10, 113, 137, image[:, :, :40])"
      ]
    },
    {
      "cell_type": "markdown",
      "id": "80e9ea26",
      "metadata": {
        "id": "80e9ea26",
        "papermill": {
          "duration": 0.025616,
          "end_time": "2023-01-01T09:13:55.795730",
          "exception": false,
          "start_time": "2023-01-01T09:13:55.770114",
          "status": "completed"
        },
        "tags": []
      },
      "source": [
        "# 3D Convolutional Neural Network\n"
      ]
    },
    {
      "cell_type": "code",
      "execution_count": null,
      "id": "4b4358d4",
      "metadata": {
        "collapsed": true,
        "execution": {
          "iopub.execute_input": "2023-01-01T09:13:55.848500Z",
          "iopub.status.busy": "2023-01-01T09:13:55.847926Z",
          "iopub.status.idle": "2023-01-01T09:14:00.881496Z",
          "shell.execute_reply": "2023-01-01T09:14:00.879394Z"
        },
        "id": "4b4358d4",
        "jupyter": {
          "outputs_hidden": true
        },
        "papermill": {
          "duration": 5.063796,
          "end_time": "2023-01-01T09:14:00.884675",
          "exception": false,
          "start_time": "2023-01-01T09:13:55.820879",
          "status": "completed"
        },
        "tags": []
      },
      "outputs": [],
      "source": [
        "def get_model(height=113, width=137, depth=113):\n",
        "    \"\"\"Build a 3D convolutional neural network model.\"\"\"\n",
        "    modelPoint, _ = Classifiers.get('resnet50')\n",
        "    net = modelPoint(\n",
        "        input_shape=(height, width, depth, 1),\n",
        "        include_top=False,\n",
        "        weights=None,\n",
        "    )\n",
        "\n",
        "    x = net.layers[-1].output\n",
        "    x = GlobalAveragePooling3D()(x)\n",
        "    x = Dense(units=128, activation='relu')(x)\n",
        "    x = Dense(units=64, activation='relu')(x)\n",
        "    outputs = Dense(units=config['n_classes'], activation='softmax')(x)\n",
        "\n",
        "    return Model(net.inputs, outputs, name='3D-ResNet50')\n",
        "\n",
        "\n",
        "# Build model.\n",
        "model = get_model(height=113, width=137, depth=113)\n",
        "# model.summary()"
      ]
    },
    {
      "cell_type": "markdown",
      "id": "c73d590e",
      "metadata": {
        "id": "c73d590e",
        "papermill": {
          "duration": 0.025299,
          "end_time": "2023-01-01T09:14:00.937002",
          "exception": false,
          "start_time": "2023-01-01T09:14:00.911703",
          "status": "completed"
        },
        "tags": []
      },
      "source": [
        "## Model Training"
      ]
    },
    {
      "cell_type": "code",
      "execution_count": null,
      "id": "fd1932c5",
      "metadata": {
        "_kg_hide-output": true,
        "execution": {
          "iopub.execute_input": "2023-01-01T09:14:00.991156Z",
          "iopub.status.busy": "2023-01-01T09:14:00.990596Z",
          "iopub.status.idle": "2023-01-01T10:53:30.258011Z",
          "shell.execute_reply": "2023-01-01T10:53:30.250063Z"
        },
        "id": "fd1932c5",
        "papermill": {
          "duration": 5969.29803,
          "end_time": "2023-01-01T10:53:30.260508",
          "exception": false,
          "start_time": "2023-01-01T09:14:00.962478",
          "status": "completed"
        },
        "tags": [],
        "outputId": "06e6904f-b579-42fa-bbb7-04d07088fd53"
      },
      "outputs": [
        {
          "name": "stderr",
          "output_type": "stream",
          "text": [
            "\u001b[34m\u001b[1mwandb\u001b[0m: \u001b[33mWARNING\u001b[0m The save_model argument by default saves the model in the HDF5 format that cannot save custom objects like subclassed models and custom layers. This behavior will be deprecated in a future release in favor of the SavedModel format. Meanwhile, the HDF5 model is saved as W&B files and the SavedModel as W&B Artifacts.\n"
          ]
        },
        {
          "name": "stdout",
          "output_type": "stream",
          "text": [
            "Epoch 1/200\n",
            "99/99 - 141s - loss: 0.6915 - acc: 0.5581 - val_loss: 0.6898 - val_acc: 0.6100\n"
          ]
        },
        {
          "name": "stderr",
          "output_type": "stream",
          "text": [
            "/opt/conda/lib/python3.7/site-packages/keras/utils/generic_utils.py:497: CustomMaskWarning: Custom mask layers require a config and must override get_config. When loading, the custom mask layer must be passed to the custom_objects argument.\n",
            "  category=CustomMaskWarning)\n",
            "/opt/conda/lib/python3.7/site-packages/keras/utils/generic_utils.py:497: CustomMaskWarning: Custom mask layers require a config and must override get_config. When loading, the custom mask layer must be passed to the custom_objects argument.\n",
            "  category=CustomMaskWarning)\n",
            "/opt/conda/lib/python3.7/site-packages/keras/utils/generic_utils.py:497: CustomMaskWarning: Custom mask layers require a config and must override get_config. When loading, the custom mask layer must be passed to the custom_objects argument.\n",
            "  category=CustomMaskWarning)\n",
            "/opt/conda/lib/python3.7/site-packages/keras/utils/generic_utils.py:497: CustomMaskWarning: Custom mask layers require a config and must override get_config. When loading, the custom mask layer must be passed to the custom_objects argument.\n",
            "  category=CustomMaskWarning)\n",
            "/opt/conda/lib/python3.7/site-packages/keras/utils/generic_utils.py:497: CustomMaskWarning: Custom mask layers require a config and must override get_config. When loading, the custom mask layer must be passed to the custom_objects argument.\n",
            "  category=CustomMaskWarning)\n",
            "/opt/conda/lib/python3.7/site-packages/keras/utils/generic_utils.py:497: CustomMaskWarning: Custom mask layers require a config and must override get_config. When loading, the custom mask layer must be passed to the custom_objects argument.\n",
            "  category=CustomMaskWarning)\n",
            "/opt/conda/lib/python3.7/site-packages/keras/utils/generic_utils.py:497: CustomMaskWarning: Custom mask layers require a config and must override get_config. When loading, the custom mask layer must be passed to the custom_objects argument.\n",
            "  category=CustomMaskWarning)\n"
          ]
        },
        {
          "name": "stdout",
          "output_type": "stream",
          "text": [
            "Epoch 2/200\n",
            "99/99 - 109s - loss: 0.6729 - acc: 0.5833 - val_loss: 0.7042 - val_acc: 0.4500\n",
            "Epoch 3/200\n",
            "99/99 - 113s - loss: 0.6693 - acc: 0.5758 - val_loss: 0.6765 - val_acc: 0.5800\n"
          ]
        },
        {
          "name": "stderr",
          "output_type": "stream",
          "text": [
            "/opt/conda/lib/python3.7/site-packages/keras/utils/generic_utils.py:497: CustomMaskWarning: Custom mask layers require a config and must override get_config. When loading, the custom mask layer must be passed to the custom_objects argument.\n",
            "  category=CustomMaskWarning)\n",
            "/opt/conda/lib/python3.7/site-packages/keras/utils/generic_utils.py:497: CustomMaskWarning: Custom mask layers require a config and must override get_config. When loading, the custom mask layer must be passed to the custom_objects argument.\n",
            "  category=CustomMaskWarning)\n",
            "/opt/conda/lib/python3.7/site-packages/keras/utils/generic_utils.py:497: CustomMaskWarning: Custom mask layers require a config and must override get_config. When loading, the custom mask layer must be passed to the custom_objects argument.\n",
            "  category=CustomMaskWarning)\n",
            "/opt/conda/lib/python3.7/site-packages/keras/utils/generic_utils.py:497: CustomMaskWarning: Custom mask layers require a config and must override get_config. When loading, the custom mask layer must be passed to the custom_objects argument.\n",
            "  category=CustomMaskWarning)\n",
            "/opt/conda/lib/python3.7/site-packages/keras/utils/generic_utils.py:497: CustomMaskWarning: Custom mask layers require a config and must override get_config. When loading, the custom mask layer must be passed to the custom_objects argument.\n",
            "  category=CustomMaskWarning)\n",
            "/opt/conda/lib/python3.7/site-packages/keras/utils/generic_utils.py:497: CustomMaskWarning: Custom mask layers require a config and must override get_config. When loading, the custom mask layer must be passed to the custom_objects argument.\n",
            "  category=CustomMaskWarning)\n",
            "/opt/conda/lib/python3.7/site-packages/keras/utils/generic_utils.py:497: CustomMaskWarning: Custom mask layers require a config and must override get_config. When loading, the custom mask layer must be passed to the custom_objects argument.\n",
            "  category=CustomMaskWarning)\n",
            "/opt/conda/lib/python3.7/site-packages/keras/utils/generic_utils.py:497: CustomMaskWarning: Custom mask layers require a config and must override get_config. When loading, the custom mask layer must be passed to the custom_objects argument.\n",
            "  category=CustomMaskWarning)\n",
            "/opt/conda/lib/python3.7/site-packages/keras/utils/generic_utils.py:497: CustomMaskWarning: Custom mask layers require a config and must override get_config. When loading, the custom mask layer must be passed to the custom_objects argument.\n",
            "  category=CustomMaskWarning)\n"
          ]
        },
        {
          "name": "stdout",
          "output_type": "stream",
          "text": [
            "Epoch 4/200\n",
            "99/99 - 109s - loss: 0.6654 - acc: 0.5960 - val_loss: 0.6775 - val_acc: 0.4900\n",
            "Epoch 5/200\n",
            "99/99 - 109s - loss: 0.6429 - acc: 0.6364 - val_loss: 0.6667 - val_acc: 0.6100\n"
          ]
        },
        {
          "name": "stderr",
          "output_type": "stream",
          "text": [
            "/opt/conda/lib/python3.7/site-packages/keras/utils/generic_utils.py:497: CustomMaskWarning: Custom mask layers require a config and must override get_config. When loading, the custom mask layer must be passed to the custom_objects argument.\n",
            "  category=CustomMaskWarning)\n",
            "/opt/conda/lib/python3.7/site-packages/keras/utils/generic_utils.py:497: CustomMaskWarning: Custom mask layers require a config and must override get_config. When loading, the custom mask layer must be passed to the custom_objects argument.\n",
            "  category=CustomMaskWarning)\n",
            "/opt/conda/lib/python3.7/site-packages/keras/utils/generic_utils.py:497: CustomMaskWarning: Custom mask layers require a config and must override get_config. When loading, the custom mask layer must be passed to the custom_objects argument.\n",
            "  category=CustomMaskWarning)\n"
          ]
        },
        {
          "name": "stdout",
          "output_type": "stream",
          "text": [
            "Epoch 6/200\n",
            "99/99 - 109s - loss: 0.6322 - acc: 0.6389 - val_loss: 0.6893 - val_acc: 0.5100\n",
            "Epoch 7/200\n",
            "99/99 - 110s - loss: 0.6387 - acc: 0.6187 - val_loss: 0.6459 - val_acc: 0.6200\n"
          ]
        },
        {
          "name": "stderr",
          "output_type": "stream",
          "text": [
            "/opt/conda/lib/python3.7/site-packages/keras/utils/generic_utils.py:497: CustomMaskWarning: Custom mask layers require a config and must override get_config. When loading, the custom mask layer must be passed to the custom_objects argument.\n",
            "  category=CustomMaskWarning)\n",
            "/opt/conda/lib/python3.7/site-packages/keras/utils/generic_utils.py:497: CustomMaskWarning: Custom mask layers require a config and must override get_config. When loading, the custom mask layer must be passed to the custom_objects argument.\n",
            "  category=CustomMaskWarning)\n"
          ]
        },
        {
          "name": "stdout",
          "output_type": "stream",
          "text": [
            "Epoch 8/200\n",
            "99/99 - 109s - loss: 0.6201 - acc: 0.6717 - val_loss: 0.6855 - val_acc: 0.5200\n",
            "Epoch 9/200\n",
            "99/99 - 110s - loss: 0.5998 - acc: 0.6717 - val_loss: 0.6003 - val_acc: 0.6800\n"
          ]
        },
        {
          "name": "stderr",
          "output_type": "stream",
          "text": [
            "/opt/conda/lib/python3.7/site-packages/keras/utils/generic_utils.py:497: CustomMaskWarning: Custom mask layers require a config and must override get_config. When loading, the custom mask layer must be passed to the custom_objects argument.\n",
            "  category=CustomMaskWarning)\n",
            "/opt/conda/lib/python3.7/site-packages/keras/utils/generic_utils.py:497: CustomMaskWarning: Custom mask layers require a config and must override get_config. When loading, the custom mask layer must be passed to the custom_objects argument.\n",
            "  category=CustomMaskWarning)\n",
            "/opt/conda/lib/python3.7/site-packages/keras/utils/generic_utils.py:497: CustomMaskWarning: Custom mask layers require a config and must override get_config. When loading, the custom mask layer must be passed to the custom_objects argument.\n",
            "  category=CustomMaskWarning)\n",
            "/opt/conda/lib/python3.7/site-packages/keras/utils/generic_utils.py:497: CustomMaskWarning: Custom mask layers require a config and must override get_config. When loading, the custom mask layer must be passed to the custom_objects argument.\n",
            "  category=CustomMaskWarning)\n",
            "/opt/conda/lib/python3.7/site-packages/keras/utils/generic_utils.py:497: CustomMaskWarning: Custom mask layers require a config and must override get_config. When loading, the custom mask layer must be passed to the custom_objects argument.\n",
            "  category=CustomMaskWarning)\n"
          ]
        },
        {
          "name": "stdout",
          "output_type": "stream",
          "text": [
            "Epoch 10/200\n",
            "99/99 - 110s - loss: 0.6241 - acc: 0.6111 - val_loss: 0.6930 - val_acc: 0.5800\n",
            "Epoch 11/200\n",
            "99/99 - 113s - loss: 0.5938 - acc: 0.6843 - val_loss: 0.7850 - val_acc: 0.5100\n",
            "Epoch 12/200\n",
            "99/99 - 110s - loss: 0.5711 - acc: 0.7096 - val_loss: 0.8289 - val_acc: 0.5200\n",
            "Epoch 13/200\n",
            "99/99 - 110s - loss: 0.5608 - acc: 0.6944 - val_loss: 0.6254 - val_acc: 0.5600\n",
            "Epoch 14/200\n",
            "99/99 - 112s - loss: 0.5733 - acc: 0.6843 - val_loss: 0.5938 - val_acc: 0.6500\n"
          ]
        },
        {
          "name": "stderr",
          "output_type": "stream",
          "text": [
            "/opt/conda/lib/python3.7/site-packages/keras/utils/generic_utils.py:497: CustomMaskWarning: Custom mask layers require a config and must override get_config. When loading, the custom mask layer must be passed to the custom_objects argument.\n",
            "  category=CustomMaskWarning)\n",
            "/opt/conda/lib/python3.7/site-packages/keras/utils/generic_utils.py:497: CustomMaskWarning: Custom mask layers require a config and must override get_config. When loading, the custom mask layer must be passed to the custom_objects argument.\n",
            "  category=CustomMaskWarning)\n",
            "/opt/conda/lib/python3.7/site-packages/keras/utils/generic_utils.py:497: CustomMaskWarning: Custom mask layers require a config and must override get_config. When loading, the custom mask layer must be passed to the custom_objects argument.\n",
            "  category=CustomMaskWarning)\n"
          ]
        },
        {
          "name": "stdout",
          "output_type": "stream",
          "text": [
            "Epoch 15/200\n",
            "99/99 - 112s - loss: 0.5246 - acc: 0.7601 - val_loss: 1.4016 - val_acc: 0.4700\n",
            "Epoch 16/200\n",
            "99/99 - 112s - loss: 0.5349 - acc: 0.7399 - val_loss: 0.6359 - val_acc: 0.6200\n",
            "Epoch 17/200\n",
            "99/99 - 113s - loss: 0.5225 - acc: 0.7247 - val_loss: 0.5592 - val_acc: 0.6900\n"
          ]
        },
        {
          "name": "stderr",
          "output_type": "stream",
          "text": [
            "/opt/conda/lib/python3.7/site-packages/keras/utils/generic_utils.py:497: CustomMaskWarning: Custom mask layers require a config and must override get_config. When loading, the custom mask layer must be passed to the custom_objects argument.\n",
            "  category=CustomMaskWarning)\n",
            "/opt/conda/lib/python3.7/site-packages/keras/utils/generic_utils.py:497: CustomMaskWarning: Custom mask layers require a config and must override get_config. When loading, the custom mask layer must be passed to the custom_objects argument.\n",
            "  category=CustomMaskWarning)\n",
            "/opt/conda/lib/python3.7/site-packages/keras/utils/generic_utils.py:497: CustomMaskWarning: Custom mask layers require a config and must override get_config. When loading, the custom mask layer must be passed to the custom_objects argument.\n",
            "  category=CustomMaskWarning)\n"
          ]
        },
        {
          "name": "stdout",
          "output_type": "stream",
          "text": [
            "Epoch 18/200\n",
            "99/99 - 109s - loss: 0.5150 - acc: 0.7298 - val_loss: 0.6392 - val_acc: 0.6200\n",
            "Epoch 19/200\n",
            "99/99 - 112s - loss: 0.4607 - acc: 0.7854 - val_loss: 0.6446 - val_acc: 0.6500\n",
            "Epoch 20/200\n",
            "99/99 - 109s - loss: 0.5022 - acc: 0.7576 - val_loss: 1.1968 - val_acc: 0.5600\n",
            "Epoch 21/200\n",
            "99/99 - 114s - loss: 0.4772 - acc: 0.7424 - val_loss: 0.5697 - val_acc: 0.7400\n",
            "Epoch 22/200\n",
            "99/99 - 114s - loss: 0.4648 - acc: 0.7803 - val_loss: 1.5471 - val_acc: 0.5600\n",
            "Epoch 23/200\n",
            "99/99 - 109s - loss: 0.4429 - acc: 0.7955 - val_loss: 0.7046 - val_acc: 0.6500\n",
            "Epoch 24/200\n",
            "99/99 - 114s - loss: 0.4831 - acc: 0.7551 - val_loss: 0.6366 - val_acc: 0.6600\n",
            "Epoch 25/200\n",
            "99/99 - 113s - loss: 0.3676 - acc: 0.8485 - val_loss: 0.6364 - val_acc: 0.6200\n",
            "Epoch 26/200\n",
            "99/99 - 112s - loss: 0.4145 - acc: 0.8308 - val_loss: 0.7354 - val_acc: 0.5900\n",
            "Epoch 27/200\n",
            "99/99 - 115s - loss: 0.3689 - acc: 0.8510 - val_loss: 0.7567 - val_acc: 0.6200\n",
            "Epoch 28/200\n",
            "99/99 - 113s - loss: 0.3568 - acc: 0.8308 - val_loss: 0.7715 - val_acc: 0.5600\n",
            "Epoch 29/200\n",
            "99/99 - 114s - loss: 0.3689 - acc: 0.8384 - val_loss: 0.7838 - val_acc: 0.5600\n",
            "Epoch 30/200\n",
            "99/99 - 112s - loss: 0.3734 - acc: 0.8333 - val_loss: 1.1287 - val_acc: 0.6000\n",
            "Epoch 31/200\n",
            "99/99 - 114s - loss: 0.3476 - acc: 0.8535 - val_loss: 0.6857 - val_acc: 0.5800\n",
            "Epoch 32/200\n",
            "99/99 - 115s - loss: 0.3536 - acc: 0.8662 - val_loss: 0.7181 - val_acc: 0.6600\n",
            "Epoch 33/200\n",
            "99/99 - 112s - loss: 0.3116 - acc: 0.8763 - val_loss: 0.8050 - val_acc: 0.6400\n",
            "Epoch 34/200\n",
            "99/99 - 114s - loss: 0.3269 - acc: 0.8636 - val_loss: 0.6149 - val_acc: 0.6700\n",
            "Epoch 35/200\n",
            "99/99 - 111s - loss: 0.2981 - acc: 0.8813 - val_loss: 0.6539 - val_acc: 0.6700\n",
            "Epoch 36/200\n",
            "99/99 - 111s - loss: 0.3059 - acc: 0.8712 - val_loss: 0.6576 - val_acc: 0.6200\n",
            "Epoch 37/200\n",
            "99/99 - 111s - loss: 0.3126 - acc: 0.8662 - val_loss: 0.6990 - val_acc: 0.6300\n",
            "Epoch 38/200\n",
            "99/99 - 114s - loss: 0.2616 - acc: 0.9091 - val_loss: 0.8545 - val_acc: 0.6700\n",
            "Epoch 39/200\n",
            "99/99 - 114s - loss: 0.2986 - acc: 0.8763 - val_loss: 0.7511 - val_acc: 0.6000\n",
            "Epoch 40/200\n",
            "99/99 - 111s - loss: 0.3517 - acc: 0.8333 - val_loss: 0.8155 - val_acc: 0.6800\n",
            "Epoch 41/200\n",
            "99/99 - 116s - loss: 0.2714 - acc: 0.8838 - val_loss: 0.6679 - val_acc: 0.7200\n",
            "Epoch 42/200\n",
            "99/99 - 115s - loss: 0.2666 - acc: 0.9040 - val_loss: 0.7293 - val_acc: 0.6100\n",
            "Epoch 43/200\n",
            "99/99 - 112s - loss: 0.2764 - acc: 0.8813 - val_loss: 0.6934 - val_acc: 0.7000\n",
            "Epoch 44/200\n",
            "99/99 - 113s - loss: 0.2923 - acc: 0.8687 - val_loss: 0.6575 - val_acc: 0.6300\n",
            "Epoch 45/200\n",
            "99/99 - 111s - loss: 0.3068 - acc: 0.8838 - val_loss: 0.8095 - val_acc: 0.6800\n",
            "Epoch 46/200\n",
            "99/99 - 116s - loss: 0.2922 - acc: 0.8586 - val_loss: 0.6442 - val_acc: 0.7200\n",
            "Epoch 47/200\n",
            "99/99 - 116s - loss: 0.2178 - acc: 0.9091 - val_loss: 0.6339 - val_acc: 0.7100\n"
          ]
        },
        {
          "data": {
            "text/plain": [
              "<keras.callbacks.History at 0x7f77505393d0>"
            ]
          },
          "execution_count": 16,
          "metadata": {},
          "output_type": "execute_result"
        }
      ],
      "source": [
        "# Compile model\n",
        "model.compile(\n",
        "    loss='categorical_crossentropy',\n",
        "    optimizer=Adam(learning_rate=config['learning_rate']),\n",
        "    metrics=['acc'],\n",
        ")\n",
        "\n",
        "# Train the model, doing validation at the end of each epoch\n",
        "model.fit(\n",
        "    training_generator,\n",
        "    validation_data=validation_generator,\n",
        "    epochs=config['epochs'],\n",
        "    verbose=2,\n",
        "    callbacks=[\n",
        "        ModelCheckpoint('best.h5', save_best_only=True, monitor='val_loss', mode='min'),\n",
        "        ReduceLROnPlateau(\n",
        "            monitor='val_loss',\n",
        "            mode='min',\n",
        "            patience=7,\n",
        "            factor=0.5,\n",
        "            min_lr=config['min_learning_rate'],\n",
        "        ),\n",
        "        EarlyStopping(monitor='val_loss', mode='min', patience=30, restore_best_weights=True),\n",
        "        WandbCallback(mode='min'),\n",
        "    ],\n",
        "    workers=6\n",
        ")"
      ]
    },
    {
      "cell_type": "markdown",
      "id": "ff96a74c",
      "metadata": {
        "id": "ff96a74c",
        "papermill": {
          "duration": 0.136543,
          "end_time": "2023-01-01T10:53:30.544354",
          "exception": false,
          "start_time": "2023-01-01T10:53:30.407811",
          "status": "completed"
        },
        "tags": []
      },
      "source": [
        "Visualizing Training History\n",
        "\n"
      ]
    },
    {
      "cell_type": "code",
      "execution_count": null,
      "id": "12e58e29",
      "metadata": {
        "execution": {
          "iopub.execute_input": "2023-01-01T10:53:30.861850Z",
          "iopub.status.busy": "2023-01-01T10:53:30.861450Z",
          "iopub.status.idle": "2023-01-01T10:53:55.756233Z",
          "shell.execute_reply": "2023-01-01T10:53:55.755328Z"
        },
        "id": "12e58e29",
        "papermill": {
          "duration": 25.050605,
          "end_time": "2023-01-01T10:53:55.758445",
          "exception": false,
          "start_time": "2023-01-01T10:53:30.707840",
          "status": "completed"
        },
        "tags": [],
        "outputId": "4e7fbb30-42cb-423e-eef6-8f965ab2f6a5"
      },
      "outputs": [
        {
          "data": {
            "image/png": "[encoded data removed]",
            "text/plain": [
              "<Figure size 1440x216 with 2 Axes>"
            ]
          },
          "metadata": {
            "needs_background": "light"
          },
          "output_type": "display_data"
        }
      ],
      "source": [
        "fig, ax = plt.subplots(1, 2, figsize=(20, 3))\n",
        "ax = ax.ravel()\n",
        "\n",
        "for i, metric in enumerate(['acc', 'loss']):\n",
        "    ax[i].plot(model.history.history[metric])\n",
        "    ax[i].plot(model.history.history[f'val_{metric}'])\n",
        "    ax[i].set_title(f'Model {metric}')\n",
        "    ax[i].set_xlabel('epochs')\n",
        "    ax[i].set_ylabel(metric)\n",
        "    ax[i].legend(['train', 'val'])"
      ]
    },
    {
      "cell_type": "markdown",
      "id": "263ece46",
      "metadata": {
        "papermill": {
          "duration": 0.024455,
          "end_time": "2023-01-01T10:53:55.808487",
          "exception": false,
          "start_time": "2023-01-01T10:53:55.784032",
          "status": "completed"
        },
        "tags": [],
        "id": "263ece46"
      },
      "source": [
        "Cleanup"
      ]
    },
    {
      "cell_type": "code",
      "execution_count": null,
      "id": "fd45beb2",
      "metadata": {
        "execution": {
          "iopub.execute_input": "2023-01-01T10:53:55.862889Z",
          "iopub.status.busy": "2023-01-01T10:53:55.862541Z",
          "iopub.status.idle": "2023-01-01T10:54:05.034885Z",
          "shell.execute_reply": "2023-01-01T10:54:05.033934Z"
        },
        "papermill": {
          "duration": 9.200087,
          "end_time": "2023-01-01T10:54:05.037052",
          "exception": false,
          "start_time": "2023-01-01T10:53:55.836965",
          "status": "completed"
        },
        "tags": [],
        "colab": {
          "referenced_widgets": [
            "3c6a6d5362744afea82757c994435b9f"
          ]
        },
        "id": "fd45beb2",
        "outputId": "e83cd210-024f-481a-964c-f698151be250"
      },
      "outputs": [
        {
          "data": {
            "text/html": [
              "Waiting for W&B process to finish... <strong style=\"color:green\">(success).</strong>"
            ],
            "text/plain": [
              "<IPython.core.display.HTML object>"
            ]
          },
          "metadata": {},
          "output_type": "display_data"
        },
        {
          "data": {
            "application/vnd.jupyter.widget-view+json": {
              "model_id": "3c6a6d5362744afea82757c994435b9f",
              "version_major": 2,
              "version_minor": 0
            },
            "text/plain": [
              "VBox(children=(Label(value='532.264 MB of 532.264 MB uploaded (0.000 MB deduped)\\r'), FloatProgress(value=1.0,…"
            ]
          },
          "metadata": {},
          "output_type": "display_data"
        },
        {
          "data": {
            "text/html": [
              "<style>\n",
              "    table.wandb td:nth-child(1) { padding: 0 10px; text-align: left ; width: auto;} td:nth-child(2) {text-align: left ; width: 100%}\n",
              "    .wandb-row { display: flex; flex-direction: row; flex-wrap: wrap; justify-content: flex-start; width: 100% }\n",
              "    .wandb-col { display: flex; flex-direction: column; flex-basis: 100%; flex: 1; padding: 10px; }\n",
              "    </style>\n",
              "<div class=\"wandb-row\"><div class=\"wandb-col\"><h3>Run history:</h3><br/><table class=\"wandb\"><tr><td>acc</td><td>▁▂▁▂▃▃▃▃▂▄▄▄▅▅▄▄▆▅▅▆▅▇▆▆▇▆▇▇▇▇▇▇█▇▇█▇▇▇█</td></tr><tr><td>epoch</td><td>▁▁▁▁▂▂▂▂▂▃▃▃▃▃▃▄▄▄▄▄▅▅▅▅▅▅▆▆▆▆▆▆▇▇▇▇▇███</td></tr><tr><td>loss</td><td>████▇▇▇▇▇▇▆▆▆▆▆▅▅▅▅▄▅▃▄▃▃▃▃▃▃▂▂▂▂▂▂▂▂▂▂▁</td></tr><tr><td>lr</td><td>█████████████████████▄▄▄▄▄▄▂▂▂▂▂▂▁▁▁▁▁▁▁</td></tr><tr><td>val_acc</td><td>▅▁▄▂▅▂▃▇▄▂▃▄▁▅▇▅▆█▄▆▆▅▄▄▄▅▄▆▆▆▅▅▆▅█▅▇▅▇▇</td></tr><tr><td>val_loss</td><td>▂▂▂▂▂▂▂▁▂▃▃▁▇▂▁▂▂▁█▂▂▂▂▃▃▅▂▂▁▂▂▂▃▂▂▂▂▂▃▂</td></tr></table><br/></div><div class=\"wandb-col\"><h3>Run summary:</h3><br/><table class=\"wandb\"><tr><td>GFLOPS</td><td>39.41818</td></tr><tr><td>acc</td><td>0.90909</td></tr><tr><td>best_epoch</td><td>16</td></tr><tr><td>best_val_loss</td><td>0.55918</td></tr><tr><td>epoch</td><td>46</td></tr><tr><td>loss</td><td>0.21783</td></tr><tr><td>lr</td><td>0.0</td></tr><tr><td>val_acc</td><td>0.71</td></tr><tr><td>val_loss</td><td>0.63387</td></tr></table><br/></div></div>"
            ],
            "text/plain": [
              "<IPython.core.display.HTML object>"
            ]
          },
          "metadata": {},
          "output_type": "display_data"
        },
        {
          "data": {
            "text/html": [
              "Synced <strong style=\"color:#cdcd00\">7-mw-3D-CNN2-resnet50-MCI-NC</strong>: <a href=\"https://wandb.ai/nexer8/ADNI_Classification/runs/7-mw-3D-CNN2-resnet50-MCI-NC\" target=\"_blank\">https://wandb.ai/nexer8/ADNI_Classification/runs/7-mw-3D-CNN2-resnet50-MCI-NC</a><br/>Synced 6 W&B file(s), 0 media file(s), 0 artifact file(s) and 1 other file(s)"
            ],
            "text/plain": [
              "<IPython.core.display.HTML object>"
            ]
          },
          "metadata": {},
          "output_type": "display_data"
        },
        {
          "data": {
            "text/html": [
              "Find logs at: <code>./wandb/run-20230101_091345-7-mw-3D-CNN2-resnet50-MCI-NC/logs</code>"
            ],
            "text/plain": [
              "<IPython.core.display.HTML object>"
            ]
          },
          "metadata": {},
          "output_type": "display_data"
        }
      ],
      "source": [
        "wandb.finish()"
      ]
    },
    {
      "cell_type": "code",
      "execution_count": null,
      "id": "b252261f",
      "metadata": {
        "execution": {
          "iopub.execute_input": "2023-01-01T10:54:05.136415Z",
          "iopub.status.busy": "2023-01-01T10:54:05.136124Z",
          "iopub.status.idle": "2023-01-01T10:54:06.453092Z",
          "shell.execute_reply": "2023-01-01T10:54:06.452130Z"
        },
        "papermill": {
          "duration": 1.344035,
          "end_time": "2023-01-01T10:54:06.455263",
          "exception": false,
          "start_time": "2023-01-01T10:54:05.111228",
          "status": "completed"
        },
        "tags": [],
        "id": "b252261f",
        "outputId": "e76e636d-c0d8-4cb3-cf44-ff3b75456b8c"
      },
      "outputs": [
        {
          "name": "stdout",
          "output_type": "stream",
          "text": [
            "[0.52646464 0.47353536]\n"
          ]
        }
      ],
      "source": [
        "model.load_weights('best.h5')\n",
        "input_volume = test_generator.__getitem__(1)[0]\n",
        "\n",
        "prediction = model.predict(input_volume)[0]\n",
        "print(prediction)"
      ]
    },
    {
      "cell_type": "markdown",
      "id": "1aae8afa",
      "metadata": {
        "papermill": {
          "duration": 0.025379,
          "end_time": "2023-01-01T10:54:06.506634",
          "exception": false,
          "start_time": "2023-01-01T10:54:06.481255",
          "status": "completed"
        },
        "tags": [],
        "id": "1aae8afa"
      },
      "source": [
        "Model Evaluation"
      ]
    },
    {
      "cell_type": "code",
      "execution_count": null,
      "id": "cd4e5065",
      "metadata": {
        "execution": {
          "iopub.execute_input": "2023-01-01T10:54:06.556808Z",
          "iopub.status.busy": "2023-01-01T10:54:06.556464Z",
          "iopub.status.idle": "2023-01-01T10:54:14.138369Z",
          "shell.execute_reply": "2023-01-01T10:54:14.137375Z"
        },
        "papermill": {
          "duration": 7.610019,
          "end_time": "2023-01-01T10:54:14.141192",
          "exception": false,
          "start_time": "2023-01-01T10:54:06.531173",
          "status": "completed"
        },
        "tags": [],
        "id": "cd4e5065"
      },
      "outputs": [],
      "source": [
        "y_pred = [np.argmax(x) for x in model.predict(test_generator, batch_size=config['batch_size'])]\n",
        "y_test = [labels[idx] for idx in test_indices]"
      ]
    },
    {
      "cell_type": "markdown",
      "id": "5772f27f",
      "metadata": {
        "papermill": {
          "duration": 0.024298,
          "end_time": "2023-01-01T10:54:14.190891",
          "exception": false,
          "start_time": "2023-01-01T10:54:14.166593",
          "status": "completed"
        },
        "tags": [],
        "id": "5772f27f"
      },
      "source": [
        " Classification Report"
      ]
    },
    {
      "cell_type": "code",
      "execution_count": null,
      "id": "9061bf35",
      "metadata": {
        "execution": {
          "iopub.execute_input": "2023-01-01T10:54:14.241541Z",
          "iopub.status.busy": "2023-01-01T10:54:14.241107Z",
          "iopub.status.idle": "2023-01-01T10:54:14.252137Z",
          "shell.execute_reply": "2023-01-01T10:54:14.251215Z"
        },
        "papermill": {
          "duration": 0.038864,
          "end_time": "2023-01-01T10:54:14.254135",
          "exception": false,
          "start_time": "2023-01-01T10:54:14.215271",
          "status": "completed"
        },
        "tags": [],
        "id": "9061bf35",
        "outputId": "5ede3700-b301-440a-b470-3815f02ca61e"
      },
      "outputs": [
        {
          "name": "stdout",
          "output_type": "stream",
          "text": [
            "              precision    recall  f1-score   support\n",
            "\n",
            "           0      0.531     0.464     0.495        56\n",
            "           1      0.605     0.667     0.634        69\n",
            "\n",
            "    accuracy                          0.576       125\n",
            "   macro avg      0.568     0.565     0.565       125\n",
            "weighted avg      0.572     0.576     0.572       125\n",
            "\n"
          ]
        }
      ],
      "source": [
        "print(classification_report(y_test, y_pred, digits=3))"
      ]
    },
    {
      "cell_type": "markdown",
      "id": "b819c2c1",
      "metadata": {
        "papermill": {
          "duration": 0.0248,
          "end_time": "2023-01-01T10:54:14.303698",
          "exception": false,
          "start_time": "2023-01-01T10:54:14.278898",
          "status": "completed"
        },
        "tags": [],
        "id": "b819c2c1"
      },
      "source": [
        "Confusion Matrix"
      ]
    },
    {
      "cell_type": "code",
      "execution_count": null,
      "id": "85942ffa",
      "metadata": {
        "execution": {
          "iopub.execute_input": "2023-01-01T10:54:14.355007Z",
          "iopub.status.busy": "2023-01-01T10:54:14.354058Z",
          "iopub.status.idle": "2023-01-01T10:54:14.610436Z",
          "shell.execute_reply": "2023-01-01T10:54:14.609323Z"
        },
        "papermill": {
          "duration": 0.284394,
          "end_time": "2023-01-01T10:54:14.612795",
          "exception": false,
          "start_time": "2023-01-01T10:54:14.328401",
          "status": "completed"
        },
        "tags": [],
        "id": "85942ffa",
        "outputId": "d1097e0c-bc27-439b-f8f8-d34381324cb3"
      },
      "outputs": [
        {
          "data": {
            "text/plain": [
              "<AxesSubplot:>"
            ]
          },
          "execution_count": 22,
          "metadata": {},
          "output_type": "execute_result"
        },
        {
          "data": {
            "image/png": "[encoded data removed]",
            "text/plain": [
              "<Figure size 1080x432 with 2 Axes>"
            ]
          },
          "metadata": {
            "needs_background": "light"
          },
          "output_type": "display_data"
        }
      ],
      "source": [
        "cfsn_matrix = confusion_matrix(y_test, y_pred)\n",
        "df_cm = pd.DataFrame(cfsn_matrix, index=range(config['n_classes']), columns=CLASS_NAMES)\n",
        "plt.figure(figsize=(15, 6))\n",
        "sn.heatmap(df_cm, annot=True, linewidths=0.5, fmt='d')"
      ]
    },
    {
      "cell_type": "code",
      "execution_count": null,
      "id": "3e783b0e",
      "metadata": {
        "execution": {
          "iopub.execute_input": "2023-01-01T10:54:14.769014Z",
          "iopub.status.busy": "2023-01-01T10:54:14.768099Z",
          "iopub.status.idle": "2023-01-01T10:54:14.774175Z",
          "shell.execute_reply": "2023-01-01T10:54:14.773267Z"
        },
        "papermill": {
          "duration": 0.034709,
          "end_time": "2023-01-01T10:54:14.776351",
          "exception": false,
          "start_time": "2023-01-01T10:54:14.741642",
          "status": "completed"
        },
        "tags": [],
        "id": "3e783b0e"
      },
      "outputs": [],
      "source": [
        "volume_size = input_volume.shape\n",
        "last_conv_layer_name = 'relu1'"
      ]
    },
    {
      "cell_type": "code",
      "execution_count": null,
      "id": "8d8e1b36",
      "metadata": {
        "execution": {
          "iopub.execute_input": "2023-01-01T10:54:14.877596Z",
          "iopub.status.busy": "2023-01-01T10:54:14.877226Z",
          "iopub.status.idle": "2023-01-01T10:54:14.885678Z",
          "shell.execute_reply": "2023-01-01T10:54:14.884648Z"
        },
        "papermill": {
          "duration": 0.037246,
          "end_time": "2023-01-01T10:54:14.888201",
          "exception": false,
          "start_time": "2023-01-01T10:54:14.850955",
          "status": "completed"
        },
        "tags": [],
        "id": "8d8e1b36"
      },
      "outputs": [],
      "source": [
        "def make_gradcam_heatmap(img_array, model, last_conv_layer_name, pred_index=None):\n",
        "    \"\"\"Generate class activation heatmap\"\"\"\n",
        "    # First, we create a model that maps the input image to the activations\n",
        "    # of the last conv layer as well as the output predictions\n",
        "    grad_model = Model(\n",
        "        [model.inputs], [model.get_layer(\n",
        "            last_conv_layer_name).output, model.output]\n",
        "    )\n",
        "\n",
        "    # Then, we compute the gradient of the top predicted class for our input image\n",
        "    # with respect to the activations of the last conv layer\n",
        "    with tf.GradientTape() as tape:\n",
        "        last_conv_layer_output, preds = grad_model(img_array)\n",
        "        if pred_index is None:\n",
        "            pred_index = tf.argmax(preds[0])\n",
        "        class_channel = preds[:, pred_index]\n",
        "\n",
        "    # This is the gradient of the output neuron (top predicted or chosen)\n",
        "    # with regard to the output feature map of the last conv layer\n",
        "    grads = tape.gradient(class_channel, last_conv_layer_output)\n",
        "\n",
        "    # This is a vector where each entry is the mean intensity of the gradient\n",
        "    # over a specific feature map channel (equivalent to global average pooling)\n",
        "    pooled_grads = tf.reduce_mean(grads, axis=(0, 1, 2, 3))\n",
        "\n",
        "    # We multiply each channel in the feature map array\n",
        "    # by 'how important this channel is' with regard to the top predicted class\n",
        "    # then sum all the channels to obtain the heatmap class activation\n",
        "    last_conv_layer_output = last_conv_layer_output[0]\n",
        "    heatmap = last_conv_layer_output @ pooled_grads[..., tf.newaxis]\n",
        "    heatmap = tf.squeeze(heatmap)\n",
        "\n",
        "    # For visualization purpose, we will also normalize the heatmap between 0 & 1\n",
        "    # Notice that we clip the heatmap values, which is equivalent to applying ReLU\n",
        "    heatmap = tf.maximum(heatmap, 0) / tf.math.reduce_max(heatmap)\n",
        "    return heatmap.numpy()"
      ]
    },
    {
      "cell_type": "code",
      "execution_count": null,
      "id": "929eca17",
      "metadata": {
        "execution": {
          "iopub.execute_input": "2023-01-01T10:54:14.989461Z",
          "iopub.status.busy": "2023-01-01T10:54:14.988477Z",
          "iopub.status.idle": "2023-01-01T10:54:14.996034Z",
          "shell.execute_reply": "2023-01-01T10:54:14.995080Z"
        },
        "papermill": {
          "duration": 0.035265,
          "end_time": "2023-01-01T10:54:14.998076",
          "exception": false,
          "start_time": "2023-01-01T10:54:14.962811",
          "status": "completed"
        },
        "tags": [],
        "id": "929eca17",
        "outputId": "36998e24-4d60-4919-e66e-54e9626535d4"
      },
      "outputs": [
        {
          "name": "stdout",
          "output_type": "stream",
          "text": [
            "(1, 113, 137, 113, 1)\n"
          ]
        }
      ],
      "source": [
        "print(input_volume.shape)"
      ]
    },
    {
      "cell_type": "code",
      "execution_count": null,
      "id": "35fd8fb8",
      "metadata": {
        "execution": {
          "iopub.execute_input": "2023-01-01T10:54:15.049479Z",
          "iopub.status.busy": "2023-01-01T10:54:15.048598Z",
          "iopub.status.idle": "2023-01-01T10:54:15.366567Z",
          "shell.execute_reply": "2023-01-01T10:54:15.365146Z"
        },
        "papermill": {
          "duration": 0.345497,
          "end_time": "2023-01-01T10:54:15.368282",
          "exception": true,
          "start_time": "2023-01-01T10:54:15.022785",
          "status": "failed"
        },
        "tags": [],
        "id": "35fd8fb8",
        "outputId": "4829adbc-fda1-46bc-9c44-0f7c3ee65cae"
      },
      "outputs": [
        {
          "ename": "NameError",
          "evalue": "name 'img_array' is not defined",
          "output_type": "error",
          "traceback": [
            "\u001b[0;31m---------------------------------------------------------------------------\u001b[0m",
            "\u001b[0;31mNameError\u001b[0m                                 Traceback (most recent call last)",
            "\u001b[0;32m/tmp/ipykernel_23/3745085851.py\u001b[0m in \u001b[0;36m<module>\u001b[0;34m\u001b[0m\n\u001b[1;32m      6\u001b[0m \u001b[0mimg_arary\u001b[0m \u001b[0;34m=\u001b[0m \u001b[0minput_volume\u001b[0m\u001b[0;34m\u001b[0m\u001b[0;34m\u001b[0m\u001b[0m\n\u001b[1;32m      7\u001b[0m \u001b[0;34m\u001b[0m\u001b[0m\n\u001b[0;32m----> 8\u001b[0;31m \u001b[0mpreds\u001b[0m \u001b[0;34m=\u001b[0m \u001b[0mmodel\u001b[0m\u001b[0;34m.\u001b[0m\u001b[0mpredict\u001b[0m\u001b[0;34m(\u001b[0m\u001b[0mimg_array\u001b[0m\u001b[0;34m)\u001b[0m\u001b[0;34m\u001b[0m\u001b[0;34m\u001b[0m\u001b[0m\n\u001b[0m\u001b[1;32m      9\u001b[0m \u001b[0mprint\u001b[0m\u001b[0;34m(\u001b[0m\u001b[0;34m'Predicted:'\u001b[0m\u001b[0;34m,\u001b[0m \u001b[0mpreds\u001b[0m\u001b[0;34m[\u001b[0m\u001b[0;36m0\u001b[0m\u001b[0;34m]\u001b[0m\u001b[0;34m)\u001b[0m\u001b[0;34m\u001b[0m\u001b[0;34m\u001b[0m\u001b[0m\n\u001b[1;32m     10\u001b[0m \u001b[0;34m\u001b[0m\u001b[0m\n",
            "\u001b[0;31mNameError\u001b[0m: name 'img_array' is not defined"
          ]
        }
      ],
      "source": [
        "# Remove last layer's activation\n",
        "model.layers[-1].activation = None\n",
        "\n",
        "# Print what the top predicted class is\n",
        "input_volume = input_volume[0:1, :, :, :, :]\n",
        "img_arary = input_volume\n",
        "\n",
        "preds = model.predict(img_array)\n",
        "print('Predicted:', preds[0])\n",
        "\n",
        "input_volume = np.squeeze(input_volume)\n",
        "# Generate class activation heatmap\n",
        "heatmap = make_gradcam_heatmap(img_array, model, last_conv_layer_name)"
      ]
    },
    {
      "cell_type": "code",
      "execution_count": null,
      "id": "a4ae71b2",
      "metadata": {
        "execution": {
          "iopub.status.busy": "2023-01-01T08:09:11.004077Z",
          "iopub.status.idle": "2023-01-01T08:09:11.006559Z",
          "shell.execute_reply": "2023-01-01T08:09:11.006306Z",
          "shell.execute_reply.started": "2023-01-01T08:09:11.006279Z"
        },
        "papermill": {
          "duration": null,
          "end_time": null,
          "exception": null,
          "start_time": null,
          "status": "pending"
        },
        "tags": [],
        "id": "a4ae71b2"
      },
      "outputs": [],
      "source": [
        "plt.matshow(np.squeeze(heatmap[:, :, 1]))\n",
        "plt.show()"
      ]
    },
    {
      "cell_type": "markdown",
      "id": "192efc03",
      "metadata": {
        "papermill": {
          "duration": null,
          "end_time": null,
          "exception": null,
          "start_time": null,
          "status": "pending"
        },
        "tags": [],
        "id": "192efc03"
      },
      "source": [
        "## Expanding Heatmap Dimensions\n",
        "\n",
        "Notice that similarly to resizing the input volume, expanding the heatmap dimensions is based on the *spline interpolated zoom*."
      ]
    },
    {
      "cell_type": "code",
      "execution_count": null,
      "id": "8a4e4823",
      "metadata": {
        "execution": {
          "iopub.status.busy": "2023-01-01T08:09:11.008167Z",
          "iopub.status.idle": "2023-01-01T08:09:11.008894Z",
          "shell.execute_reply": "2023-01-01T08:09:11.008654Z",
          "shell.execute_reply.started": "2023-01-01T08:09:11.008630Z"
        },
        "papermill": {
          "duration": null,
          "end_time": null,
          "exception": null,
          "start_time": null,
          "status": "pending"
        },
        "tags": [],
        "id": "8a4e4823"
      },
      "outputs": [],
      "source": [
        "def get_resized_heatmap(heatmap, shape):\n",
        "    \"\"\"Resize heatmap to shape\"\"\"\n",
        "    # Rescale heatmap to a range 0-255\n",
        "    upscaled_heatmap = np.uint8(255 * heatmap)\n",
        "\n",
        "    upscaled_heatmap = zoom(\n",
        "        upscaled_heatmap,\n",
        "        (\n",
        "            shape[0] / upscaled_heatmap.shape[0],\n",
        "            shape[1] / upscaled_heatmap.shape[1],\n",
        "            shape[2] / upscaled_heatmap.shape[2],\n",
        "        ),\n",
        "    )\n",
        "\n",
        "    return upscaled_heatmap\n",
        "\n",
        "\n",
        "resized_heatmap = get_resized_heatmap(heatmap, input_volume.shape)"
      ]
    },
    {
      "cell_type": "markdown",
      "id": "33a052bc",
      "metadata": {
        "papermill": {
          "duration": null,
          "end_time": null,
          "exception": null,
          "start_time": null,
          "status": "pending"
        },
        "tags": [],
        "id": "33a052bc"
      },
      "source": [
        "# Visualizations\n",
        "\n",
        "Now it is time for us to graphically visualize the results obtained by overlaying the heatmap with the image. We utilize the `jet` colormap for this."
      ]
    },
    {
      "cell_type": "code",
      "execution_count": null,
      "id": "1c7e41e2",
      "metadata": {
        "execution": {
          "iopub.status.busy": "2023-01-01T08:09:11.010235Z",
          "iopub.status.idle": "2023-01-01T08:09:11.010969Z",
          "shell.execute_reply": "2023-01-01T08:09:11.010727Z",
          "shell.execute_reply.started": "2023-01-01T08:09:11.010703Z"
        },
        "papermill": {
          "duration": null,
          "end_time": null,
          "exception": null,
          "start_time": null,
          "status": "pending"
        },
        "tags": [],
        "id": "1c7e41e2"
      },
      "outputs": [],
      "source": [
        "fig, ax = plt.subplots(1, 2, figsize=(10, 20))\n",
        "\n",
        "ax[0].imshow(np.squeeze(input_volume[:, :, 30]), cmap='bone')\n",
        "img0 = ax[1].imshow(np.squeeze(input_volume[:, :, 30]), cmap='bone')\n",
        "img1 = ax[1].imshow(np.squeeze(resized_heatmap[:, :, 30]),\n",
        "                    cmap='jet', alpha=0.3, extent=img0.get_extent())\n",
        "plt.show()"
      ]
    },
    {
      "cell_type": "code",
      "execution_count": null,
      "id": "e914c567",
      "metadata": {
        "execution": {
          "iopub.status.busy": "2023-01-01T08:09:11.012305Z",
          "iopub.status.idle": "2023-01-01T08:09:11.013040Z",
          "shell.execute_reply": "2023-01-01T08:09:11.012785Z",
          "shell.execute_reply.started": "2023-01-01T08:09:11.012761Z"
        },
        "papermill": {
          "duration": null,
          "end_time": null,
          "exception": null,
          "start_time": null,
          "status": "pending"
        },
        "tags": [],
        "id": "e914c567"
      },
      "outputs": [],
      "source": [
        "def get_bounding_boxes(heatmap, threshold=0.15, otsu=False):\n",
        "    \"\"\"Get bounding boxes from heatmap\"\"\"\n",
        "    p_heatmap = np.copy(heatmap)\n",
        "\n",
        "    if otsu:\n",
        "        # Otsu's thresholding method to find the bounding boxes\n",
        "        threshold, p_heatmap = cv2.threshold(\n",
        "            heatmap, 0, 255, cv2.THRESH_BINARY + cv2.THRESH_OTSU\n",
        "        )\n",
        "    else:\n",
        "        # Using a fixed threshold\n",
        "        p_heatmap[p_heatmap < threshold * 255] = 0\n",
        "        p_heatmap[p_heatmap >= threshold * 255] = 1\n",
        "\n",
        "    # find the contours in the thresholded heatmap\n",
        "    contours = cv2.findContours(p_heatmap, cv2.RETR_EXTERNAL, cv2.CHAIN_APPROX_SIMPLE)\n",
        "    contours = contours[0] if len(contours) == 2 else contours[1]\n",
        "\n",
        "    # get the bounding boxes from the contours\n",
        "    bboxes = []\n",
        "    for c in contours:\n",
        "        x, y, w, h = cv2.boundingRect(c)\n",
        "        bboxes.append([x, y, x + w, y + h])\n",
        "\n",
        "    return bboxes\n",
        "\n",
        "\n",
        "def get_bbox_patches(bboxes, color='r', linewidth=2):\n",
        "    \"\"\"Get patches for bounding boxes\"\"\"\n",
        "    patches = []\n",
        "    for bbox in bboxes:\n",
        "        x1, y1, x2, y2 = bbox\n",
        "        patches.append(\n",
        "            Rectangle(\n",
        "                (x1, y1),\n",
        "                x2 - x1,\n",
        "                y2 - y1,\n",
        "                edgecolor=color,\n",
        "                facecolor='none',\n",
        "                linewidth=linewidth,\n",
        "            )\n",
        "        )\n",
        "    return patches"
      ]
    },
    {
      "cell_type": "code",
      "execution_count": null,
      "id": "99c176ac",
      "metadata": {
        "execution": {
          "iopub.status.busy": "2023-01-01T08:09:11.014394Z",
          "iopub.status.idle": "2023-01-01T08:09:11.015108Z",
          "shell.execute_reply": "2023-01-01T08:09:11.014871Z",
          "shell.execute_reply.started": "2023-01-01T08:09:11.014846Z"
        },
        "papermill": {
          "duration": null,
          "end_time": null,
          "exception": null,
          "start_time": null,
          "status": "pending"
        },
        "tags": [],
        "id": "99c176ac"
      },
      "outputs": [],
      "source": [
        "# show the bounding boxes on the original image\n",
        "fig, ax = plt.subplots(1, 2, figsize=(10, 20))\n",
        "\n",
        "ax[0].imshow(np.squeeze(input_volume[:, :, 30]), cmap='bone')\n",
        "img0 = ax[1].imshow(np.squeeze(input_volume[:, :, 30]), cmap='bone')\n",
        "img1 = ax[1].imshow(np.squeeze(resized_heatmap[:, :, 30]),\n",
        "                    cmap='jet', alpha=0.3, extent=img0.get_extent())\n",
        "\n",
        "bboxes = get_bounding_boxes(np.squeeze(resized_heatmap[:, :, 30]))\n",
        "patches = get_bbox_patches(bboxes)\n",
        "\n",
        "for patch in patches:\n",
        "    ax[1].add_patch(patch)\n",
        "\n",
        "plt.show()"
      ]
    },
    {
      "cell_type": "code",
      "execution_count": null,
      "id": "25d8ddb3",
      "metadata": {
        "execution": {
          "iopub.execute_input": "2023-01-01T08:09:11.035000Z",
          "iopub.status.busy": "2023-01-01T08:09:11.034340Z",
          "iopub.status.idle": "2023-01-01T08:09:11.055661Z",
          "shell.execute_reply": "2023-01-01T08:09:11.054717Z",
          "shell.execute_reply.started": "2023-01-01T08:09:11.034959Z"
        },
        "papermill": {
          "duration": null,
          "end_time": null,
          "exception": null,
          "start_time": null,
          "status": "pending"
        },
        "tags": [],
        "id": "25d8ddb3"
      },
      "outputs": [],
      "source": [
        "def _draw_line(ax, coords, clr='g'):\n",
        "    line = Path(coords, [Path.MOVETO, Path.LINETO])\n",
        "    pp = PathPatch(line, linewidth=3, edgecolor=clr, facecolor='none')\n",
        "    ax.add_patch(pp)\n",
        "\n",
        "\n",
        "def _set_axes_labels(ax, axes_x, axes_y):\n",
        "    ax.set_xlabel(axes_x)\n",
        "    ax.set_ylabel(axes_y)\n",
        "    ax.set_aspect('equal', 'box')\n",
        "\n",
        "\n",
        "def _draw_bboxes(ax, heatmap):\n",
        "    bboxes = get_bounding_boxes(heatmap, otsu=True)\n",
        "    patches = get_bbox_patches(bboxes)\n",
        "    for patch in patches:\n",
        "        ax.add_patch(patch)\n",
        "\n",
        "\n",
        "_rec_prop = dict(linewidth=5, facecolor='none')\n",
        "\n",
        "\n",
        "def show_volume(vol, z, y, x, heatmap=None, alpha=0.3, fig_size=(6, 6)):\n",
        "    \"\"\"Show a slice of a volume with optional heatmap\"\"\"\n",
        "    fig, axarr = plt.subplots(nrows=2, ncols=2, figsize=fig_size)\n",
        "    v_z, v_y, v_x = vol.shape\n",
        "\n",
        "    img0 = axarr[0, 0].imshow(vol[z, :, :], cmap='bone')\n",
        "    if heatmap is not None:\n",
        "        axarr[0, 0].imshow(\n",
        "            heatmap[z, :, :], cmap='jet', alpha=alpha, extent=img0.get_extent()\n",
        "        )\n",
        "        _draw_bboxes(axarr[0, 0], heatmap[z, :, :])\n",
        "\n",
        "    axarr[0, 0].add_patch(Rectangle((-1, -1), v_x, v_y, edgecolor='r', **_rec_prop))\n",
        "    _draw_line(axarr[0, 0], [(x, 0), (x, v_y)], 'g')\n",
        "    _draw_line(axarr[0, 0], [(0, y), (v_x, y)], 'b')\n",
        "    _set_axes_labels(axarr[0, 0], 'X', 'Y')\n",
        "\n",
        "    img1 = axarr[0, 1].imshow(vol[:, :, x].T, cmap='bone')\n",
        "    if heatmap is not None:\n",
        "        axarr[0, 1].imshow(\n",
        "            heatmap[:, :, x].T, cmap='jet', alpha=alpha, extent=img1.get_extent()\n",
        "        )\n",
        "        _draw_bboxes(axarr[0, 1], heatmap[:, :, x].T)\n",
        "\n",
        "    axarr[0, 1].add_patch(Rectangle((-1, -1), v_z, v_y, edgecolor='g', **_rec_prop))\n",
        "    _draw_line(axarr[0, 1], [(z, 0), (z, v_y)], 'r')\n",
        "    _draw_line(axarr[0, 1], [(0, y), (v_x, y)], \"b\")\n",
        "    _set_axes_labels(axarr[0, 1], 'Z', 'Y')\n",
        "\n",
        "    img2 = axarr[1, 0].imshow(vol[:, y, :], cmap='bone')\n",
        "    if heatmap is not None:\n",
        "        axarr[1, 0].imshow(\n",
        "            heatmap[:, y, :], cmap='jet', alpha=alpha, extent=img2.get_extent()\n",
        "        )\n",
        "        _draw_bboxes(axarr[1, 0], heatmap[:, y, :])\n",
        "\n",
        "    axarr[1, 0].add_patch(Rectangle((-1, -1), v_x, v_z, edgecolor='b', **_rec_prop))\n",
        "    _draw_line(axarr[1, 0], [(0, z), (v_x, z)], 'r')\n",
        "    _draw_line(axarr[1, 0], [(x, 0), (x, v_y)], 'g')\n",
        "    _set_axes_labels(axarr[1, 0], 'X', 'Z')\n",
        "    axarr[1, 1].set_axis_off()\n",
        "    fig.tight_layout()\n",
        "\n",
        "\n",
        "def interactive_show(volume, heatmap=None):\n",
        "    \"\"\"Show a volume interactively\"\"\"\n",
        "    # transpose volume from (x, y, z) to (z, y, x)\n",
        "    volume = np.transpose(volume, (2, 0, 1))\n",
        "    if heatmap is not None:\n",
        "        heatmap = np.transpose(heatmap, (2, 0, 1))\n",
        "    vol_shape = volume.shape\n",
        "\n",
        "    interact(\n",
        "        lambda x, y, z: plt.show(show_volume(volume, z, y, x, heatmap)),\n",
        "        z=IntSlider(min=0, max=vol_shape[0] - 1, step=1, value=int(vol_shape[0] / 2)),\n",
        "        y=IntSlider(min=0, max=vol_shape[1] - 1, step=1, value=int(vol_shape[1] / 2)),\n",
        "        x=IntSlider(min=0, max=vol_shape[2] - 1, step=1, value=int(vol_shape[2] / 2)),\n",
        "    )"
      ]
    },
    {
      "cell_type": "code",
      "execution_count": null,
      "id": "3358c018",
      "metadata": {
        "execution": {
          "iopub.execute_input": "2023-01-01T08:09:11.060542Z",
          "iopub.status.busy": "2023-01-01T08:09:11.059484Z",
          "iopub.status.idle": "2023-01-01T08:09:11.109098Z",
          "shell.execute_reply": "2023-01-01T08:09:11.107823Z",
          "shell.execute_reply.started": "2023-01-01T08:09:11.060504Z"
        },
        "papermill": {
          "duration": null,
          "end_time": null,
          "exception": null,
          "start_time": null,
          "status": "pending"
        },
        "tags": [],
        "id": "3358c018"
      },
      "outputs": [],
      "source": [
        "interactive_show(input_volume)"
      ]
    },
    {
      "cell_type": "code",
      "execution_count": null,
      "id": "8b569369",
      "metadata": {
        "execution": {
          "iopub.status.busy": "2023-01-01T08:09:11.110074Z",
          "iopub.status.idle": "2023-01-01T08:09:11.111381Z",
          "shell.execute_reply": "2023-01-01T08:09:11.111127Z",
          "shell.execute_reply.started": "2023-01-01T08:09:11.111102Z"
        },
        "papermill": {
          "duration": null,
          "end_time": null,
          "exception": null,
          "start_time": null,
          "status": "pending"
        },
        "tags": [],
        "id": "8b569369"
      },
      "outputs": [],
      "source": [
        "interactive_show(input_volume, resized_heatmap)"
      ]
    }
  ],
  "metadata": {
    "kernelspec": {
      "display_name": "Python 3",
      "language": "python",
      "name": "python3"
    },
    "language_info": {
      "codemirror_mode": {
        "name": "ipython",
        "version": 3
      },
      "file_extension": ".py",
      "mimetype": "text/x-python",
      "name": "python",
      "nbconvert_exporter": "python",
      "pygments_lexer": "ipython3",
      "version": "3.7.12"
    },
    "papermill": {
      "default_parameters": {},
      "duration": 6061.584343,
      "end_time": "2023-01-01T10:54:18.224883",
      "environment_variables": {},
      "exception": true,
      "input_path": "__notebook__.ipynb",
      "output_path": "__notebook__.ipynb",
      "parameters": {},
      "start_time": "2023-01-01T09:13:16.640540",
      "version": "2.3.4"
    },
    "widgets": {
      "application/vnd.jupyter.widget-state+json": {}
    },
    "colab": {
      "provenance": [],
      "include_colab_link": true
    }
  },
  "nbformat": 4,
  "nbformat_minor": 5
}