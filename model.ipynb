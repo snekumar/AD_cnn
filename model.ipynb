{
 "cells": [
  {
   "cell_type": "code",
   "execution_count": 1,
   "metadata": {},
   "outputs": [],
   "source": [
    "import numpy as np\n",
    "import pandas as pd\n",
    "import matplotlib as plt\n",
    "import seaborn as sns\n",
    "import matplotlib.pyplot as plt\n",
    "%matplotlib inline"
   ]
  },
  {
   "cell_type": "code",
   "execution_count": 2,
   "metadata": {},
   "outputs": [],
   "source": [
    "df = pd.read_csv('D:/pythonproject/Data_training_and_val_set_CNvsAD.csv')"
   ]
  },
  {
   "cell_type": "code",
   "execution_count": 3,
   "metadata": {},
   "outputs": [
    {
     "data": {
      "text/html": [
       "<div>\n",
       "<style scoped>\n",
       "    .dataframe tbody tr th:only-of-type {\n",
       "        vertical-align: middle;\n",
       "    }\n",
       "\n",
       "    .dataframe tbody tr th {\n",
       "        vertical-align: top;\n",
       "    }\n",
       "\n",
       "    .dataframe thead th {\n",
       "        text-align: right;\n",
       "    }\n",
       "</style>\n",
       "<table border=\"1\" class=\"dataframe\">\n",
       "  <thead>\n",
       "    <tr style=\"text-align: right;\">\n",
       "      <th></th>\n",
       "      <th>RID</th>\n",
       "      <th>BRAIN</th>\n",
       "      <th>EICV</th>\n",
       "      <th>VENTRICLES</th>\n",
       "      <th>LHIPPOC</th>\n",
       "      <th>RHIPPOC</th>\n",
       "      <th>LINFLATVEN</th>\n",
       "      <th>RINFLATVEN</th>\n",
       "      <th>LMIDTEMP</th>\n",
       "      <th>RMIDTEMP</th>\n",
       "      <th>LINFTEMP</th>\n",
       "      <th>RINFTEMP</th>\n",
       "      <th>LFUSIFORM</th>\n",
       "      <th>RFUSIFORM</th>\n",
       "      <th>LENTORHIN</th>\n",
       "      <th>RENTORHIN</th>\n",
       "      <th>DXCURREN</th>\n",
       "    </tr>\n",
       "  </thead>\n",
       "  <tbody>\n",
       "    <tr>\n",
       "      <th>0</th>\n",
       "      <td>1063</td>\n",
       "      <td>937159</td>\n",
       "      <td>1401690</td>\n",
       "      <td>38855.4</td>\n",
       "      <td>3427.13</td>\n",
       "      <td>3262.01</td>\n",
       "      <td>1045.280</td>\n",
       "      <td>1263.010</td>\n",
       "      <td>2.44566</td>\n",
       "      <td>2.48342</td>\n",
       "      <td>2.47434</td>\n",
       "      <td>2.49197</td>\n",
       "      <td>2.27057</td>\n",
       "      <td>2.11083</td>\n",
       "      <td>2.99752</td>\n",
       "      <td>3.24032</td>\n",
       "      <td>0</td>\n",
       "    </tr>\n",
       "    <tr>\n",
       "      <th>1</th>\n",
       "      <td>184</td>\n",
       "      <td>901429</td>\n",
       "      <td>1235930</td>\n",
       "      <td>10081.2</td>\n",
       "      <td>3410.35</td>\n",
       "      <td>3693.69</td>\n",
       "      <td>529.756</td>\n",
       "      <td>391.364</td>\n",
       "      <td>2.52101</td>\n",
       "      <td>2.69526</td>\n",
       "      <td>2.81781</td>\n",
       "      <td>2.76115</td>\n",
       "      <td>2.42640</td>\n",
       "      <td>2.50153</td>\n",
       "      <td>3.40556</td>\n",
       "      <td>3.36431</td>\n",
       "      <td>0</td>\n",
       "    </tr>\n",
       "    <tr>\n",
       "      <th>2</th>\n",
       "      <td>16</td>\n",
       "      <td>935565</td>\n",
       "      <td>1345440</td>\n",
       "      <td>21299.0</td>\n",
       "      <td>3621.49</td>\n",
       "      <td>3802.43</td>\n",
       "      <td>887.978</td>\n",
       "      <td>1135.170</td>\n",
       "      <td>2.45128</td>\n",
       "      <td>2.53828</td>\n",
       "      <td>2.40015</td>\n",
       "      <td>2.46122</td>\n",
       "      <td>1.99782</td>\n",
       "      <td>2.40015</td>\n",
       "      <td>3.19497</td>\n",
       "      <td>3.02149</td>\n",
       "      <td>0</td>\n",
       "    </tr>\n",
       "    <tr>\n",
       "      <th>3</th>\n",
       "      <td>575</td>\n",
       "      <td>884775</td>\n",
       "      <td>1325760</td>\n",
       "      <td>69220.3</td>\n",
       "      <td>2802.91</td>\n",
       "      <td>3098.38</td>\n",
       "      <td>3215.570</td>\n",
       "      <td>3370.800</td>\n",
       "      <td>2.59348</td>\n",
       "      <td>2.62409</td>\n",
       "      <td>2.50552</td>\n",
       "      <td>2.95271</td>\n",
       "      <td>2.09972</td>\n",
       "      <td>2.12354</td>\n",
       "      <td>2.43217</td>\n",
       "      <td>2.99445</td>\n",
       "      <td>0</td>\n",
       "    </tr>\n",
       "    <tr>\n",
       "      <th>4</th>\n",
       "      <td>403</td>\n",
       "      <td>1062950</td>\n",
       "      <td>1498230</td>\n",
       "      <td>32967.7</td>\n",
       "      <td>3416.55</td>\n",
       "      <td>4103.49</td>\n",
       "      <td>1648.410</td>\n",
       "      <td>1480.410</td>\n",
       "      <td>2.78544</td>\n",
       "      <td>2.76651</td>\n",
       "      <td>2.71469</td>\n",
       "      <td>2.54695</td>\n",
       "      <td>2.38363</td>\n",
       "      <td>2.48169</td>\n",
       "      <td>3.71762</td>\n",
       "      <td>3.86305</td>\n",
       "      <td>0</td>\n",
       "    </tr>\n",
       "  </tbody>\n",
       "</table>\n",
       "</div>"
      ],
      "text/plain": [
       "    RID    BRAIN     EICV  VENTRICLES  LHIPPOC  RHIPPOC  LINFLATVEN  \\\n",
       "0  1063   937159  1401690     38855.4  3427.13  3262.01    1045.280   \n",
       "1   184   901429  1235930     10081.2  3410.35  3693.69     529.756   \n",
       "2    16   935565  1345440     21299.0  3621.49  3802.43     887.978   \n",
       "3   575   884775  1325760     69220.3  2802.91  3098.38    3215.570   \n",
       "4   403  1062950  1498230     32967.7  3416.55  4103.49    1648.410   \n",
       "\n",
       "   RINFLATVEN  LMIDTEMP  RMIDTEMP  LINFTEMP  RINFTEMP  LFUSIFORM  RFUSIFORM  \\\n",
       "0    1263.010   2.44566   2.48342   2.47434   2.49197    2.27057    2.11083   \n",
       "1     391.364   2.52101   2.69526   2.81781   2.76115    2.42640    2.50153   \n",
       "2    1135.170   2.45128   2.53828   2.40015   2.46122    1.99782    2.40015   \n",
       "3    3370.800   2.59348   2.62409   2.50552   2.95271    2.09972    2.12354   \n",
       "4    1480.410   2.78544   2.76651   2.71469   2.54695    2.38363    2.48169   \n",
       "\n",
       "   LENTORHIN  RENTORHIN  DXCURREN  \n",
       "0    2.99752    3.24032         0  \n",
       "1    3.40556    3.36431         0  \n",
       "2    3.19497    3.02149         0  \n",
       "3    2.43217    2.99445         0  \n",
       "4    3.71762    3.86305         0  "
      ]
     },
     "execution_count": 3,
     "metadata": {},
     "output_type": "execute_result"
    }
   ],
   "source": [
    "# check the dataset\n",
    "\n",
    "df.head()"
   ]
  },
  {
   "cell_type": "code",
   "execution_count": 4,
   "metadata": {},
   "outputs": [
    {
     "name": "stdout",
     "output_type": "stream",
     "text": [
      "Number of samples =  220\n",
      "Number of features =  17\n"
     ]
    }
   ],
   "source": [
    "# check the shape of the dataset\n",
    "\n",
    "no_samples = df.shape[0]\n",
    "no_cols = df.shape[1]\n",
    "\n",
    "print(\"Number of samples = \", no_samples)\n",
    "print(\"Number of features = \", no_cols)"
   ]
  },
  {
   "cell_type": "code",
   "execution_count": 5,
   "metadata": {},
   "outputs": [
    {
     "name": "stdout",
     "output_type": "stream",
     "text": [
      "<class 'pandas.core.frame.DataFrame'>\n",
      "RangeIndex: 220 entries, 0 to 219\n",
      "Data columns (total 17 columns):\n",
      " #   Column      Non-Null Count  Dtype  \n",
      "---  ------      --------------  -----  \n",
      " 0   RID         220 non-null    int64  \n",
      " 1   BRAIN       220 non-null    int64  \n",
      " 2   EICV        220 non-null    int64  \n",
      " 3   VENTRICLES  220 non-null    float64\n",
      " 4   LHIPPOC     220 non-null    float64\n",
      " 5   RHIPPOC     220 non-null    float64\n",
      " 6   LINFLATVEN  220 non-null    float64\n",
      " 7   RINFLATVEN  220 non-null    float64\n",
      " 8   LMIDTEMP    220 non-null    float64\n",
      " 9   RMIDTEMP    220 non-null    float64\n",
      " 10  LINFTEMP    220 non-null    float64\n",
      " 11  RINFTEMP    220 non-null    float64\n",
      " 12  LFUSIFORM   220 non-null    float64\n",
      " 13  RFUSIFORM   220 non-null    float64\n",
      " 14  LENTORHIN   220 non-null    float64\n",
      " 15  RENTORHIN   220 non-null    float64\n",
      " 16  DXCURREN    220 non-null    int64  \n",
      "dtypes: float64(13), int64(4)\n",
      "memory usage: 29.3 KB\n"
     ]
    }
   ],
   "source": [
    "# check the data information\n",
    "\n",
    "df.info()"
   ]
  },
  {
   "attachments": {},
   "cell_type": "markdown",
   "metadata": {},
   "source": [
    "EDA"
   ]
  },
  {
   "cell_type": "code",
   "execution_count": 6,
   "metadata": {},
   "outputs": [
    {
     "data": {
      "text/plain": [
       "BRAIN       BRAIN         1.000000\n",
       "            EICV          0.914554\n",
       "LHIPPOC     RHIPPOC       0.882356\n",
       "RMIDTEMP    RINFTEMP      0.874190\n",
       "LINFTEMP    LMIDTEMP      0.871690\n",
       "LINFLATVEN  RINFLATVEN    0.851397\n",
       "LINFTEMP    LFUSIFORM     0.849473\n",
       "RFUSIFORM   RINFTEMP      0.821934\n",
       "LMIDTEMP    LFUSIFORM     0.803698\n",
       "RMIDTEMP    RFUSIFORM     0.791022\n",
       "dtype: float64"
      ]
     },
     "execution_count": 6,
     "metadata": {},
     "output_type": "execute_result"
    }
   ],
   "source": [
    "# obtain the most correlated features from the dataset\n",
    "\n",
    "cols = [col for col in df.columns[1:-1]] # exclude the individual identifier and diagnostic status from the columns\n",
    "corr_feat = df[cols].corr() # get the correlation coefficients of all the features\n",
    "corr_feat = corr_feat.unstack().sort_values(ascending=False) # unstack the dataframe and sort values in descending order\n",
    "corr_feat = corr_feat.drop_duplicates() # drop duplicates to exclude the same feature correlation\n",
    "corr_feat.head(10)"
   ]
  },
  {
   "cell_type": "code",
   "execution_count": 7,
   "metadata": {},
   "outputs": [
    {
     "data": {
      "text/plain": [
       "Text(0.5, 1.0, 'RMIDTEMP vs RINFLATVEN')"
      ]
     },
     "execution_count": 7,
     "metadata": {},
     "output_type": "execute_result"
    },
    {
     "data": {
      "image/png": "[encoded data removed]",
      "text/plain": [
       "<Figure size 1600x600 with 2 Axes>"
      ]
     },
     "metadata": {},
     "output_type": "display_data"
    }
   ],
   "source": [
    "# set figure for the plots\n",
    "plt.figure(figsize=[16, 6])\n",
    "\n",
    "plt.subplot(1,2,1) # first plot... BRAIN vs EICV\n",
    "sns.regplot(data = df, x = 'BRAIN', y = 'EICV',\n",
    "           truncate=False, x_jitter=0.3, scatter_kws={'alpha':1/4})\n",
    "plt.title('BRAIN vs EICV')\n",
    "\n",
    "plt.subplot(1,2,2) # second plot... RMIDTEMP vs RINFLATVEN\n",
    "sns.regplot(data = df, x = 'RMIDTEMP', y = 'RINFLATVEN',\n",
    "           truncate=False, x_jitter=0.3, scatter_kws={'alpha':1/4})\n",
    "plt.title('RMIDTEMP vs RINFLATVEN')"
   ]
  },
  {
   "cell_type": "code",
   "execution_count": 8,
   "metadata": {},
   "outputs": [
    {
     "data": {
      "text/plain": [
       "0    110\n",
       "1    110\n",
       "Name: DXCURREN, dtype: int64"
      ]
     },
     "execution_count": 8,
     "metadata": {},
     "output_type": "execute_result"
    }
   ],
   "source": [
    "# check the number of subjects in the two groups\n",
    "\n",
    "df['DXCURREN'].value_counts()"
   ]
  },
  {
   "cell_type": "code",
   "execution_count": 9,
   "metadata": {},
   "outputs": [],
   "source": [
    "# divide the data into two... for each group of the subjects\n",
    "\n",
    "demented = df[df.DXCURREN == 1]\n",
    "normal = df[df.DXCURREN == 0]"
   ]
  },
  {
   "cell_type": "code",
   "execution_count": 10,
   "metadata": {},
   "outputs": [
    {
     "data": {
      "text/html": [
       "<div>\n",
       "<style scoped>\n",
       "    .dataframe tbody tr th:only-of-type {\n",
       "        vertical-align: middle;\n",
       "    }\n",
       "\n",
       "    .dataframe tbody tr th {\n",
       "        vertical-align: top;\n",
       "    }\n",
       "\n",
       "    .dataframe thead th {\n",
       "        text-align: right;\n",
       "    }\n",
       "</style>\n",
       "<table border=\"1\" class=\"dataframe\">\n",
       "  <thead>\n",
       "    <tr style=\"text-align: right;\">\n",
       "      <th></th>\n",
       "      <th>RID</th>\n",
       "      <th>BRAIN</th>\n",
       "      <th>EICV</th>\n",
       "      <th>VENTRICLES</th>\n",
       "      <th>LHIPPOC</th>\n",
       "      <th>RHIPPOC</th>\n",
       "      <th>LINFLATVEN</th>\n",
       "      <th>RINFLATVEN</th>\n",
       "      <th>LMIDTEMP</th>\n",
       "      <th>RMIDTEMP</th>\n",
       "      <th>LINFTEMP</th>\n",
       "      <th>RINFTEMP</th>\n",
       "      <th>LFUSIFORM</th>\n",
       "      <th>RFUSIFORM</th>\n",
       "      <th>LENTORHIN</th>\n",
       "      <th>RENTORHIN</th>\n",
       "      <th>DXCURREN</th>\n",
       "    </tr>\n",
       "  </thead>\n",
       "  <tbody>\n",
       "    <tr>\n",
       "      <th>count</th>\n",
       "      <td>110.000000</td>\n",
       "      <td>1.100000e+02</td>\n",
       "      <td>1.100000e+02</td>\n",
       "      <td>110.000000</td>\n",
       "      <td>110.000000</td>\n",
       "      <td>110.000000</td>\n",
       "      <td>110.000000</td>\n",
       "      <td>110.000000</td>\n",
       "      <td>110.000000</td>\n",
       "      <td>110.000000</td>\n",
       "      <td>110.000000</td>\n",
       "      <td>110.000000</td>\n",
       "      <td>110.000000</td>\n",
       "      <td>110.000000</td>\n",
       "      <td>110.000000</td>\n",
       "      <td>110.000000</td>\n",
       "      <td>110.0</td>\n",
       "    </tr>\n",
       "    <tr>\n",
       "      <th>mean</th>\n",
       "      <td>618.381818</td>\n",
       "      <td>9.963349e+05</td>\n",
       "      <td>1.458788e+06</td>\n",
       "      <td>38110.280545</td>\n",
       "      <td>3533.095727</td>\n",
       "      <td>3678.580818</td>\n",
       "      <td>1234.750545</td>\n",
       "      <td>1244.294327</td>\n",
       "      <td>2.564385</td>\n",
       "      <td>2.598034</td>\n",
       "      <td>2.620976</td>\n",
       "      <td>2.588706</td>\n",
       "      <td>2.389659</td>\n",
       "      <td>2.365876</td>\n",
       "      <td>3.186655</td>\n",
       "      <td>3.298458</td>\n",
       "      <td>0.0</td>\n",
       "    </tr>\n",
       "    <tr>\n",
       "      <th>std</th>\n",
       "      <td>375.369347</td>\n",
       "      <td>1.008995e+05</td>\n",
       "      <td>1.385857e+05</td>\n",
       "      <td>19498.516050</td>\n",
       "      <td>437.641108</td>\n",
       "      <td>485.292154</td>\n",
       "      <td>600.430303</td>\n",
       "      <td>582.330046</td>\n",
       "      <td>0.164993</td>\n",
       "      <td>0.175526</td>\n",
       "      <td>0.165534</td>\n",
       "      <td>0.185919</td>\n",
       "      <td>0.168340</td>\n",
       "      <td>0.179007</td>\n",
       "      <td>0.359900</td>\n",
       "      <td>0.380936</td>\n",
       "      <td>0.0</td>\n",
       "    </tr>\n",
       "    <tr>\n",
       "      <th>min</th>\n",
       "      <td>14.000000</td>\n",
       "      <td>6.345910e+05</td>\n",
       "      <td>1.059560e+06</td>\n",
       "      <td>7552.460000</td>\n",
       "      <td>2610.820000</td>\n",
       "      <td>2276.750000</td>\n",
       "      <td>296.264000</td>\n",
       "      <td>318.735000</td>\n",
       "      <td>2.144620</td>\n",
       "      <td>2.034030</td>\n",
       "      <td>2.217610</td>\n",
       "      <td>2.073350</td>\n",
       "      <td>1.944840</td>\n",
       "      <td>1.951850</td>\n",
       "      <td>2.102060</td>\n",
       "      <td>1.914300</td>\n",
       "      <td>0.0</td>\n",
       "    </tr>\n",
       "    <tr>\n",
       "      <th>25%</th>\n",
       "      <td>356.250000</td>\n",
       "      <td>9.349688e+05</td>\n",
       "      <td>1.369175e+06</td>\n",
       "      <td>23096.675000</td>\n",
       "      <td>3253.775000</td>\n",
       "      <td>3387.677500</td>\n",
       "      <td>838.165250</td>\n",
       "      <td>857.978250</td>\n",
       "      <td>2.446850</td>\n",
       "      <td>2.479728</td>\n",
       "      <td>2.497962</td>\n",
       "      <td>2.465785</td>\n",
       "      <td>2.292543</td>\n",
       "      <td>2.246135</td>\n",
       "      <td>2.997032</td>\n",
       "      <td>3.141375</td>\n",
       "      <td>0.0</td>\n",
       "    </tr>\n",
       "    <tr>\n",
       "      <th>50%</th>\n",
       "      <td>591.500000</td>\n",
       "      <td>9.915630e+05</td>\n",
       "      <td>1.458785e+06</td>\n",
       "      <td>35090.050000</td>\n",
       "      <td>3494.130000</td>\n",
       "      <td>3739.525000</td>\n",
       "      <td>1198.935000</td>\n",
       "      <td>1166.515000</td>\n",
       "      <td>2.576560</td>\n",
       "      <td>2.590250</td>\n",
       "      <td>2.616785</td>\n",
       "      <td>2.605465</td>\n",
       "      <td>2.388425</td>\n",
       "      <td>2.356490</td>\n",
       "      <td>3.240530</td>\n",
       "      <td>3.352955</td>\n",
       "      <td>0.0</td>\n",
       "    </tr>\n",
       "    <tr>\n",
       "      <th>75%</th>\n",
       "      <td>893.500000</td>\n",
       "      <td>1.056188e+06</td>\n",
       "      <td>1.562318e+06</td>\n",
       "      <td>48850.825000</td>\n",
       "      <td>3775.557500</td>\n",
       "      <td>3913.955000</td>\n",
       "      <td>1505.482500</td>\n",
       "      <td>1506.007500</td>\n",
       "      <td>2.683677</td>\n",
       "      <td>2.722417</td>\n",
       "      <td>2.746993</td>\n",
       "      <td>2.708745</td>\n",
       "      <td>2.502875</td>\n",
       "      <td>2.479872</td>\n",
       "      <td>3.415535</td>\n",
       "      <td>3.522813</td>\n",
       "      <td>0.0</td>\n",
       "    </tr>\n",
       "    <tr>\n",
       "      <th>max</th>\n",
       "      <td>1288.000000</td>\n",
       "      <td>1.301340e+06</td>\n",
       "      <td>1.823070e+06</td>\n",
       "      <td>118808.000000</td>\n",
       "      <td>5514.940000</td>\n",
       "      <td>5750.400000</td>\n",
       "      <td>4551.830000</td>\n",
       "      <td>4081.390000</td>\n",
       "      <td>2.949880</td>\n",
       "      <td>3.010460</td>\n",
       "      <td>3.048830</td>\n",
       "      <td>3.141290</td>\n",
       "      <td>2.817160</td>\n",
       "      <td>2.770310</td>\n",
       "      <td>3.760310</td>\n",
       "      <td>4.075010</td>\n",
       "      <td>0.0</td>\n",
       "    </tr>\n",
       "  </tbody>\n",
       "</table>\n",
       "</div>"
      ],
      "text/plain": [
       "               RID         BRAIN          EICV     VENTRICLES      LHIPPOC  \\\n",
       "count   110.000000  1.100000e+02  1.100000e+02     110.000000   110.000000   \n",
       "mean    618.381818  9.963349e+05  1.458788e+06   38110.280545  3533.095727   \n",
       "std     375.369347  1.008995e+05  1.385857e+05   19498.516050   437.641108   \n",
       "min      14.000000  6.345910e+05  1.059560e+06    7552.460000  2610.820000   \n",
       "25%     356.250000  9.349688e+05  1.369175e+06   23096.675000  3253.775000   \n",
       "50%     591.500000  9.915630e+05  1.458785e+06   35090.050000  3494.130000   \n",
       "75%     893.500000  1.056188e+06  1.562318e+06   48850.825000  3775.557500   \n",
       "max    1288.000000  1.301340e+06  1.823070e+06  118808.000000  5514.940000   \n",
       "\n",
       "           RHIPPOC   LINFLATVEN   RINFLATVEN    LMIDTEMP    RMIDTEMP  \\\n",
       "count   110.000000   110.000000   110.000000  110.000000  110.000000   \n",
       "mean   3678.580818  1234.750545  1244.294327    2.564385    2.598034   \n",
       "std     485.292154   600.430303   582.330046    0.164993    0.175526   \n",
       "min    2276.750000   296.264000   318.735000    2.144620    2.034030   \n",
       "25%    3387.677500   838.165250   857.978250    2.446850    2.479728   \n",
       "50%    3739.525000  1198.935000  1166.515000    2.576560    2.590250   \n",
       "75%    3913.955000  1505.482500  1506.007500    2.683677    2.722417   \n",
       "max    5750.400000  4551.830000  4081.390000    2.949880    3.010460   \n",
       "\n",
       "         LINFTEMP    RINFTEMP   LFUSIFORM   RFUSIFORM   LENTORHIN   RENTORHIN  \\\n",
       "count  110.000000  110.000000  110.000000  110.000000  110.000000  110.000000   \n",
       "mean     2.620976    2.588706    2.389659    2.365876    3.186655    3.298458   \n",
       "std      0.165534    0.185919    0.168340    0.179007    0.359900    0.380936   \n",
       "min      2.217610    2.073350    1.944840    1.951850    2.102060    1.914300   \n",
       "25%      2.497962    2.465785    2.292543    2.246135    2.997032    3.141375   \n",
       "50%      2.616785    2.605465    2.388425    2.356490    3.240530    3.352955   \n",
       "75%      2.746993    2.708745    2.502875    2.479872    3.415535    3.522813   \n",
       "max      3.048830    3.141290    2.817160    2.770310    3.760310    4.075010   \n",
       "\n",
       "       DXCURREN  \n",
       "count     110.0  \n",
       "mean        0.0  \n",
       "std         0.0  \n",
       "min         0.0  \n",
       "25%         0.0  \n",
       "50%         0.0  \n",
       "75%         0.0  \n",
       "max         0.0  "
      ]
     },
     "execution_count": 10,
     "metadata": {},
     "output_type": "execute_result"
    }
   ],
   "source": [
    "normal.describe()"
   ]
  },
  {
   "cell_type": "code",
   "execution_count": 11,
   "metadata": {},
   "outputs": [
    {
     "data": {
      "text/plain": [
       "BRAIN         9.501246e+05\n",
       "EICV          1.451390e+06\n",
       "VENTRICLES    5.552915e+04\n",
       "LHIPPOC       2.762603e+03\n",
       "RHIPPOC       2.952135e+03\n",
       "LINFLATVEN    2.249683e+03\n",
       "RINFLATVEN    2.253310e+03\n",
       "LMIDTEMP      2.218401e+00\n",
       "RMIDTEMP      2.258468e+00\n",
       "LINFTEMP      2.285647e+00\n",
       "RINFTEMP      2.290316e+00\n",
       "LFUSIFORM     2.099536e+00\n",
       "RFUSIFORM     2.104474e+00\n",
       "LENTORHIN     2.499836e+00\n",
       "RENTORHIN     2.589077e+00\n",
       "Name: mean, dtype: float64"
      ]
     },
     "execution_count": 11,
     "metadata": {},
     "output_type": "execute_result"
    }
   ],
   "source": [
    "# obtain the mean of each feature in both group\n",
    "\n",
    "demented_mean = demented[cols].describe().loc['mean']\n",
    "demented_mean"
   ]
  },
  {
   "cell_type": "code",
   "execution_count": 12,
   "metadata": {},
   "outputs": [
    {
     "data": {
      "text/plain": [
       "BRAIN         9.963349e+05\n",
       "EICV          1.458788e+06\n",
       "VENTRICLES    3.811028e+04\n",
       "LHIPPOC       3.533096e+03\n",
       "RHIPPOC       3.678581e+03\n",
       "LINFLATVEN    1.234751e+03\n",
       "RINFLATVEN    1.244294e+03\n",
       "LMIDTEMP      2.564385e+00\n",
       "RMIDTEMP      2.598034e+00\n",
       "LINFTEMP      2.620976e+00\n",
       "RINFTEMP      2.588706e+00\n",
       "LFUSIFORM     2.389659e+00\n",
       "RFUSIFORM     2.365876e+00\n",
       "LENTORHIN     3.186655e+00\n",
       "RENTORHIN     3.298458e+00\n",
       "Name: mean, dtype: float64"
      ]
     },
     "execution_count": 12,
     "metadata": {},
     "output_type": "execute_result"
    }
   ],
   "source": [
    "normal_mean = normal[cols].describe().loc['mean']\n",
    "normal_mean"
   ]
  },
  {
   "cell_type": "code",
   "execution_count": 13,
   "metadata": {},
   "outputs": [
    {
     "data": {
      "text/plain": [
       "0     1.464905e-03\n",
       "1     7.209300e-01\n",
       "2     1.444776e-07\n",
       "3     3.110688e-24\n",
       "4     6.790456e-20\n",
       "5     7.197735e-15\n",
       "6     7.144266e-13\n",
       "7     5.668557e-25\n",
       "8     2.069136e-25\n",
       "9     1.167292e-26\n",
       "10    2.104613e-19\n",
       "11    3.829996e-20\n",
       "12    9.731913e-18\n",
       "13    3.026538e-27\n",
       "14    9.028144e-25\n",
       "Name: 1, dtype: float64"
      ]
     },
     "execution_count": 13,
     "metadata": {},
     "output_type": "execute_result"
    }
   ],
   "source": [
    "# perform two sample T-test to determine features that are significantly different between the two groups\n",
    " \n",
    "# Import the library\n",
    "import scipy.stats as stats\n",
    "\n",
    "a = df[df[\"DXCURREN\"]==0][cols]\n",
    "b = df[df[\"DXCURREN\"]==1][cols]\n",
    "\n",
    "pvalue = pd.DataFrame(stats.ttest_ind(a=a, b=b)).T[1]\n",
    "pvalue"
   ]
  },
  {
   "cell_type": "code",
   "execution_count": 14,
   "metadata": {},
   "outputs": [
    {
     "data": {
      "text/html": [
       "<div>\n",
       "<style scoped>\n",
       "    .dataframe tbody tr th:only-of-type {\n",
       "        vertical-align: middle;\n",
       "    }\n",
       "\n",
       "    .dataframe tbody tr th {\n",
       "        vertical-align: top;\n",
       "    }\n",
       "\n",
       "    .dataframe thead th {\n",
       "        text-align: right;\n",
       "    }\n",
       "</style>\n",
       "<table border=\"1\" class=\"dataframe\">\n",
       "  <thead>\n",
       "    <tr style=\"text-align: right;\">\n",
       "      <th></th>\n",
       "      <th>features</th>\n",
       "      <th>demented</th>\n",
       "      <th>normal</th>\n",
       "      <th>mean difference</th>\n",
       "      <th>p-values</th>\n",
       "    </tr>\n",
       "  </thead>\n",
       "  <tbody>\n",
       "    <tr>\n",
       "      <th>13</th>\n",
       "      <td>LENTORHIN</td>\n",
       "      <td>2.499836e+00</td>\n",
       "      <td>3.186655e+00</td>\n",
       "      <td>-0.686819</td>\n",
       "      <td>3.026538e-27</td>\n",
       "    </tr>\n",
       "    <tr>\n",
       "      <th>9</th>\n",
       "      <td>LINFTEMP</td>\n",
       "      <td>2.285647e+00</td>\n",
       "      <td>2.620976e+00</td>\n",
       "      <td>-0.335329</td>\n",
       "      <td>1.167292e-26</td>\n",
       "    </tr>\n",
       "    <tr>\n",
       "      <th>8</th>\n",
       "      <td>RMIDTEMP</td>\n",
       "      <td>2.258468e+00</td>\n",
       "      <td>2.598034e+00</td>\n",
       "      <td>-0.339566</td>\n",
       "      <td>2.069136e-25</td>\n",
       "    </tr>\n",
       "    <tr>\n",
       "      <th>7</th>\n",
       "      <td>LMIDTEMP</td>\n",
       "      <td>2.218401e+00</td>\n",
       "      <td>2.564385e+00</td>\n",
       "      <td>-0.345984</td>\n",
       "      <td>5.668557e-25</td>\n",
       "    </tr>\n",
       "    <tr>\n",
       "      <th>14</th>\n",
       "      <td>RENTORHIN</td>\n",
       "      <td>2.589077e+00</td>\n",
       "      <td>3.298458e+00</td>\n",
       "      <td>-0.709381</td>\n",
       "      <td>9.028144e-25</td>\n",
       "    </tr>\n",
       "    <tr>\n",
       "      <th>3</th>\n",
       "      <td>LHIPPOC</td>\n",
       "      <td>2.762603e+03</td>\n",
       "      <td>3.533096e+03</td>\n",
       "      <td>-770.493091</td>\n",
       "      <td>3.110688e-24</td>\n",
       "    </tr>\n",
       "    <tr>\n",
       "      <th>11</th>\n",
       "      <td>LFUSIFORM</td>\n",
       "      <td>2.099536e+00</td>\n",
       "      <td>2.389659e+00</td>\n",
       "      <td>-0.290123</td>\n",
       "      <td>3.829996e-20</td>\n",
       "    </tr>\n",
       "    <tr>\n",
       "      <th>4</th>\n",
       "      <td>RHIPPOC</td>\n",
       "      <td>2.952135e+03</td>\n",
       "      <td>3.678581e+03</td>\n",
       "      <td>-726.445727</td>\n",
       "      <td>6.790456e-20</td>\n",
       "    </tr>\n",
       "    <tr>\n",
       "      <th>10</th>\n",
       "      <td>RINFTEMP</td>\n",
       "      <td>2.290316e+00</td>\n",
       "      <td>2.588706e+00</td>\n",
       "      <td>-0.298390</td>\n",
       "      <td>2.104613e-19</td>\n",
       "    </tr>\n",
       "    <tr>\n",
       "      <th>12</th>\n",
       "      <td>RFUSIFORM</td>\n",
       "      <td>2.104474e+00</td>\n",
       "      <td>2.365876e+00</td>\n",
       "      <td>-0.261402</td>\n",
       "      <td>9.731913e-18</td>\n",
       "    </tr>\n",
       "    <tr>\n",
       "      <th>5</th>\n",
       "      <td>LINFLATVEN</td>\n",
       "      <td>2.249683e+03</td>\n",
       "      <td>1.234751e+03</td>\n",
       "      <td>1014.932855</td>\n",
       "      <td>7.197735e-15</td>\n",
       "    </tr>\n",
       "    <tr>\n",
       "      <th>6</th>\n",
       "      <td>RINFLATVEN</td>\n",
       "      <td>2.253310e+03</td>\n",
       "      <td>1.244294e+03</td>\n",
       "      <td>1009.015918</td>\n",
       "      <td>7.144266e-13</td>\n",
       "    </tr>\n",
       "    <tr>\n",
       "      <th>2</th>\n",
       "      <td>VENTRICLES</td>\n",
       "      <td>5.552915e+04</td>\n",
       "      <td>3.811028e+04</td>\n",
       "      <td>17418.864909</td>\n",
       "      <td>1.444776e-07</td>\n",
       "    </tr>\n",
       "    <tr>\n",
       "      <th>0</th>\n",
       "      <td>BRAIN</td>\n",
       "      <td>9.501246e+05</td>\n",
       "      <td>9.963349e+05</td>\n",
       "      <td>-46210.290909</td>\n",
       "      <td>1.464905e-03</td>\n",
       "    </tr>\n",
       "    <tr>\n",
       "      <th>1</th>\n",
       "      <td>EICV</td>\n",
       "      <td>1.451390e+06</td>\n",
       "      <td>1.458788e+06</td>\n",
       "      <td>-7398.090909</td>\n",
       "      <td>7.209300e-01</td>\n",
       "    </tr>\n",
       "  </tbody>\n",
       "</table>\n",
       "</div>"
      ],
      "text/plain": [
       "      features      demented        normal  mean difference      p-values\n",
       "13   LENTORHIN  2.499836e+00  3.186655e+00        -0.686819  3.026538e-27\n",
       "9     LINFTEMP  2.285647e+00  2.620976e+00        -0.335329  1.167292e-26\n",
       "8     RMIDTEMP  2.258468e+00  2.598034e+00        -0.339566  2.069136e-25\n",
       "7     LMIDTEMP  2.218401e+00  2.564385e+00        -0.345984  5.668557e-25\n",
       "14   RENTORHIN  2.589077e+00  3.298458e+00        -0.709381  9.028144e-25\n",
       "3      LHIPPOC  2.762603e+03  3.533096e+03      -770.493091  3.110688e-24\n",
       "11   LFUSIFORM  2.099536e+00  2.389659e+00        -0.290123  3.829996e-20\n",
       "4      RHIPPOC  2.952135e+03  3.678581e+03      -726.445727  6.790456e-20\n",
       "10    RINFTEMP  2.290316e+00  2.588706e+00        -0.298390  2.104613e-19\n",
       "12   RFUSIFORM  2.104474e+00  2.365876e+00        -0.261402  9.731913e-18\n",
       "5   LINFLATVEN  2.249683e+03  1.234751e+03      1014.932855  7.197735e-15\n",
       "6   RINFLATVEN  2.253310e+03  1.244294e+03      1009.015918  7.144266e-13\n",
       "2   VENTRICLES  5.552915e+04  3.811028e+04     17418.864909  1.444776e-07\n",
       "0        BRAIN  9.501246e+05  9.963349e+05    -46210.290909  1.464905e-03\n",
       "1         EICV  1.451390e+06  1.458788e+06     -7398.090909  7.209300e-01"
      ]
     },
     "execution_count": 14,
     "metadata": {},
     "output_type": "execute_result"
    }
   ],
   "source": [
    "# create a dataframe of the mean differences of the features for the two groups and the p-values\n",
    "\n",
    "mean_diff = pd.DataFrame()\n",
    "mean_diff[\"features\"] = cols\n",
    "mean_diff[\"demented\"] = list(demented_mean)\n",
    "mean_diff[\"normal\"] = list(normal_mean)\n",
    "mean_diff[\"mean difference\"] = mean_diff[\"demented\"] - mean_diff[\"normal\"]\n",
    "mean_diff[\"p-values\"] = list(pvalue)\n",
    "mean_diff = mean_diff.sort_values(\"p-values\", ascending=True) #sort the p-values from the lowest to highest\n",
    "mean_diff"
   ]
  },
  {
   "cell_type": "code",
   "execution_count": 15,
   "metadata": {},
   "outputs": [
    {
     "data": {
      "text/plain": [
       "13     LENTORHIN\n",
       "9       LINFTEMP\n",
       "8       RMIDTEMP\n",
       "7       LMIDTEMP\n",
       "14     RENTORHIN\n",
       "3        LHIPPOC\n",
       "11     LFUSIFORM\n",
       "4        RHIPPOC\n",
       "10      RINFTEMP\n",
       "12     RFUSIFORM\n",
       "5     LINFLATVEN\n",
       "6     RINFLATVEN\n",
       "2     VENTRICLES\n",
       "0          BRAIN\n",
       "Name: features, dtype: object"
      ]
     },
     "execution_count": 15,
     "metadata": {},
     "output_type": "execute_result"
    }
   ],
   "source": [
    "# obtain the significant features... these are features with p-values less than 0.05\n",
    "\n",
    "sig_features = mean_diff[mean_diff[\"p-values\"] <= 0.05][\"features\"]\n",
    "sig_features"
   ]
  },
  {
   "cell_type": "code",
   "execution_count": 16,
   "metadata": {},
   "outputs": [],
   "source": [
    "#dropping irrelevant feature\n",
    "df.drop(['RID'], axis=1, inplace = True)"
   ]
  },
  {
   "cell_type": "code",
   "execution_count": 17,
   "metadata": {},
   "outputs": [],
   "source": [
    "input_cols = [col for col in df.columns[:-1]] # select the input columns\n",
    "\n",
    "X = df[input_cols] # input data\n",
    "y = df['DXCURREN'] # target"
   ]
  },
  {
   "attachments": {},
   "cell_type": "markdown",
   "metadata": {},
   "source": [
    "Train-Test Split"
   ]
  },
  {
   "cell_type": "code",
   "execution_count": 18,
   "metadata": {},
   "outputs": [],
   "source": [
    "# splitting dataset into training and validation sets\n",
    "\n",
    "from sklearn.model_selection import train_test_split\n",
    "\n",
    "X_train, X_val, y_train, y_val = train_test_split(X, y, test_size=0.20, random_state=1502)"
   ]
  },
  {
   "cell_type": "code",
   "execution_count": 19,
   "metadata": {},
   "outputs": [
    {
     "name": "stdout",
     "output_type": "stream",
     "text": [
      "(176, 15)\n",
      "(44, 15)\n"
     ]
    }
   ],
   "source": [
    "# check the training and validation data shape\n",
    "\n",
    "print(X_train.shape)\n",
    "print(X_val.shape)"
   ]
  },
  {
   "attachments": {},
   "cell_type": "markdown",
   "metadata": {},
   "source": [
    "Feature Scaling"
   ]
  },
  {
   "cell_type": "code",
   "execution_count": 20,
   "metadata": {},
   "outputs": [
    {
     "data": {
      "text/html": [
       "<div>\n",
       "<style scoped>\n",
       "    .dataframe tbody tr th:only-of-type {\n",
       "        vertical-align: middle;\n",
       "    }\n",
       "\n",
       "    .dataframe tbody tr th {\n",
       "        vertical-align: top;\n",
       "    }\n",
       "\n",
       "    .dataframe thead th {\n",
       "        text-align: right;\n",
       "    }\n",
       "</style>\n",
       "<table border=\"1\" class=\"dataframe\">\n",
       "  <thead>\n",
       "    <tr style=\"text-align: right;\">\n",
       "      <th></th>\n",
       "      <th>BRAIN</th>\n",
       "      <th>EICV</th>\n",
       "      <th>VENTRICLES</th>\n",
       "      <th>LHIPPOC</th>\n",
       "      <th>RHIPPOC</th>\n",
       "      <th>LINFLATVEN</th>\n",
       "      <th>RINFLATVEN</th>\n",
       "      <th>LMIDTEMP</th>\n",
       "      <th>RMIDTEMP</th>\n",
       "      <th>LINFTEMP</th>\n",
       "      <th>RINFTEMP</th>\n",
       "      <th>LFUSIFORM</th>\n",
       "      <th>RFUSIFORM</th>\n",
       "      <th>LENTORHIN</th>\n",
       "      <th>RENTORHIN</th>\n",
       "    </tr>\n",
       "  </thead>\n",
       "  <tbody>\n",
       "    <tr>\n",
       "      <th>0</th>\n",
       "      <td>-1.227429</td>\n",
       "      <td>-1.719492</td>\n",
       "      <td>-1.276582</td>\n",
       "      <td>-1.624370</td>\n",
       "      <td>-1.504304</td>\n",
       "      <td>-0.927879</td>\n",
       "      <td>-0.998002</td>\n",
       "      <td>0.335329</td>\n",
       "      <td>0.402690</td>\n",
       "      <td>0.546397</td>\n",
       "      <td>0.358726</td>\n",
       "      <td>0.354751</td>\n",
       "      <td>0.338053</td>\n",
       "      <td>0.207960</td>\n",
       "      <td>-0.551666</td>\n",
       "    </tr>\n",
       "    <tr>\n",
       "      <th>1</th>\n",
       "      <td>-0.657417</td>\n",
       "      <td>-0.884919</td>\n",
       "      <td>-1.135555</td>\n",
       "      <td>-0.317311</td>\n",
       "      <td>0.158075</td>\n",
       "      <td>-0.893590</td>\n",
       "      <td>-1.066524</td>\n",
       "      <td>0.265196</td>\n",
       "      <td>0.423022</td>\n",
       "      <td>-0.020961</td>\n",
       "      <td>0.703107</td>\n",
       "      <td>1.079810</td>\n",
       "      <td>-0.073659</td>\n",
       "      <td>0.880774</td>\n",
       "      <td>0.646012</td>\n",
       "    </tr>\n",
       "    <tr>\n",
       "      <th>2</th>\n",
       "      <td>1.173813</td>\n",
       "      <td>1.341337</td>\n",
       "      <td>0.600113</td>\n",
       "      <td>1.695104</td>\n",
       "      <td>1.213179</td>\n",
       "      <td>-0.271619</td>\n",
       "      <td>0.109779</td>\n",
       "      <td>0.990124</td>\n",
       "      <td>0.776955</td>\n",
       "      <td>0.467556</td>\n",
       "      <td>0.054374</td>\n",
       "      <td>0.586219</td>\n",
       "      <td>0.326308</td>\n",
       "      <td>1.266824</td>\n",
       "      <td>0.690490</td>\n",
       "    </tr>\n",
       "    <tr>\n",
       "      <th>3</th>\n",
       "      <td>-0.147370</td>\n",
       "      <td>-0.135645</td>\n",
       "      <td>1.763647</td>\n",
       "      <td>-1.549985</td>\n",
       "      <td>-1.311007</td>\n",
       "      <td>4.517292</td>\n",
       "      <td>5.374835</td>\n",
       "      <td>-0.304644</td>\n",
       "      <td>-0.321799</td>\n",
       "      <td>-0.132560</td>\n",
       "      <td>0.092467</td>\n",
       "      <td>-0.620812</td>\n",
       "      <td>-0.168634</td>\n",
       "      <td>-1.578718</td>\n",
       "      <td>-0.589162</td>\n",
       "    </tr>\n",
       "    <tr>\n",
       "      <th>4</th>\n",
       "      <td>-0.835118</td>\n",
       "      <td>-0.842173</td>\n",
       "      <td>-0.105676</td>\n",
       "      <td>-0.478562</td>\n",
       "      <td>-0.635741</td>\n",
       "      <td>-0.423111</td>\n",
       "      <td>-0.464421</td>\n",
       "      <td>0.992470</td>\n",
       "      <td>0.104976</td>\n",
       "      <td>1.341099</td>\n",
       "      <td>0.493652</td>\n",
       "      <td>1.705810</td>\n",
       "      <td>1.670023</td>\n",
       "      <td>-0.601500</td>\n",
       "      <td>-0.442291</td>\n",
       "    </tr>\n",
       "  </tbody>\n",
       "</table>\n",
       "</div>"
      ],
      "text/plain": [
       "      BRAIN      EICV  VENTRICLES   LHIPPOC   RHIPPOC  LINFLATVEN  RINFLATVEN  \\\n",
       "0 -1.227429 -1.719492   -1.276582 -1.624370 -1.504304   -0.927879   -0.998002   \n",
       "1 -0.657417 -0.884919   -1.135555 -0.317311  0.158075   -0.893590   -1.066524   \n",
       "2  1.173813  1.341337    0.600113  1.695104  1.213179   -0.271619    0.109779   \n",
       "3 -0.147370 -0.135645    1.763647 -1.549985 -1.311007    4.517292    5.374835   \n",
       "4 -0.835118 -0.842173   -0.105676 -0.478562 -0.635741   -0.423111   -0.464421   \n",
       "\n",
       "   LMIDTEMP  RMIDTEMP  LINFTEMP  RINFTEMP  LFUSIFORM  RFUSIFORM  LENTORHIN  \\\n",
       "0  0.335329  0.402690  0.546397  0.358726   0.354751   0.338053   0.207960   \n",
       "1  0.265196  0.423022 -0.020961  0.703107   1.079810  -0.073659   0.880774   \n",
       "2  0.990124  0.776955  0.467556  0.054374   0.586219   0.326308   1.266824   \n",
       "3 -0.304644 -0.321799 -0.132560  0.092467  -0.620812  -0.168634  -1.578718   \n",
       "4  0.992470  0.104976  1.341099  0.493652   1.705810   1.670023  -0.601500   \n",
       "\n",
       "   RENTORHIN  \n",
       "0  -0.551666  \n",
       "1   0.646012  \n",
       "2   0.690490  \n",
       "3  -0.589162  \n",
       "4  -0.442291  "
      ]
     },
     "execution_count": 20,
     "metadata": {},
     "output_type": "execute_result"
    }
   ],
   "source": [
    "#import Standard Scaler library for feature scaling\n",
    "from sklearn.preprocessing import StandardScaler\n",
    "\n",
    "sc = StandardScaler() # create an instance of the scaler\n",
    "train = sc.fit_transform(X_train) # fit the scaler on the training set\n",
    "train_input = pd.DataFrame(train, columns=input_cols) # convert the scaled data array into dataframe\n",
    "\n",
    "\n",
    "val = sc.transform(X_val) # transform the scaler on the validation set\n",
    "val_input = pd.DataFrame(val, columns=input_cols)\n",
    "\n",
    "train_input.head()"
   ]
  },
  {
   "cell_type": "code",
   "execution_count": 21,
   "metadata": {},
   "outputs": [],
   "source": [
    "from sklearn.model_selection import train_test_split\n",
    "x_train, x_test, y_train, y_test = train_test_split(X,y,test_size = 0.3, random_state = 1)  "
   ]
  },
  {
   "cell_type": "code",
   "execution_count": 22,
   "metadata": {},
   "outputs": [],
   "source": [
    "# from sklearn.preprocessing import StandardScaler\n",
    "# sc = StandardScaler()\n",
    "# x_train = sc.fit_transform(x_train)\n",
    "# x_test = sc.transform(x_test)"
   ]
  },
  {
   "attachments": {},
   "cell_type": "markdown",
   "metadata": {},
   "source": [
    "Training(Random Forest)"
   ]
  },
  {
   "cell_type": "code",
   "execution_count": 23,
   "metadata": {},
   "outputs": [
    {
     "name": "stdout",
     "output_type": "stream",
     "text": [
      "              precision    recall  f1-score   support\n",
      "\n",
      "           0       0.92      0.87      0.89        38\n",
      "           1       0.83      0.89      0.86        28\n",
      "\n",
      "    accuracy                           0.88        66\n",
      "   macro avg       0.88      0.88      0.88        66\n",
      "weighted avg       0.88      0.88      0.88        66\n",
      "\n"
     ]
    }
   ],
   "source": [
    "from sklearn.metrics import classification_report \n",
    "from sklearn.ensemble import RandomForestClassifier\n",
    "\n",
    "model6 = RandomForestClassifier(random_state=1)# get instance of model\n",
    "model6.fit(x_train, y_train) # Train/Fit model \n",
    "\n",
    "y_pred6 = model6.predict(x_test) # get y predictions\n",
    "print(classification_report(y_test, y_pred6)) # output accuracy"
   ]
  },
  {
   "cell_type": "code",
   "execution_count": 24,
   "metadata": {},
   "outputs": [
    {
     "data": {
      "image/png": "[encoded data removed]",
      "text/plain": [
       "<Figure size 640x480 with 2 Axes>"
      ]
     },
     "metadata": {},
     "output_type": "display_data"
    }
   ],
   "source": [
    "from sklearn import metrics\n",
    "confusion_matrix = metrics.confusion_matrix(y_test, y_pred6)\n",
    "\n",
    "cm_display = metrics.ConfusionMatrixDisplay(confusion_matrix = confusion_matrix, display_labels = [False, True])\n",
    "\n",
    "cm_display.plot()\n",
    "plt.show()"
   ]
  },
  {
   "cell_type": "code",
   "execution_count": 25,
   "metadata": {},
   "outputs": [
    {
     "name": "stdout",
     "output_type": "stream",
     "text": [
      "0.8787878787878788\n"
     ]
    }
   ],
   "source": [
    "Accuracy = metrics.accuracy_score(y_test, y_pred6)\n",
    "print(Accuracy)"
   ]
  },
  {
   "cell_type": "code",
   "execution_count": 26,
   "metadata": {},
   "outputs": [
    {
     "name": "stdout",
     "output_type": "stream",
     "text": [
      "Precision: 0.8333333333333334\n",
      "Recall: 0.8928571428571429\n",
      "F1-Score: 0.8620689655172413\n",
      "AUC-ROC: 0.943609022556391\n"
     ]
    }
   ],
   "source": [
    "from sklearn import metrics\n",
    "from sklearn.ensemble import RandomForestClassifier\n",
    "from sklearn.model_selection import train_test_split\n",
    "\n",
    "# Assuming you have already trained and evaluated your model and obtained the predicted labels (y_pred6) and true labels (y_test)\n",
    "\n",
    "# Calculate precision, recall, and F1-score\n",
    "precision = metrics.precision_score(y_test, y_pred6)\n",
    "recall = metrics.recall_score(y_test, y_pred6)\n",
    "f1_score = metrics.f1_score(y_test, y_pred6)\n",
    "\n",
    "print(\"Precision:\", precision)\n",
    "print(\"Recall:\", recall)\n",
    "print(\"F1-Score:\", f1_score)\n",
    "\n",
    "# Calculate the probability scores for the positive class\n",
    "y_scores = model6.predict_proba(x_test)[:, 1]\n",
    "\n",
    "# Calculate the Area Under the ROC Curve (AUC-ROC)\n",
    "auc_roc = metrics.roc_auc_score(y_test, y_scores)\n",
    "\n",
    "print(\"AUC-ROC:\", auc_roc)\n"
   ]
  },
  {
   "cell_type": "code",
   "execution_count": 27,
   "metadata": {},
   "outputs": [
    {
     "data": {
      "text/html": [
       "<style>#sk-container-id-1 {color: black;background-color: white;}#sk-container-id-1 pre{padding: 0;}#sk-container-id-1 div.sk-toggleable {background-color: white;}#sk-container-id-1 label.sk-toggleable__label {cursor: pointer;display: block;width: 100%;margin-bottom: 0;padding: 0.3em;box-sizing: border-box;text-align: center;}#sk-container-id-1 label.sk-toggleable__label-arrow:before {content: \"▸\";float: left;margin-right: 0.25em;color: #696969;}#sk-container-id-1 label.sk-toggleable__label-arrow:hover:before {color: black;}#sk-container-id-1 div.sk-estimator:hover label.sk-toggleable__label-arrow:before {color: black;}#sk-container-id-1 div.sk-toggleable__content {max-height: 0;max-width: 0;overflow: hidden;text-align: left;background-color: #f0f8ff;}#sk-container-id-1 div.sk-toggleable__content pre {margin: 0.2em;color: black;border-radius: 0.25em;background-color: #f0f8ff;}#sk-container-id-1 input.sk-toggleable__control:checked~div.sk-toggleable__content {max-height: 200px;max-width: 100%;overflow: auto;}#sk-container-id-1 input.sk-toggleable__control:checked~label.sk-toggleable__label-arrow:before {content: \"▾\";}#sk-container-id-1 div.sk-estimator input.sk-toggleable__control:checked~label.sk-toggleable__label {background-color: #d4ebff;}#sk-container-id-1 div.sk-label input.sk-toggleable__control:checked~label.sk-toggleable__label {background-color: #d4ebff;}#sk-container-id-1 input.sk-hidden--visually {border: 0;clip: rect(1px 1px 1px 1px);clip: rect(1px, 1px, 1px, 1px);height: 1px;margin: -1px;overflow: hidden;padding: 0;position: absolute;width: 1px;}#sk-container-id-1 div.sk-estimator {font-family: monospace;background-color: #f0f8ff;border: 1px dotted black;border-radius: 0.25em;box-sizing: border-box;margin-bottom: 0.5em;}#sk-container-id-1 div.sk-estimator:hover {background-color: #d4ebff;}#sk-container-id-1 div.sk-parallel-item::after {content: \"\";width: 100%;border-bottom: 1px solid gray;flex-grow: 1;}#sk-container-id-1 div.sk-label:hover label.sk-toggleable__label {background-color: #d4ebff;}#sk-container-id-1 div.sk-serial::before {content: \"\";position: absolute;border-left: 1px solid gray;box-sizing: border-box;top: 0;bottom: 0;left: 50%;z-index: 0;}#sk-container-id-1 div.sk-serial {display: flex;flex-direction: column;align-items: center;background-color: white;padding-right: 0.2em;padding-left: 0.2em;position: relative;}#sk-container-id-1 div.sk-item {position: relative;z-index: 1;}#sk-container-id-1 div.sk-parallel {display: flex;align-items: stretch;justify-content: center;background-color: white;position: relative;}#sk-container-id-1 div.sk-item::before, #sk-container-id-1 div.sk-parallel-item::before {content: \"\";position: absolute;border-left: 1px solid gray;box-sizing: border-box;top: 0;bottom: 0;left: 50%;z-index: -1;}#sk-container-id-1 div.sk-parallel-item {display: flex;flex-direction: column;z-index: 1;position: relative;background-color: white;}#sk-container-id-1 div.sk-parallel-item:first-child::after {align-self: flex-end;width: 50%;}#sk-container-id-1 div.sk-parallel-item:last-child::after {align-self: flex-start;width: 50%;}#sk-container-id-1 div.sk-parallel-item:only-child::after {width: 0;}#sk-container-id-1 div.sk-dashed-wrapped {border: 1px dashed gray;margin: 0 0.4em 0.5em 0.4em;box-sizing: border-box;padding-bottom: 0.4em;background-color: white;}#sk-container-id-1 div.sk-label label {font-family: monospace;font-weight: bold;display: inline-block;line-height: 1.2em;}#sk-container-id-1 div.sk-label-container {text-align: center;}#sk-container-id-1 div.sk-container {/* jupyter's `normalize.less` sets `[hidden] { display: none; }` but bootstrap.min.css set `[hidden] { display: none !important; }` so we also need the `!important` here to be able to override the default hidden behavior on the sphinx rendered scikit-learn.org. See: https://github.com/scikit-learn/scikit-learn/issues/21755 */display: inline-block !important;position: relative;}#sk-container-id-1 div.sk-text-repr-fallback {display: none;}</style><div id=\"sk-container-id-1\" class=\"sk-top-container\"><div class=\"sk-text-repr-fallback\"><pre>RandomForestClassifier(random_state=1)</pre><b>In a Jupyter environment, please rerun this cell to show the HTML representation or trust the notebook. <br />On GitHub, the HTML representation is unable to render, please try loading this page with nbviewer.org.</b></div><div class=\"sk-container\" hidden><div class=\"sk-item\"><div class=\"sk-estimator sk-toggleable\"><input class=\"sk-toggleable__control sk-hidden--visually\" id=\"sk-estimator-id-1\" type=\"checkbox\" checked><label for=\"sk-estimator-id-1\" class=\"sk-toggleable__label sk-toggleable__label-arrow\">RandomForestClassifier</label><div class=\"sk-toggleable__content\"><pre>RandomForestClassifier(random_state=1)</pre></div></div></div></div></div>"
      ],
      "text/plain": [
       "RandomForestClassifier(random_state=1)"
      ]
     },
     "execution_count": 27,
     "metadata": {},
     "output_type": "execute_result"
    }
   ],
   "source": [
    "model6"
   ]
  },
  {
   "cell_type": "code",
   "execution_count": 28,
   "metadata": {},
   "outputs": [
    {
     "name": "stdout",
     "output_type": "stream",
     "text": [
      "1.24.0\n"
     ]
    }
   ],
   "source": [
    "import numpy as np\n",
    "print(np.__version__)"
   ]
  },
  {
   "cell_type": "code",
   "execution_count": 30,
   "metadata": {},
   "outputs": [
    {
     "data": {
      "text/html": [
       "<div>\n",
       "<style scoped>\n",
       "    .dataframe tbody tr th:only-of-type {\n",
       "        vertical-align: middle;\n",
       "    }\n",
       "\n",
       "    .dataframe tbody tr th {\n",
       "        vertical-align: top;\n",
       "    }\n",
       "\n",
       "    .dataframe thead th {\n",
       "        text-align: right;\n",
       "    }\n",
       "</style>\n",
       "<table border=\"1\" class=\"dataframe\">\n",
       "  <thead>\n",
       "    <tr style=\"text-align: right;\">\n",
       "      <th></th>\n",
       "      <th>BRAIN</th>\n",
       "      <th>EICV</th>\n",
       "      <th>VENTRICLES</th>\n",
       "      <th>LHIPPOC</th>\n",
       "      <th>RHIPPOC</th>\n",
       "      <th>LINFLATVEN</th>\n",
       "      <th>RINFLATVEN</th>\n",
       "      <th>LMIDTEMP</th>\n",
       "      <th>RMIDTEMP</th>\n",
       "      <th>LINFTEMP</th>\n",
       "      <th>RINFTEMP</th>\n",
       "      <th>LFUSIFORM</th>\n",
       "      <th>RFUSIFORM</th>\n",
       "      <th>LENTORHIN</th>\n",
       "      <th>RENTORHIN</th>\n",
       "      <th>DXCURREN</th>\n",
       "    </tr>\n",
       "  </thead>\n",
       "  <tbody>\n",
       "    <tr>\n",
       "      <th>0</th>\n",
       "      <td>937159</td>\n",
       "      <td>1401690</td>\n",
       "      <td>38855.4</td>\n",
       "      <td>3427.13</td>\n",
       "      <td>3262.01</td>\n",
       "      <td>1045.280</td>\n",
       "      <td>1263.010</td>\n",
       "      <td>2.44566</td>\n",
       "      <td>2.48342</td>\n",
       "      <td>2.47434</td>\n",
       "      <td>2.49197</td>\n",
       "      <td>2.27057</td>\n",
       "      <td>2.11083</td>\n",
       "      <td>2.99752</td>\n",
       "      <td>3.24032</td>\n",
       "      <td>0</td>\n",
       "    </tr>\n",
       "    <tr>\n",
       "      <th>1</th>\n",
       "      <td>901429</td>\n",
       "      <td>1235930</td>\n",
       "      <td>10081.2</td>\n",
       "      <td>3410.35</td>\n",
       "      <td>3693.69</td>\n",
       "      <td>529.756</td>\n",
       "      <td>391.364</td>\n",
       "      <td>2.52101</td>\n",
       "      <td>2.69526</td>\n",
       "      <td>2.81781</td>\n",
       "      <td>2.76115</td>\n",
       "      <td>2.42640</td>\n",
       "      <td>2.50153</td>\n",
       "      <td>3.40556</td>\n",
       "      <td>3.36431</td>\n",
       "      <td>0</td>\n",
       "    </tr>\n",
       "    <tr>\n",
       "      <th>2</th>\n",
       "      <td>935565</td>\n",
       "      <td>1345440</td>\n",
       "      <td>21299.0</td>\n",
       "      <td>3621.49</td>\n",
       "      <td>3802.43</td>\n",
       "      <td>887.978</td>\n",
       "      <td>1135.170</td>\n",
       "      <td>2.45128</td>\n",
       "      <td>2.53828</td>\n",
       "      <td>2.40015</td>\n",
       "      <td>2.46122</td>\n",
       "      <td>1.99782</td>\n",
       "      <td>2.40015</td>\n",
       "      <td>3.19497</td>\n",
       "      <td>3.02149</td>\n",
       "      <td>0</td>\n",
       "    </tr>\n",
       "    <tr>\n",
       "      <th>3</th>\n",
       "      <td>884775</td>\n",
       "      <td>1325760</td>\n",
       "      <td>69220.3</td>\n",
       "      <td>2802.91</td>\n",
       "      <td>3098.38</td>\n",
       "      <td>3215.570</td>\n",
       "      <td>3370.800</td>\n",
       "      <td>2.59348</td>\n",
       "      <td>2.62409</td>\n",
       "      <td>2.50552</td>\n",
       "      <td>2.95271</td>\n",
       "      <td>2.09972</td>\n",
       "      <td>2.12354</td>\n",
       "      <td>2.43217</td>\n",
       "      <td>2.99445</td>\n",
       "      <td>0</td>\n",
       "    </tr>\n",
       "    <tr>\n",
       "      <th>4</th>\n",
       "      <td>1062950</td>\n",
       "      <td>1498230</td>\n",
       "      <td>32967.7</td>\n",
       "      <td>3416.55</td>\n",
       "      <td>4103.49</td>\n",
       "      <td>1648.410</td>\n",
       "      <td>1480.410</td>\n",
       "      <td>2.78544</td>\n",
       "      <td>2.76651</td>\n",
       "      <td>2.71469</td>\n",
       "      <td>2.54695</td>\n",
       "      <td>2.38363</td>\n",
       "      <td>2.48169</td>\n",
       "      <td>3.71762</td>\n",
       "      <td>3.86305</td>\n",
       "      <td>0</td>\n",
       "    </tr>\n",
       "  </tbody>\n",
       "</table>\n",
       "</div>"
      ],
      "text/plain": [
       "     BRAIN     EICV  VENTRICLES  LHIPPOC  RHIPPOC  LINFLATVEN  RINFLATVEN  \\\n",
       "0   937159  1401690     38855.4  3427.13  3262.01    1045.280    1263.010   \n",
       "1   901429  1235930     10081.2  3410.35  3693.69     529.756     391.364   \n",
       "2   935565  1345440     21299.0  3621.49  3802.43     887.978    1135.170   \n",
       "3   884775  1325760     69220.3  2802.91  3098.38    3215.570    3370.800   \n",
       "4  1062950  1498230     32967.7  3416.55  4103.49    1648.410    1480.410   \n",
       "\n",
       "   LMIDTEMP  RMIDTEMP  LINFTEMP  RINFTEMP  LFUSIFORM  RFUSIFORM  LENTORHIN  \\\n",
       "0   2.44566   2.48342   2.47434   2.49197    2.27057    2.11083    2.99752   \n",
       "1   2.52101   2.69526   2.81781   2.76115    2.42640    2.50153    3.40556   \n",
       "2   2.45128   2.53828   2.40015   2.46122    1.99782    2.40015    3.19497   \n",
       "3   2.59348   2.62409   2.50552   2.95271    2.09972    2.12354    2.43217   \n",
       "4   2.78544   2.76651   2.71469   2.54695    2.38363    2.48169    3.71762   \n",
       "\n",
       "   RENTORHIN  DXCURREN  \n",
       "0    3.24032         0  \n",
       "1    3.36431         0  \n",
       "2    3.02149         0  \n",
       "3    2.99445         0  \n",
       "4    3.86305         0  "
      ]
     },
     "execution_count": 30,
     "metadata": {},
     "output_type": "execute_result"
    }
   ],
   "source": [
    "df.head()"
   ]
  },
  {
   "cell_type": "code",
   "execution_count": 31,
   "metadata": {},
   "outputs": [],
   "source": [
    "y = df.iloc[:,0]\n",
    "x = df.iloc[:,1:]"
   ]
  },
  {
   "attachments": {},
   "cell_type": "markdown",
   "metadata": {},
   "source": [
    "# shap Local Interpetability"
   ]
  },
  {
   "cell_type": "code",
   "execution_count": 32,
   "metadata": {},
   "outputs": [
    {
     "data": {
      "text/html": [
       "<style>#sk-container-id-2 {color: black;background-color: white;}#sk-container-id-2 pre{padding: 0;}#sk-container-id-2 div.sk-toggleable {background-color: white;}#sk-container-id-2 label.sk-toggleable__label {cursor: pointer;display: block;width: 100%;margin-bottom: 0;padding: 0.3em;box-sizing: border-box;text-align: center;}#sk-container-id-2 label.sk-toggleable__label-arrow:before {content: \"▸\";float: left;margin-right: 0.25em;color: #696969;}#sk-container-id-2 label.sk-toggleable__label-arrow:hover:before {color: black;}#sk-container-id-2 div.sk-estimator:hover label.sk-toggleable__label-arrow:before {color: black;}#sk-container-id-2 div.sk-toggleable__content {max-height: 0;max-width: 0;overflow: hidden;text-align: left;background-color: #f0f8ff;}#sk-container-id-2 div.sk-toggleable__content pre {margin: 0.2em;color: black;border-radius: 0.25em;background-color: #f0f8ff;}#sk-container-id-2 input.sk-toggleable__control:checked~div.sk-toggleable__content {max-height: 200px;max-width: 100%;overflow: auto;}#sk-container-id-2 input.sk-toggleable__control:checked~label.sk-toggleable__label-arrow:before {content: \"▾\";}#sk-container-id-2 div.sk-estimator input.sk-toggleable__control:checked~label.sk-toggleable__label {background-color: #d4ebff;}#sk-container-id-2 div.sk-label input.sk-toggleable__control:checked~label.sk-toggleable__label {background-color: #d4ebff;}#sk-container-id-2 input.sk-hidden--visually {border: 0;clip: rect(1px 1px 1px 1px);clip: rect(1px, 1px, 1px, 1px);height: 1px;margin: -1px;overflow: hidden;padding: 0;position: absolute;width: 1px;}#sk-container-id-2 div.sk-estimator {font-family: monospace;background-color: #f0f8ff;border: 1px dotted black;border-radius: 0.25em;box-sizing: border-box;margin-bottom: 0.5em;}#sk-container-id-2 div.sk-estimator:hover {background-color: #d4ebff;}#sk-container-id-2 div.sk-parallel-item::after {content: \"\";width: 100%;border-bottom: 1px solid gray;flex-grow: 1;}#sk-container-id-2 div.sk-label:hover label.sk-toggleable__label {background-color: #d4ebff;}#sk-container-id-2 div.sk-serial::before {content: \"\";position: absolute;border-left: 1px solid gray;box-sizing: border-box;top: 0;bottom: 0;left: 50%;z-index: 0;}#sk-container-id-2 div.sk-serial {display: flex;flex-direction: column;align-items: center;background-color: white;padding-right: 0.2em;padding-left: 0.2em;position: relative;}#sk-container-id-2 div.sk-item {position: relative;z-index: 1;}#sk-container-id-2 div.sk-parallel {display: flex;align-items: stretch;justify-content: center;background-color: white;position: relative;}#sk-container-id-2 div.sk-item::before, #sk-container-id-2 div.sk-parallel-item::before {content: \"\";position: absolute;border-left: 1px solid gray;box-sizing: border-box;top: 0;bottom: 0;left: 50%;z-index: -1;}#sk-container-id-2 div.sk-parallel-item {display: flex;flex-direction: column;z-index: 1;position: relative;background-color: white;}#sk-container-id-2 div.sk-parallel-item:first-child::after {align-self: flex-end;width: 50%;}#sk-container-id-2 div.sk-parallel-item:last-child::after {align-self: flex-start;width: 50%;}#sk-container-id-2 div.sk-parallel-item:only-child::after {width: 0;}#sk-container-id-2 div.sk-dashed-wrapped {border: 1px dashed gray;margin: 0 0.4em 0.5em 0.4em;box-sizing: border-box;padding-bottom: 0.4em;background-color: white;}#sk-container-id-2 div.sk-label label {font-family: monospace;font-weight: bold;display: inline-block;line-height: 1.2em;}#sk-container-id-2 div.sk-label-container {text-align: center;}#sk-container-id-2 div.sk-container {/* jupyter's `normalize.less` sets `[hidden] { display: none; }` but bootstrap.min.css set `[hidden] { display: none !important; }` so we also need the `!important` here to be able to override the default hidden behavior on the sphinx rendered scikit-learn.org. See: https://github.com/scikit-learn/scikit-learn/issues/21755 */display: inline-block !important;position: relative;}#sk-container-id-2 div.sk-text-repr-fallback {display: none;}</style><div id=\"sk-container-id-2\" class=\"sk-top-container\"><div class=\"sk-text-repr-fallback\"><pre>RandomForestClassifier(random_state=1)</pre><b>In a Jupyter environment, please rerun this cell to show the HTML representation or trust the notebook. <br />On GitHub, the HTML representation is unable to render, please try loading this page with nbviewer.org.</b></div><div class=\"sk-container\" hidden><div class=\"sk-item\"><div class=\"sk-estimator sk-toggleable\"><input class=\"sk-toggleable__control sk-hidden--visually\" id=\"sk-estimator-id-2\" type=\"checkbox\" checked><label for=\"sk-estimator-id-2\" class=\"sk-toggleable__label sk-toggleable__label-arrow\">RandomForestClassifier</label><div class=\"sk-toggleable__content\"><pre>RandomForestClassifier(random_state=1)</pre></div></div></div></div></div>"
      ],
      "text/plain": [
       "RandomForestClassifier(random_state=1)"
      ]
     },
     "execution_count": 32,
     "metadata": {},
     "output_type": "execute_result"
    }
   ],
   "source": [
    "model6"
   ]
  },
  {
   "cell_type": "code",
   "execution_count": 33,
   "metadata": {},
   "outputs": [
    {
     "data": {
      "text/html": [
       "<style>#sk-container-id-3 {color: black;background-color: white;}#sk-container-id-3 pre{padding: 0;}#sk-container-id-3 div.sk-toggleable {background-color: white;}#sk-container-id-3 label.sk-toggleable__label {cursor: pointer;display: block;width: 100%;margin-bottom: 0;padding: 0.3em;box-sizing: border-box;text-align: center;}#sk-container-id-3 label.sk-toggleable__label-arrow:before {content: \"▸\";float: left;margin-right: 0.25em;color: #696969;}#sk-container-id-3 label.sk-toggleable__label-arrow:hover:before {color: black;}#sk-container-id-3 div.sk-estimator:hover label.sk-toggleable__label-arrow:before {color: black;}#sk-container-id-3 div.sk-toggleable__content {max-height: 0;max-width: 0;overflow: hidden;text-align: left;background-color: #f0f8ff;}#sk-container-id-3 div.sk-toggleable__content pre {margin: 0.2em;color: black;border-radius: 0.25em;background-color: #f0f8ff;}#sk-container-id-3 input.sk-toggleable__control:checked~div.sk-toggleable__content {max-height: 200px;max-width: 100%;overflow: auto;}#sk-container-id-3 input.sk-toggleable__control:checked~label.sk-toggleable__label-arrow:before {content: \"▾\";}#sk-container-id-3 div.sk-estimator input.sk-toggleable__control:checked~label.sk-toggleable__label {background-color: #d4ebff;}#sk-container-id-3 div.sk-label input.sk-toggleable__control:checked~label.sk-toggleable__label {background-color: #d4ebff;}#sk-container-id-3 input.sk-hidden--visually {border: 0;clip: rect(1px 1px 1px 1px);clip: rect(1px, 1px, 1px, 1px);height: 1px;margin: -1px;overflow: hidden;padding: 0;position: absolute;width: 1px;}#sk-container-id-3 div.sk-estimator {font-family: monospace;background-color: #f0f8ff;border: 1px dotted black;border-radius: 0.25em;box-sizing: border-box;margin-bottom: 0.5em;}#sk-container-id-3 div.sk-estimator:hover {background-color: #d4ebff;}#sk-container-id-3 div.sk-parallel-item::after {content: \"\";width: 100%;border-bottom: 1px solid gray;flex-grow: 1;}#sk-container-id-3 div.sk-label:hover label.sk-toggleable__label {background-color: #d4ebff;}#sk-container-id-3 div.sk-serial::before {content: \"\";position: absolute;border-left: 1px solid gray;box-sizing: border-box;top: 0;bottom: 0;left: 50%;z-index: 0;}#sk-container-id-3 div.sk-serial {display: flex;flex-direction: column;align-items: center;background-color: white;padding-right: 0.2em;padding-left: 0.2em;position: relative;}#sk-container-id-3 div.sk-item {position: relative;z-index: 1;}#sk-container-id-3 div.sk-parallel {display: flex;align-items: stretch;justify-content: center;background-color: white;position: relative;}#sk-container-id-3 div.sk-item::before, #sk-container-id-3 div.sk-parallel-item::before {content: \"\";position: absolute;border-left: 1px solid gray;box-sizing: border-box;top: 0;bottom: 0;left: 50%;z-index: -1;}#sk-container-id-3 div.sk-parallel-item {display: flex;flex-direction: column;z-index: 1;position: relative;background-color: white;}#sk-container-id-3 div.sk-parallel-item:first-child::after {align-self: flex-end;width: 50%;}#sk-container-id-3 div.sk-parallel-item:last-child::after {align-self: flex-start;width: 50%;}#sk-container-id-3 div.sk-parallel-item:only-child::after {width: 0;}#sk-container-id-3 div.sk-dashed-wrapped {border: 1px dashed gray;margin: 0 0.4em 0.5em 0.4em;box-sizing: border-box;padding-bottom: 0.4em;background-color: white;}#sk-container-id-3 div.sk-label label {font-family: monospace;font-weight: bold;display: inline-block;line-height: 1.2em;}#sk-container-id-3 div.sk-label-container {text-align: center;}#sk-container-id-3 div.sk-container {/* jupyter's `normalize.less` sets `[hidden] { display: none; }` but bootstrap.min.css set `[hidden] { display: none !important; }` so we also need the `!important` here to be able to override the default hidden behavior on the sphinx rendered scikit-learn.org. See: https://github.com/scikit-learn/scikit-learn/issues/21755 */display: inline-block !important;position: relative;}#sk-container-id-3 div.sk-text-repr-fallback {display: none;}</style><div id=\"sk-container-id-3\" class=\"sk-top-container\"><div class=\"sk-text-repr-fallback\"><pre>RandomForestRegressor(n_estimators=20, random_state=1502)</pre><b>In a Jupyter environment, please rerun this cell to show the HTML representation or trust the notebook. <br />On GitHub, the HTML representation is unable to render, please try loading this page with nbviewer.org.</b></div><div class=\"sk-container\" hidden><div class=\"sk-item\"><div class=\"sk-estimator sk-toggleable\"><input class=\"sk-toggleable__control sk-hidden--visually\" id=\"sk-estimator-id-3\" type=\"checkbox\" checked><label for=\"sk-estimator-id-3\" class=\"sk-toggleable__label sk-toggleable__label-arrow\">RandomForestRegressor</label><div class=\"sk-toggleable__content\"><pre>RandomForestRegressor(n_estimators=20, random_state=1502)</pre></div></div></div></div></div>"
      ],
      "text/plain": [
       "RandomForestRegressor(n_estimators=20, random_state=1502)"
      ]
     },
     "execution_count": 33,
     "metadata": {},
     "output_type": "execute_result"
    }
   ],
   "source": [
    "from sklearn.ensemble import RandomForestRegressor\n",
    "model = RandomForestRegressor(n_estimators=20,random_state = 1502)\n",
    "\n",
    "model.fit(x_train,y_train)"
   ]
  },
  {
   "cell_type": "code",
   "execution_count": 34,
   "metadata": {},
   "outputs": [
    {
     "name": "stderr",
     "output_type": "stream",
     "text": [
      "c:\\Users\\sneha.kumar\\AppData\\Local\\Programs\\Python\\Python39\\lib\\site-packages\\shap\\utils\\_clustering.py:35: NumbaDeprecationWarning: \u001b[1mThe 'nopython' keyword argument was not supplied to the 'numba.jit' decorator. The implicit default value for this argument is currently False, but it will be changed to True in Numba 0.59.0. See https://numba.readthedocs.io/en/stable/reference/deprecation.html#deprecation-of-object-mode-fall-back-behaviour-when-using-jit for details.\u001b[0m\n",
      "  def _pt_shuffle_rec(i, indexes, index_mask, partition_tree, M, pos):\n",
      "c:\\Users\\sneha.kumar\\AppData\\Local\\Programs\\Python\\Python39\\lib\\site-packages\\shap\\utils\\_clustering.py:54: NumbaDeprecationWarning: \u001b[1mThe 'nopython' keyword argument was not supplied to the 'numba.jit' decorator. The implicit default value for this argument is currently False, but it will be changed to True in Numba 0.59.0. See https://numba.readthedocs.io/en/stable/reference/deprecation.html#deprecation-of-object-mode-fall-back-behaviour-when-using-jit for details.\u001b[0m\n",
      "  def delta_minimization_order(all_masks, max_swap_size=100, num_passes=2):\n",
      "c:\\Users\\sneha.kumar\\AppData\\Local\\Programs\\Python\\Python39\\lib\\site-packages\\shap\\utils\\_clustering.py:63: NumbaDeprecationWarning: \u001b[1mThe 'nopython' keyword argument was not supplied to the 'numba.jit' decorator. The implicit default value for this argument is currently False, but it will be changed to True in Numba 0.59.0. See https://numba.readthedocs.io/en/stable/reference/deprecation.html#deprecation-of-object-mode-fall-back-behaviour-when-using-jit for details.\u001b[0m\n",
      "  def _reverse_window(order, start, length):\n",
      "c:\\Users\\sneha.kumar\\AppData\\Local\\Programs\\Python\\Python39\\lib\\site-packages\\shap\\utils\\_clustering.py:69: NumbaDeprecationWarning: \u001b[1mThe 'nopython' keyword argument was not supplied to the 'numba.jit' decorator. The implicit default value for this argument is currently False, but it will be changed to True in Numba 0.59.0. See https://numba.readthedocs.io/en/stable/reference/deprecation.html#deprecation-of-object-mode-fall-back-behaviour-when-using-jit for details.\u001b[0m\n",
      "  def _reverse_window_score_gain(masks, order, start, length):\n",
      "c:\\Users\\sneha.kumar\\AppData\\Local\\Programs\\Python\\Python39\\lib\\site-packages\\shap\\utils\\_clustering.py:77: NumbaDeprecationWarning: \u001b[1mThe 'nopython' keyword argument was not supplied to the 'numba.jit' decorator. The implicit default value for this argument is currently False, but it will be changed to True in Numba 0.59.0. See https://numba.readthedocs.io/en/stable/reference/deprecation.html#deprecation-of-object-mode-fall-back-behaviour-when-using-jit for details.\u001b[0m\n",
      "  def _mask_delta_score(m1, m2):\n",
      "c:\\Users\\sneha.kumar\\AppData\\Local\\Programs\\Python\\Python39\\lib\\site-packages\\shap\\links.py:5: NumbaDeprecationWarning: \u001b[1mThe 'nopython' keyword argument was not supplied to the 'numba.jit' decorator. The implicit default value for this argument is currently False, but it will be changed to True in Numba 0.59.0. See https://numba.readthedocs.io/en/stable/reference/deprecation.html#deprecation-of-object-mode-fall-back-behaviour-when-using-jit for details.\u001b[0m\n",
      "  def identity(x):\n",
      "c:\\Users\\sneha.kumar\\AppData\\Local\\Programs\\Python\\Python39\\lib\\site-packages\\shap\\links.py:10: NumbaDeprecationWarning: \u001b[1mThe 'nopython' keyword argument was not supplied to the 'numba.jit' decorator. The implicit default value for this argument is currently False, but it will be changed to True in Numba 0.59.0. See https://numba.readthedocs.io/en/stable/reference/deprecation.html#deprecation-of-object-mode-fall-back-behaviour-when-using-jit for details.\u001b[0m\n",
      "  def _identity_inverse(x):\n",
      "c:\\Users\\sneha.kumar\\AppData\\Local\\Programs\\Python\\Python39\\lib\\site-packages\\shap\\links.py:15: NumbaDeprecationWarning: \u001b[1mThe 'nopython' keyword argument was not supplied to the 'numba.jit' decorator. The implicit default value for this argument is currently False, but it will be changed to True in Numba 0.59.0. See https://numba.readthedocs.io/en/stable/reference/deprecation.html#deprecation-of-object-mode-fall-back-behaviour-when-using-jit for details.\u001b[0m\n",
      "  def logit(x):\n",
      "c:\\Users\\sneha.kumar\\AppData\\Local\\Programs\\Python\\Python39\\lib\\site-packages\\shap\\links.py:20: NumbaDeprecationWarning: \u001b[1mThe 'nopython' keyword argument was not supplied to the 'numba.jit' decorator. The implicit default value for this argument is currently False, but it will be changed to True in Numba 0.59.0. See https://numba.readthedocs.io/en/stable/reference/deprecation.html#deprecation-of-object-mode-fall-back-behaviour-when-using-jit for details.\u001b[0m\n",
      "  def _logit_inverse(x):\n",
      "c:\\Users\\sneha.kumar\\AppData\\Local\\Programs\\Python\\Python39\\lib\\site-packages\\shap\\utils\\_masked_model.py:363: NumbaDeprecationWarning: \u001b[1mThe 'nopython' keyword argument was not supplied to the 'numba.jit' decorator. The implicit default value for this argument is currently False, but it will be changed to True in Numba 0.59.0. See https://numba.readthedocs.io/en/stable/reference/deprecation.html#deprecation-of-object-mode-fall-back-behaviour-when-using-jit for details.\u001b[0m\n",
      "  def _build_fixed_single_output(averaged_outs, last_outs, outputs, batch_positions, varying_rows, num_varying_rows, link, linearizing_weights):\n",
      "c:\\Users\\sneha.kumar\\AppData\\Local\\Programs\\Python\\Python39\\lib\\site-packages\\shap\\utils\\_masked_model.py:385: NumbaDeprecationWarning: \u001b[1mThe 'nopython' keyword argument was not supplied to the 'numba.jit' decorator. The implicit default value for this argument is currently False, but it will be changed to True in Numba 0.59.0. See https://numba.readthedocs.io/en/stable/reference/deprecation.html#deprecation-of-object-mode-fall-back-behaviour-when-using-jit for details.\u001b[0m\n",
      "  def _build_fixed_multi_output(averaged_outs, last_outs, outputs, batch_positions, varying_rows, num_varying_rows, link, linearizing_weights):\n",
      "c:\\Users\\sneha.kumar\\AppData\\Local\\Programs\\Python\\Python39\\lib\\site-packages\\shap\\utils\\_masked_model.py:428: NumbaDeprecationWarning: \u001b[1mThe 'nopython' keyword argument was not supplied to the 'numba.jit' decorator. The implicit default value for this argument is currently False, but it will be changed to True in Numba 0.59.0. See https://numba.readthedocs.io/en/stable/reference/deprecation.html#deprecation-of-object-mode-fall-back-behaviour-when-using-jit for details.\u001b[0m\n",
      "  def _init_masks(cluster_matrix, M, indices_row_pos, indptr):\n",
      "c:\\Users\\sneha.kumar\\AppData\\Local\\Programs\\Python\\Python39\\lib\\site-packages\\shap\\utils\\_masked_model.py:439: NumbaDeprecationWarning: \u001b[1mThe 'nopython' keyword argument was not supplied to the 'numba.jit' decorator. The implicit default value for this argument is currently False, but it will be changed to True in Numba 0.59.0. See https://numba.readthedocs.io/en/stable/reference/deprecation.html#deprecation-of-object-mode-fall-back-behaviour-when-using-jit for details.\u001b[0m\n",
      "  def _rec_fill_masks(cluster_matrix, indices_row_pos, indptr, indices, M, ind):\n",
      "c:\\Users\\sneha.kumar\\AppData\\Local\\Programs\\Python\\Python39\\lib\\site-packages\\shap\\maskers\\_tabular.py:186: NumbaDeprecationWarning: \u001b[1mThe 'nopython' keyword argument was not supplied to the 'numba.jit' decorator. The implicit default value for this argument is currently False, but it will be changed to True in Numba 0.59.0. See https://numba.readthedocs.io/en/stable/reference/deprecation.html#deprecation-of-object-mode-fall-back-behaviour-when-using-jit for details.\u001b[0m\n",
      "  def _single_delta_mask(dind, masked_inputs, last_mask, data, x, noop_code):\n",
      "c:\\Users\\sneha.kumar\\AppData\\Local\\Programs\\Python\\Python39\\lib\\site-packages\\shap\\maskers\\_tabular.py:197: NumbaDeprecationWarning: \u001b[1mThe 'nopython' keyword argument was not supplied to the 'numba.jit' decorator. The implicit default value for this argument is currently False, but it will be changed to True in Numba 0.59.0. See https://numba.readthedocs.io/en/stable/reference/deprecation.html#deprecation-of-object-mode-fall-back-behaviour-when-using-jit for details.\u001b[0m\n",
      "  def _delta_masking(masks, x, curr_delta_inds, varying_rows_out,\n",
      "c:\\Users\\sneha.kumar\\AppData\\Local\\Programs\\Python\\Python39\\lib\\site-packages\\shap\\maskers\\_image.py:175: NumbaDeprecationWarning: \u001b[1mThe 'nopython' keyword argument was not supplied to the 'numba.jit' decorator. The implicit default value for this argument is currently False, but it will be changed to True in Numba 0.59.0. See https://numba.readthedocs.io/en/stable/reference/deprecation.html#deprecation-of-object-mode-fall-back-behaviour-when-using-jit for details.\u001b[0m\n",
      "  def _jit_build_partition_tree(xmin, xmax, ymin, ymax, zmin, zmax, total_ywidth, total_zwidth, M, clustering, q):\n",
      "c:\\Users\\sneha.kumar\\AppData\\Local\\Programs\\Python\\Python39\\lib\\site-packages\\tqdm\\auto.py:21: TqdmWarning: IProgress not found. Please update jupyter and ipywidgets. See https://ipywidgets.readthedocs.io/en/stable/user_install.html\n",
      "  from .autonotebook import tqdm as notebook_tqdm\n",
      "c:\\Users\\sneha.kumar\\AppData\\Local\\Programs\\Python\\Python39\\lib\\site-packages\\shap\\explainers\\_partition.py:676: NumbaDeprecationWarning: \u001b[1mThe 'nopython' keyword argument was not supplied to the 'numba.jit' decorator. The implicit default value for this argument is currently False, but it will be changed to True in Numba 0.59.0. See https://numba.readthedocs.io/en/stable/reference/deprecation.html#deprecation-of-object-mode-fall-back-behaviour-when-using-jit for details.\u001b[0m\n",
      "  def lower_credit(i, value, M, values, clustering):\n",
      "\u001b[1mThe 'nopython' keyword argument was not supplied to the 'numba.jit' decorator. The implicit default value for this argument is currently False, but it will be changed to True in Numba 0.59.0. See https://numba.readthedocs.io/en/stable/reference/deprecation.html#deprecation-of-object-mode-fall-back-behaviour-when-using-jit for details.\u001b[0m\n",
      "\u001b[1mThe 'nopython' keyword argument was not supplied to the 'numba.jit' decorator. The implicit default value for this argument is currently False, but it will be changed to True in Numba 0.59.0. See https://numba.readthedocs.io/en/stable/reference/deprecation.html#deprecation-of-object-mode-fall-back-behaviour-when-using-jit for details.\u001b[0m\n",
      "X does not have valid feature names, but RandomForestRegressor was fitted with feature names\n"
     ]
    }
   ],
   "source": [
    "import shap\n",
    "explainer = shap.KernelExplainer(model.predict,x_test)"
   ]
  },
  {
   "cell_type": "code",
   "execution_count": 35,
   "metadata": {},
   "outputs": [
    {
     "name": "stderr",
     "output_type": "stream",
     "text": [
      "In the future `np.bool` will be defined as the corresponding NumPy scalar.  (This may have returned Python scalars in past versions.\n"
     ]
    },
    {
     "ename": "AttributeError",
     "evalue": "module 'numpy' has no attribute 'bool'",
     "output_type": "error",
     "traceback": [
      "\u001b[1;31m---------------------------------------------------------------------------\u001b[0m",
      "\u001b[1;31mAttributeError\u001b[0m                            Traceback (most recent call last)",
      "Cell \u001b[1;32mIn[35], line 9\u001b[0m\n\u001b[0;32m      7\u001b[0m \u001b[39m# Compute SHAP values\u001b[39;00m\n\u001b[0;32m      8\u001b[0m explainer \u001b[39m=\u001b[39m shap\u001b[39m.\u001b[39mExplainer(model)\n\u001b[1;32m----> 9\u001b[0m shap_values \u001b[39m=\u001b[39m explainer\u001b[39m.\u001b[39;49mshap_values(x_test_df)\n\u001b[0;32m     11\u001b[0m \u001b[39m# Summarize the effects of all features\u001b[39;00m\n\u001b[0;32m     12\u001b[0m shap\u001b[39m.\u001b[39msummary_plot(shap_values, x_test_df)\n",
      "File \u001b[1;32mc:\\Users\\sneha.kumar\\AppData\\Local\\Programs\\Python\\Python39\\lib\\site-packages\\shap\\explainers\\_tree.py:384\u001b[0m, in \u001b[0;36mTree.shap_values\u001b[1;34m(self, X, y, tree_limit, approximate, check_additivity, from_call)\u001b[0m\n\u001b[0;32m    380\u001b[0m             \u001b[39mself\u001b[39m\u001b[39m.\u001b[39massert_additivity(out, model_output_vals)\n\u001b[0;32m    382\u001b[0m         \u001b[39mreturn\u001b[39;00m out\n\u001b[1;32m--> 384\u001b[0m X, y, X_missing, flat_output, tree_limit, check_additivity \u001b[39m=\u001b[39m \u001b[39mself\u001b[39;49m\u001b[39m.\u001b[39;49m_validate_inputs(X, y,\n\u001b[0;32m    385\u001b[0m                                                                                    tree_limit,\n\u001b[0;32m    386\u001b[0m                                                                                    check_additivity)\n\u001b[0;32m    387\u001b[0m transform \u001b[39m=\u001b[39m \u001b[39mself\u001b[39m\u001b[39m.\u001b[39mmodel\u001b[39m.\u001b[39mget_transform()\n\u001b[0;32m    389\u001b[0m \u001b[39m# run the core algorithm using the C extension\u001b[39;00m\n",
      "File \u001b[1;32mc:\\Users\\sneha.kumar\\AppData\\Local\\Programs\\Python\\Python39\\lib\\site-packages\\shap\\explainers\\_tree.py:250\u001b[0m, in \u001b[0;36mTree._validate_inputs\u001b[1;34m(self, X, y, tree_limit, check_additivity)\u001b[0m\n\u001b[0;32m    248\u001b[0m \u001b[39mif\u001b[39;00m X\u001b[39m.\u001b[39mdtype \u001b[39m!=\u001b[39m \u001b[39mself\u001b[39m\u001b[39m.\u001b[39mmodel\u001b[39m.\u001b[39minput_dtype:\n\u001b[0;32m    249\u001b[0m     X \u001b[39m=\u001b[39m X\u001b[39m.\u001b[39mastype(\u001b[39mself\u001b[39m\u001b[39m.\u001b[39mmodel\u001b[39m.\u001b[39minput_dtype)\n\u001b[1;32m--> 250\u001b[0m X_missing \u001b[39m=\u001b[39m np\u001b[39m.\u001b[39misnan(X, dtype\u001b[39m=\u001b[39mnp\u001b[39m.\u001b[39;49mbool)\n\u001b[0;32m    251\u001b[0m \u001b[39massert\u001b[39;00m \u001b[39misinstance\u001b[39m(X, np\u001b[39m.\u001b[39mndarray), \u001b[39m\"\u001b[39m\u001b[39mUnknown instance type: \u001b[39m\u001b[39m\"\u001b[39m \u001b[39m+\u001b[39m \u001b[39mstr\u001b[39m(\u001b[39mtype\u001b[39m(X))\n\u001b[0;32m    252\u001b[0m \u001b[39massert\u001b[39;00m \u001b[39mlen\u001b[39m(X\u001b[39m.\u001b[39mshape) \u001b[39m==\u001b[39m \u001b[39m2\u001b[39m, \u001b[39m\"\u001b[39m\u001b[39mPassed input data matrix X must have 1 or 2 dimensions!\u001b[39m\u001b[39m\"\u001b[39m\n",
      "File \u001b[1;32mc:\\Users\\sneha.kumar\\AppData\\Local\\Programs\\Python\\Python39\\lib\\site-packages\\numpy\\__init__.py:284\u001b[0m, in \u001b[0;36m__getattr__\u001b[1;34m(attr)\u001b[0m\n\u001b[0;32m    281\u001b[0m     \u001b[39mfrom\u001b[39;00m \u001b[39m.\u001b[39;00m\u001b[39mtesting\u001b[39;00m \u001b[39mimport\u001b[39;00m Tester\n\u001b[0;32m    282\u001b[0m     \u001b[39mreturn\u001b[39;00m Tester\n\u001b[1;32m--> 284\u001b[0m \u001b[39mraise\u001b[39;00m \u001b[39mAttributeError\u001b[39;00m(\u001b[39m\"\u001b[39m\u001b[39mmodule \u001b[39m\u001b[39m{!r}\u001b[39;00m\u001b[39m has no attribute \u001b[39m\u001b[39m\"\u001b[39m\n\u001b[0;32m    285\u001b[0m                      \u001b[39m\"\u001b[39m\u001b[39m{!r}\u001b[39;00m\u001b[39m\"\u001b[39m\u001b[39m.\u001b[39mformat(\u001b[39m__name__\u001b[39m, attr))\n",
      "\u001b[1;31mAttributeError\u001b[0m: module 'numpy' has no attribute 'bool'"
     ]
    }
   ],
   "source": [
    "# Convert x_test array to DataFrame with feature names\n",
    "x_test_df = pd.DataFrame(x_test, columns=x_train.columns)\n",
    "\n",
    "# Get predictions\n",
    "y_pred = model.predict(x_test)\n",
    "\n",
    "# Compute SHAP values\n",
    "explainer = shap.Explainer(model)\n",
    "shap_values = explainer.shap_values(x_test_df)\n",
    "\n",
    "# Summarize the effects of all features\n",
    "shap.summary_plot(shap_values, x_test_df)\n",
    "\n",
    "# Calculate and print mean squared error\n",
    "mse = mean_squared_error(y_test, y_pred)\n",
    "print(\"Mean Squared Error:\", mse)"
   ]
  },
  {
   "cell_type": "code",
   "execution_count": null,
   "metadata": {},
   "outputs": [],
   "source": [
    "x_test.head()"
   ]
  },
  {
   "cell_type": "code",
   "execution_count": 36,
   "metadata": {},
   "outputs": [
    {
     "name": "stderr",
     "output_type": "stream",
     "text": [
      "In the future `np.bool` will be defined as the corresponding NumPy scalar.  (This may have returned Python scalars in past versions.\n"
     ]
    },
    {
     "ename": "AttributeError",
     "evalue": "module 'numpy' has no attribute 'bool'",
     "output_type": "error",
     "traceback": [
      "\u001b[1;31m---------------------------------------------------------------------------\u001b[0m",
      "\u001b[1;31mAttributeError\u001b[0m                            Traceback (most recent call last)",
      "Cell \u001b[1;32mIn[36], line 3\u001b[0m\n\u001b[0;32m      1\u001b[0m \u001b[39m#local interpretability\u001b[39;00m\n\u001b[0;32m      2\u001b[0m instance \u001b[39m=\u001b[39m x_test\u001b[39m.\u001b[39mloc[[\u001b[39m105\u001b[39m]]\n\u001b[1;32m----> 3\u001b[0m shap_instance \u001b[39m=\u001b[39m explainer\u001b[39m.\u001b[39;49mshap_values(instance)\n\u001b[0;32m      4\u001b[0m shap\u001b[39m.\u001b[39minitjs()\n\u001b[0;32m      5\u001b[0m shap\u001b[39m.\u001b[39mforce_plot(explainer\u001b[39m.\u001b[39mexpected_value,shap_instance,instance)\n",
      "File \u001b[1;32mc:\\Users\\sneha.kumar\\AppData\\Local\\Programs\\Python\\Python39\\lib\\site-packages\\shap\\explainers\\_tree.py:384\u001b[0m, in \u001b[0;36mTree.shap_values\u001b[1;34m(self, X, y, tree_limit, approximate, check_additivity, from_call)\u001b[0m\n\u001b[0;32m    380\u001b[0m             \u001b[39mself\u001b[39m\u001b[39m.\u001b[39massert_additivity(out, model_output_vals)\n\u001b[0;32m    382\u001b[0m         \u001b[39mreturn\u001b[39;00m out\n\u001b[1;32m--> 384\u001b[0m X, y, X_missing, flat_output, tree_limit, check_additivity \u001b[39m=\u001b[39m \u001b[39mself\u001b[39;49m\u001b[39m.\u001b[39;49m_validate_inputs(X, y,\n\u001b[0;32m    385\u001b[0m                                                                                    tree_limit,\n\u001b[0;32m    386\u001b[0m                                                                                    check_additivity)\n\u001b[0;32m    387\u001b[0m transform \u001b[39m=\u001b[39m \u001b[39mself\u001b[39m\u001b[39m.\u001b[39mmodel\u001b[39m.\u001b[39mget_transform()\n\u001b[0;32m    389\u001b[0m \u001b[39m# run the core algorithm using the C extension\u001b[39;00m\n",
      "File \u001b[1;32mc:\\Users\\sneha.kumar\\AppData\\Local\\Programs\\Python\\Python39\\lib\\site-packages\\shap\\explainers\\_tree.py:250\u001b[0m, in \u001b[0;36mTree._validate_inputs\u001b[1;34m(self, X, y, tree_limit, check_additivity)\u001b[0m\n\u001b[0;32m    248\u001b[0m \u001b[39mif\u001b[39;00m X\u001b[39m.\u001b[39mdtype \u001b[39m!=\u001b[39m \u001b[39mself\u001b[39m\u001b[39m.\u001b[39mmodel\u001b[39m.\u001b[39minput_dtype:\n\u001b[0;32m    249\u001b[0m     X \u001b[39m=\u001b[39m X\u001b[39m.\u001b[39mastype(\u001b[39mself\u001b[39m\u001b[39m.\u001b[39mmodel\u001b[39m.\u001b[39minput_dtype)\n\u001b[1;32m--> 250\u001b[0m X_missing \u001b[39m=\u001b[39m np\u001b[39m.\u001b[39misnan(X, dtype\u001b[39m=\u001b[39mnp\u001b[39m.\u001b[39;49mbool)\n\u001b[0;32m    251\u001b[0m \u001b[39massert\u001b[39;00m \u001b[39misinstance\u001b[39m(X, np\u001b[39m.\u001b[39mndarray), \u001b[39m\"\u001b[39m\u001b[39mUnknown instance type: \u001b[39m\u001b[39m\"\u001b[39m \u001b[39m+\u001b[39m \u001b[39mstr\u001b[39m(\u001b[39mtype\u001b[39m(X))\n\u001b[0;32m    252\u001b[0m \u001b[39massert\u001b[39;00m \u001b[39mlen\u001b[39m(X\u001b[39m.\u001b[39mshape) \u001b[39m==\u001b[39m \u001b[39m2\u001b[39m, \u001b[39m\"\u001b[39m\u001b[39mPassed input data matrix X must have 1 or 2 dimensions!\u001b[39m\u001b[39m\"\u001b[39m\n",
      "File \u001b[1;32mc:\\Users\\sneha.kumar\\AppData\\Local\\Programs\\Python\\Python39\\lib\\site-packages\\numpy\\__init__.py:284\u001b[0m, in \u001b[0;36m__getattr__\u001b[1;34m(attr)\u001b[0m\n\u001b[0;32m    281\u001b[0m     \u001b[39mfrom\u001b[39;00m \u001b[39m.\u001b[39;00m\u001b[39mtesting\u001b[39;00m \u001b[39mimport\u001b[39;00m Tester\n\u001b[0;32m    282\u001b[0m     \u001b[39mreturn\u001b[39;00m Tester\n\u001b[1;32m--> 284\u001b[0m \u001b[39mraise\u001b[39;00m \u001b[39mAttributeError\u001b[39;00m(\u001b[39m\"\u001b[39m\u001b[39mmodule \u001b[39m\u001b[39m{!r}\u001b[39;00m\u001b[39m has no attribute \u001b[39m\u001b[39m\"\u001b[39m\n\u001b[0;32m    285\u001b[0m                      \u001b[39m\"\u001b[39m\u001b[39m{!r}\u001b[39;00m\u001b[39m\"\u001b[39m\u001b[39m.\u001b[39mformat(\u001b[39m__name__\u001b[39m, attr))\n",
      "\u001b[1;31mAttributeError\u001b[0m: module 'numpy' has no attribute 'bool'"
     ]
    }
   ],
   "source": [
    "#local interpretability\n",
    "instance = x_test.loc[[105]]\n",
    "shap_instance = explainer.shap_values(instance)\n",
    "shap.initjs()\n",
    "shap.force_plot(explainer.expected_value,shap_instance,instance)"
   ]
  },
  {
   "cell_type": "code",
   "execution_count": null,
   "metadata": {},
   "outputs": [],
   "source": [
    "import shap\n",
    "import numpy as np\n",
    "import pandas as pd\n",
    "from sklearn.metrics import classification_report \n",
    "from sklearn.ensemble import RandomForestClassifier\n",
    "\n",
    "# Assuming you have already split your data into x_train, x_test, y_train, y_test\n",
    "\n",
    "# Train the random forest model\n",
    "model6 = RandomForestClassifier(random_state=1)\n",
    "model6.fit(x_train, y_train)\n",
    "\n",
    "# Convert x_test array to DataFrame with feature names\n",
    "x_test_df = pd.DataFrame(x_test, columns=x_train.columns)\n",
    "\n",
    "# Get predictions\n",
    "y_pred6 = model6.predict(x_test)\n",
    "\n",
    "# Compute SHAP values\n",
    "explainer = shap.KernelExplainer(model6.predict, x_train)\n",
    "shap_values = explainer.shap_values(x_test_df)\n",
    "\n",
    "# Summarize the effects of all features\n",
    "shap.summary_plot(shap_values, x_test_df)\n",
    "\n",
    "# Print classification report\n",
    "print(classification_report(y_test, y_pred6))\n"
   ]
  },
  {
   "cell_type": "code",
   "execution_count": null,
   "metadata": {},
   "outputs": [],
   "source": []
  }
 ],
 "metadata": {
  "kernelspec": {
   "display_name": "Python 3",
   "language": "python",
   "name": "python3"
  },
  "language_info": {
   "codemirror_mode": {
    "name": "ipython",
    "version": 3
   },
   "file_extension": ".py",
   "mimetype": "text/x-python",
   "name": "python",
   "nbconvert_exporter": "python",
   "pygments_lexer": "ipython3",
   "version": "3.9.0"
  },
  "orig_nbformat": 4
 },
 "nbformat": 4,
 "nbformat_minor": 2
}
